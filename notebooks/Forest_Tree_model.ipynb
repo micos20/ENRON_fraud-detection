{
 "cells": [
  {
   "cell_type": "code",
   "execution_count": 2,
   "metadata": {},
   "outputs": [],
   "source": [
    "#!/usr/bin/python\n",
    "import sys\n",
    "sys.path.append(\"../tools/\")\n",
    "sys.path.append(\"../scripts/\")\n",
    "\n",
    "import matplotlib.pyplot as plt\n",
    "import pandas as pd\n",
    "import numpy as np\n",
    "import scipy.stats as stats\n",
    "from helper import get_features, predict_from_score, correlate, crt_plot, plt_precision_recall_vs_threshold, plt_precision_vs_recall, plot_roc_curve, flex_classifier \n",
    "\n",
    "import pickle\n",
    "\n",
    "from sklearn.metrics import confusion_matrix, precision_recall_curve, recall_score, precision_score, roc_curve, roc_auc_score\n",
    "from sklearn.model_selection import train_test_split, cross_val_predict, cross_val_score\n",
    "\n",
    "from feature_format import featureFormat, targetFeatureSplit\n",
    "from tester import dump_classifier_and_data, load_classifier_and_data, test_classifier\n",
    "\n",
    "MODELS = '../classifiers/'\n",
    "IMAGES = '../images/'\n",
    "DATA   = '../data/'"
   ]
  },
  {
   "cell_type": "markdown",
   "metadata": {},
   "source": [
    "----"
   ]
  },
  {
   "cell_type": "code",
   "execution_count": 3,
   "metadata": {},
   "outputs": [],
   "source": [
    "#############################\n",
    "### Task 1: Select what features you'll use.\n",
    "### features_list is a list of strings, each of which is a feature name.\n",
    "### The first feature must be \"poi\".\n",
    "# features_list = ['poi','salary'] # You will need to use more features\n",
    "payment_features = ['salary', 'bonus', 'long_term_incentive', 'deferred_income', 'deferral_payments', 'other', 'expenses', 'director_fees', 'total_payments']\n",
    "stock_features   = ['exercised_stock_options', 'restricted_stock', 'restricted_stock_deferred', 'total_stock_value']\n",
    "mail_features    = ['from_this_person_to_poi', 'from_poi_to_this_person', 'shared_receipt_with_poi']\n",
    "extra_features   = ['bonus_deferral_payments_rate', 'rest_stock_deferral_payments_rate', 'exer_stock_options_deferral_payments_rate',\n",
    "                    'long_term_incentive_total_payments_rate', 'bonus_total_payments_rate', 'exer_stock_options_total_payments_rate',\n",
    "                    'toPOI_rate', 'fromPOI_rate']\n",
    "extra_finance    = ['bonus_deferral_payments_rate', 'rest_stock_deferral_payments_rate', 'exer_stock_options_deferral_payments_rate',\n",
    "                    'long_term_incentive_total_payments_rate', 'bonus_total_payments_rate', 'exer_stock_options_total_payments_rate']\n",
    "extra_mail       = ['toPOI_rate', 'fromPOI_rate']\n",
    "feature_list = payment_features + stock_features + mail_features + extra_features"
   ]
  },
  {
   "cell_type": "code",
   "execution_count": 4,
   "metadata": {},
   "outputs": [],
   "source": [
    "### Load the dictionary containing the dataset\n",
    "my_data = pd.read_pickle(DATA+\"my_dataFrame.pkl\")\n",
    "# Divide data into features and labels \n",
    "y = my_data['poi'].copy().astype(np.uint8)\n",
    "X = my_data[feature_list].copy()\n",
    "# Split data into training and test set using stratified splitting\n",
    "X_train, X_test, y_train, y_test = train_test_split(X, y, test_size=0.30, random_state=77, stratify=y) "
   ]
  },
  {
   "cell_type": "markdown",
   "metadata": {},
   "source": [
    "----"
   ]
  },
  {
   "cell_type": "code",
   "execution_count": 5,
   "metadata": {},
   "outputs": [
    {
     "name": "stdout",
     "output_type": "stream",
     "text": [
      "Number of POIs in the test set: 6\n"
     ]
    }
   ],
   "source": [
    "# I spare 30% of the data as test set to have at least 5 'poi's in the test set. It's important to me to realize a high recall value, identifying as many 'poi's as possible.  \n",
    "print \"Number of POIs in the test set:\" , y_test.sum()"
   ]
  },
  {
   "cell_type": "code",
   "execution_count": 6,
   "metadata": {},
   "outputs": [],
   "source": [
    "# Save the order of insiders\n",
    "insiders_train = y_train.index\n",
    "insiders_test  = y_test.index"
   ]
  },
  {
   "cell_type": "code",
   "execution_count": 7,
   "metadata": {},
   "outputs": [],
   "source": [
    "# Dealing with missing values\n",
    "from sklearn.impute import SimpleImputer\n",
    "from sklearn.preprocessing import FunctionTransformer, StandardScaler, RobustScaler, PowerTransformer\n",
    "from sklearn.pipeline import Pipeline\n",
    "from sklearn.compose import ColumnTransformer"
   ]
  },
  {
   "cell_type": "markdown",
   "metadata": {},
   "source": [
    "### Imputation Stategies"
   ]
  },
  {
   "cell_type": "code",
   "execution_count": 8,
   "metadata": {},
   "outputs": [],
   "source": [
    "# I'd like to explore different strategies filling NAN values\n",
    "# Imputer_01:\n",
    "# Applies median to mail and extra NAN features and 0 to financial NAN features\n",
    "impute_01 = ColumnTransformer(\n",
    "     [('finance_data',  SimpleImputer(missing_values=np.nan, strategy='constant', fill_value=0.0), payment_features+stock_features),\n",
    "      ('mail_data',     SimpleImputer(missing_values=np.nan, strategy='median'), mail_features),\n",
    "      ('extra_finance', SimpleImputer(missing_values=np.nan, strategy='median'), extra_finance),\n",
    "      ('extra_mail',    SimpleImputer(missing_values=np.nan, strategy='median'), extra_mail)],\n",
    "     remainder='passthrough')\n",
    "# Imputer_02:\n",
    "# Applies median to all NAN features \n",
    "impute_02 = SimpleImputer(strategy='median')\n",
    "# Imputer_03:\n",
    "# Applies 0.0 to all NAN features\n",
    "impute_03 = SimpleImputer(strategy='constant', fill_value=0.0)\n",
    "# Imputer 04\n",
    "# Applies 0.0 to financial and extra_finance featurtes and median to 'mail_features' and 'extra_mail'\n",
    "impute_04 = ColumnTransformer(\n",
    "     [('finance_data',  SimpleImputer(missing_values=np.nan, strategy='constant', fill_value=0.0), payment_features+stock_features),\n",
    "      ('mail_data',     SimpleImputer(missing_values=np.nan, strategy='median'), mail_features),\n",
    "      ('extra_finance', SimpleImputer(missing_values=np.nan, strategy='constant', fill_value=0.0), extra_finance),\n",
    "      ('extra_mail',    SimpleImputer(missing_values=np.nan, strategy='median'), extra_mail)],\n",
    "     remainder='passthrough')\n",
    "# Imputer 05\n",
    "# Applies mean values to all NAN\n",
    "impute_05 = SimpleImputer(strategy='mean')\n",
    "imputers = [impute_01, impute_02, impute_03, impute_04, impute_05]"
   ]
  },
  {
   "cell_type": "markdown",
   "metadata": {},
   "source": [
    "### Scaling strategies"
   ]
  },
  {
   "cell_type": "code",
   "execution_count": 9,
   "metadata": {},
   "outputs": [],
   "source": [
    "def no_scaling(X):\n",
    "    return np.array(X)"
   ]
  },
  {
   "cell_type": "code",
   "execution_count": 10,
   "metadata": {},
   "outputs": [],
   "source": [
    "# Define different scaling strategies\n",
    "#no_scl     = FunctionTransformer(func=lambda x: np.array(x))\n",
    "no_scl     = FunctionTransformer(func=no_scaling)\n",
    "robust_scl = RobustScaler()\n",
    "std_scl    = StandardScaler()\n",
    "power_scl  = PowerTransformer(method='yeo-johnson')\n",
    "scalers = [no_scl, robust_scl, std_scl, power_scl]\n",
    "scaler_names = ['NO SCALING', 'ROBUST SCALER', 'STANDARD SCALER', 'POWER SCALER']"
   ]
  },
  {
   "cell_type": "markdown",
   "metadata": {},
   "source": [
    "----"
   ]
  },
  {
   "cell_type": "markdown",
   "metadata": {},
   "source": [
    "### Forest Tree"
   ]
  },
  {
   "cell_type": "code",
   "execution_count": 11,
   "metadata": {},
   "outputs": [],
   "source": [
    "from sklearn.ensemble import RandomForestClassifier"
   ]
  },
  {
   "cell_type": "code",
   "execution_count": 12,
   "metadata": {},
   "outputs": [],
   "source": [
    "RandF_clf = RandomForestClassifier(random_state=77, n_estimators=100, max_features=\"sqrt\", max_depth=None, min_samples_split=2, bootstrap=True)"
   ]
  },
  {
   "cell_type": "code",
   "execution_count": 13,
   "metadata": {},
   "outputs": [
    {
     "name": "stderr",
     "output_type": "stream",
     "text": [
      "C:\\Users\\micha\\Programs\\anaconda3\\envs\\py27\\lib\\site-packages\\sklearn\\preprocessing\\_function_transformer.py:98: FutureWarning: The default validate=True will be replaced by validate=False in 0.22.\n",
      "  \"validate=False in 0.22.\", FutureWarning)\n"
     ]
    }
   ],
   "source": [
    "# Build pipelines for imputation and scaling\n",
    "pipe_41 = Pipeline([ ('impute_04', impute_04), ('scale', no_scl) ])\n",
    "pipe_44 = Pipeline([ ('impute_04', impute_04), ('scale', power_scl) ])\n",
    "\n",
    "X_train_41 = pipe_41.fit_transform(X_train);\n",
    "X_train_44 = pipe_44.fit_transform(X_train);\n",
    "\n",
    "X_test_41  = pipe_41.fit_transform(X_test);"
   ]
  },
  {
   "cell_type": "markdown",
   "metadata": {},
   "source": [
    "----"
   ]
  },
  {
   "cell_type": "markdown",
   "metadata": {},
   "source": [
    "## Feature selection"
   ]
  },
  {
   "cell_type": "markdown",
   "metadata": {},
   "source": [
    "### Try different sets of features and check the impact on the results (ROC AUC)"
   ]
  },
  {
   "cell_type": "code",
   "execution_count": 14,
   "metadata": {},
   "outputs": [],
   "source": [
    "from sklearn.model_selection import cross_val_score, cross_val_predict, cross_validate"
   ]
  },
  {
   "cell_type": "markdown",
   "metadata": {},
   "source": [
    "### Initial run of Forest Tree "
   ]
  },
  {
   "cell_type": "code",
   "execution_count": 15,
   "metadata": {},
   "outputs": [
    {
     "data": {
      "text/plain": [
       "0.8466269841269841"
      ]
     },
     "execution_count": 15,
     "metadata": {},
     "output_type": "execute_result"
    }
   ],
   "source": [
    "scores = cross_val_score(RandF_clf, X_train_41, y_train, cv=6, scoring='roc_auc')\n",
    "scores.mean()"
   ]
  },
  {
   "cell_type": "code",
   "execution_count": 16,
   "metadata": {},
   "outputs": [
    {
     "data": {
      "image/png": "[encoded data removed]",
      "text/plain": [
       "<Figure size 432x288 with 1 Axes>"
      ]
     },
     "metadata": {
      "needs_background": "light"
     },
     "output_type": "display_data"
    }
   ],
   "source": [
    "y_scores = cross_val_predict(RandF_clf, X_train_41, y_train, cv=6, method='predict_proba' )\n",
    "roc_auc_score(y_train, y_scores[:,1])\n",
    "precision, recall, proba = precision_recall_curve(y_train, y_scores[:,1])\n",
    "plt_precision_vs_recall(precision, recall, title='SVC')"
   ]
  },
  {
   "cell_type": "markdown",
   "metadata": {},
   "source": [
    "#### Feature reduction"
   ]
  },
  {
   "cell_type": "code",
   "execution_count": 17,
   "metadata": {},
   "outputs": [],
   "source": [
    "from sklearn.feature_selection import RFE, RFECV"
   ]
  },
  {
   "cell_type": "code",
   "execution_count": 18,
   "metadata": {},
   "outputs": [],
   "source": [
    "RFE_ = RFE(RandF_clf).fit(X_train_41, y_train)"
   ]
  },
  {
   "cell_type": "code",
   "execution_count": 19,
   "metadata": {},
   "outputs": [
    {
     "data": {
      "text/plain": [
       "array([ 1,  1,  1,  3, 11,  4,  1, 13,  1,  1,  1, 10,  1,  5,  7,  2,  9,\n",
       "       12,  6,  1,  1,  1,  1,  8])"
      ]
     },
     "execution_count": 19,
     "metadata": {},
     "output_type": "execute_result"
    }
   ],
   "source": [
    "RFE_.ranking_"
   ]
  },
  {
   "cell_type": "code",
   "execution_count": 20,
   "metadata": {},
   "outputs": [],
   "source": [
    "RFE_ = RFE(RandF_clf).fit(X_train_44, y_train)"
   ]
  },
  {
   "cell_type": "code",
   "execution_count": 21,
   "metadata": {},
   "outputs": [
    {
     "data": {
      "text/plain": [
       "array([ 1,  1,  1,  3, 11,  4,  1, 13,  1,  1,  1, 10,  1,  5,  7,  2,  9,\n",
       "       12,  6,  1,  1,  1,  1,  8])"
      ]
     },
     "execution_count": 21,
     "metadata": {},
     "output_type": "execute_result"
    }
   ],
   "source": [
    "RFE_.ranking_"
   ]
  },
  {
   "cell_type": "markdown",
   "metadata": {},
   "source": [
    "Scaling does not have an impact on the feature importance"
   ]
  },
  {
   "cell_type": "code",
   "execution_count": 22,
   "metadata": {},
   "outputs": [],
   "source": [
    "X_train_44_red = pipe_44.transform(X_train)[:, RFE_.ranking_ <= 1]\n",
    "X_test_44_red = pipe_44.transform(X_test)[:, RFE_.ranking_ <= 1]"
   ]
  },
  {
   "cell_type": "code",
   "execution_count": 23,
   "metadata": {},
   "outputs": [
    {
     "name": "stdout",
     "output_type": "stream",
     "text": [
      "0.8167613636363636 ROC AUC for\n"
     ]
    },
    {
     "data": {
      "image/png": "[encoded data removed]",
      "text/plain": [
       "<Figure size 432x288 with 1 Axes>"
      ]
     },
     "metadata": {
      "needs_background": "light"
     },
     "output_type": "display_data"
    }
   ],
   "source": [
    "# RFECV features reduction. RFB Kernel results.\n",
    "y_scores = cross_val_predict(RandF_clf, X_train_44_red, y_train, cv=6, method='predict_proba')\n",
    "print roc_auc_score(y_train, y_scores[:,1]), \"ROC AUC for\"\n",
    "precision, recall, proba = precision_recall_curve(y_train, y_scores[:,1])\n",
    "plt_precision_vs_recall(precision, recall, title='SGD RFECV best features')"
   ]
  },
  {
   "cell_type": "code",
   "execution_count": 24,
   "metadata": {},
   "outputs": [
    {
     "data": {
      "text/html": [
       "<div>\n",
       "<style scoped>\n",
       "    .dataframe tbody tr th:only-of-type {\n",
       "        vertical-align: middle;\n",
       "    }\n",
       "\n",
       "    .dataframe tbody tr th {\n",
       "        vertical-align: top;\n",
       "    }\n",
       "\n",
       "    .dataframe thead th {\n",
       "        text-align: right;\n",
       "    }\n",
       "</style>\n",
       "<table border=\"1\" class=\"dataframe\">\n",
       "  <thead>\n",
       "    <tr style=\"text-align: right;\">\n",
       "      <th></th>\n",
       "      <th>0</th>\n",
       "      <th>1</th>\n",
       "    </tr>\n",
       "  </thead>\n",
       "  <tbody>\n",
       "    <tr>\n",
       "      <th>0</th>\n",
       "      <td>salary</td>\n",
       "      <td>1</td>\n",
       "    </tr>\n",
       "    <tr>\n",
       "      <th>12</th>\n",
       "      <td>total_stock_value</td>\n",
       "      <td>1</td>\n",
       "    </tr>\n",
       "    <tr>\n",
       "      <th>22</th>\n",
       "      <td>toPOI_rate</td>\n",
       "      <td>1</td>\n",
       "    </tr>\n",
       "    <tr>\n",
       "      <th>10</th>\n",
       "      <td>restricted_stock</td>\n",
       "      <td>1</td>\n",
       "    </tr>\n",
       "    <tr>\n",
       "      <th>9</th>\n",
       "      <td>exercised_stock_options</td>\n",
       "      <td>1</td>\n",
       "    </tr>\n",
       "    <tr>\n",
       "      <th>19</th>\n",
       "      <td>long_term_incentive_total_payments_rate</td>\n",
       "      <td>1</td>\n",
       "    </tr>\n",
       "    <tr>\n",
       "      <th>20</th>\n",
       "      <td>bonus_total_payments_rate</td>\n",
       "      <td>1</td>\n",
       "    </tr>\n",
       "    <tr>\n",
       "      <th>8</th>\n",
       "      <td>total_payments</td>\n",
       "      <td>1</td>\n",
       "    </tr>\n",
       "    <tr>\n",
       "      <th>21</th>\n",
       "      <td>exer_stock_options_total_payments_rate</td>\n",
       "      <td>1</td>\n",
       "    </tr>\n",
       "    <tr>\n",
       "      <th>2</th>\n",
       "      <td>long_term_incentive</td>\n",
       "      <td>1</td>\n",
       "    </tr>\n",
       "    <tr>\n",
       "      <th>1</th>\n",
       "      <td>bonus</td>\n",
       "      <td>1</td>\n",
       "    </tr>\n",
       "    <tr>\n",
       "      <th>6</th>\n",
       "      <td>expenses</td>\n",
       "      <td>1</td>\n",
       "    </tr>\n",
       "    <tr>\n",
       "      <th>15</th>\n",
       "      <td>shared_receipt_with_poi</td>\n",
       "      <td>2</td>\n",
       "    </tr>\n",
       "    <tr>\n",
       "      <th>3</th>\n",
       "      <td>deferred_income</td>\n",
       "      <td>3</td>\n",
       "    </tr>\n",
       "    <tr>\n",
       "      <th>5</th>\n",
       "      <td>other</td>\n",
       "      <td>4</td>\n",
       "    </tr>\n",
       "    <tr>\n",
       "      <th>13</th>\n",
       "      <td>from_this_person_to_poi</td>\n",
       "      <td>5</td>\n",
       "    </tr>\n",
       "    <tr>\n",
       "      <th>18</th>\n",
       "      <td>exer_stock_options_deferral_payments_rate</td>\n",
       "      <td>6</td>\n",
       "    </tr>\n",
       "    <tr>\n",
       "      <th>14</th>\n",
       "      <td>from_poi_to_this_person</td>\n",
       "      <td>7</td>\n",
       "    </tr>\n",
       "    <tr>\n",
       "      <th>23</th>\n",
       "      <td>fromPOI_rate</td>\n",
       "      <td>8</td>\n",
       "    </tr>\n",
       "    <tr>\n",
       "      <th>16</th>\n",
       "      <td>bonus_deferral_payments_rate</td>\n",
       "      <td>9</td>\n",
       "    </tr>\n",
       "    <tr>\n",
       "      <th>11</th>\n",
       "      <td>restricted_stock_deferred</td>\n",
       "      <td>10</td>\n",
       "    </tr>\n",
       "    <tr>\n",
       "      <th>4</th>\n",
       "      <td>deferral_payments</td>\n",
       "      <td>11</td>\n",
       "    </tr>\n",
       "    <tr>\n",
       "      <th>17</th>\n",
       "      <td>rest_stock_deferral_payments_rate</td>\n",
       "      <td>12</td>\n",
       "    </tr>\n",
       "    <tr>\n",
       "      <th>7</th>\n",
       "      <td>director_fees</td>\n",
       "      <td>13</td>\n",
       "    </tr>\n",
       "  </tbody>\n",
       "</table>\n",
       "</div>"
      ],
      "text/plain": [
       "                                            0   1\n",
       "0                                      salary   1\n",
       "12                          total_stock_value   1\n",
       "22                                 toPOI_rate   1\n",
       "10                           restricted_stock   1\n",
       "9                     exercised_stock_options   1\n",
       "19    long_term_incentive_total_payments_rate   1\n",
       "20                  bonus_total_payments_rate   1\n",
       "8                              total_payments   1\n",
       "21     exer_stock_options_total_payments_rate   1\n",
       "2                         long_term_incentive   1\n",
       "1                                       bonus   1\n",
       "6                                    expenses   1\n",
       "15                    shared_receipt_with_poi   2\n",
       "3                             deferred_income   3\n",
       "5                                       other   4\n",
       "13                    from_this_person_to_poi   5\n",
       "18  exer_stock_options_deferral_payments_rate   6\n",
       "14                    from_poi_to_this_person   7\n",
       "23                               fromPOI_rate   8\n",
       "16               bonus_deferral_payments_rate   9\n",
       "11                  restricted_stock_deferred  10\n",
       "4                           deferral_payments  11\n",
       "17          rest_stock_deferral_payments_rate  12\n",
       "7                               director_fees  13"
      ]
     },
     "execution_count": 24,
     "metadata": {},
     "output_type": "execute_result"
    }
   ],
   "source": [
    "score_table = pd.DataFrame(zip(feature_list, RFE_.ranking_))\n",
    "score_table.sort_values(1, axis='index')"
   ]
  },
  {
   "cell_type": "markdown",
   "metadata": {},
   "source": [
    "### Grid search and Randomized search of Hyperparameters"
   ]
  },
  {
   "cell_type": "code",
   "execution_count": 25,
   "metadata": {},
   "outputs": [],
   "source": [
    "from sklearn.model_selection import GridSearchCV, RandomizedSearchCV"
   ]
  },
  {
   "cell_type": "code",
   "execution_count": 26,
   "metadata": {},
   "outputs": [],
   "source": [
    "param_grid = [\n",
    "    {\n",
    "        #'n_estimators': [100, 200, 500, 1000], \n",
    "        'n_estimators': [1000],\n",
    "        'max_features': ['sqrt', None, 'log2'],\n",
    "        'bootstrap': [True, False],\n",
    "        'criterion': ['gini', 'entropy'],\n",
    "        'min_impurity_decrease': np.linspace(0.,1., 5)\n",
    "    }\n",
    "]"
   ]
  },
  {
   "cell_type": "code",
   "execution_count": 27,
   "metadata": {},
   "outputs": [],
   "source": [
    "gridSch = GridSearchCV(RandF_clf, param_grid=param_grid, return_train_score=True, cv=6, scoring='roc_auc', verbose=1, refit=True, n_jobs=8, iid=False)"
   ]
  },
  {
   "cell_type": "code",
   "execution_count": 28,
   "metadata": {},
   "outputs": [
    {
     "name": "stdout",
     "output_type": "stream",
     "text": [
      "Fitting 6 folds for each of 60 candidates, totalling 360 fits\n"
     ]
    },
    {
     "name": "stderr",
     "output_type": "stream",
     "text": [
      "[Parallel(n_jobs=8)]: Using backend LokyBackend with 8 concurrent workers.\n",
      "[Parallel(n_jobs=8)]: Done  34 tasks      | elapsed:    9.9s\n",
      "[Parallel(n_jobs=8)]: Done 184 tasks      | elapsed:   38.9s\n",
      "[Parallel(n_jobs=8)]: Done 360 out of 360 | elapsed:  1.2min finished\n"
     ]
    }
   ],
   "source": [
    "gridSch.fit(X_train_41, y_train);"
   ]
  },
  {
   "cell_type": "code",
   "execution_count": 29,
   "metadata": {},
   "outputs": [
    {
     "data": {
      "text/plain": [
       "{'bootstrap': True,\n",
       " 'criterion': 'entropy',\n",
       " 'max_features': 'sqrt',\n",
       " 'min_impurity_decrease': 0.0,\n",
       " 'n_estimators': 1000}"
      ]
     },
     "execution_count": 29,
     "metadata": {},
     "output_type": "execute_result"
    }
   ],
   "source": [
    "gridSch.best_params_"
   ]
  },
  {
   "cell_type": "code",
   "execution_count": 30,
   "metadata": {},
   "outputs": [],
   "source": [
    "grid_results = pd.DataFrame(gridSch.cv_results_)"
   ]
  },
  {
   "cell_type": "code",
   "execution_count": 31,
   "metadata": {},
   "outputs": [
    {
     "data": {
      "text/plain": [
       "Index([u'mean_fit_time', u'mean_score_time', u'mean_test_score',\n",
       "       u'mean_train_score', u'param_bootstrap', u'param_criterion',\n",
       "       u'param_max_features', u'param_min_impurity_decrease',\n",
       "       u'param_n_estimators', u'params', u'rank_test_score',\n",
       "       u'split0_test_score', u'split0_train_score', u'split1_test_score',\n",
       "       u'split1_train_score', u'split2_test_score', u'split2_train_score',\n",
       "       u'split3_test_score', u'split3_train_score', u'split4_test_score',\n",
       "       u'split4_train_score', u'split5_test_score', u'split5_train_score',\n",
       "       u'std_fit_time', u'std_score_time', u'std_test_score',\n",
       "       u'std_train_score'],\n",
       "      dtype='object')"
      ]
     },
     "execution_count": 31,
     "metadata": {},
     "output_type": "execute_result"
    }
   ],
   "source": [
    "grid_results.columns"
   ]
  },
  {
   "cell_type": "code",
   "execution_count": 32,
   "metadata": {},
   "outputs": [],
   "source": [
    "grid_results = grid_results[['mean_test_score', 'param_bootstrap', 'param_criterion', 'param_max_features', \n",
    "              'param_min_impurity_decrease', 'param_n_estimators', 'rank_test_score']]"
   ]
  },
  {
   "cell_type": "code",
   "execution_count": 33,
   "metadata": {},
   "outputs": [
    {
     "data": {
      "text/html": [
       "<div>\n",
       "<style scoped>\n",
       "    .dataframe tbody tr th:only-of-type {\n",
       "        vertical-align: middle;\n",
       "    }\n",
       "\n",
       "    .dataframe tbody tr th {\n",
       "        vertical-align: top;\n",
       "    }\n",
       "\n",
       "    .dataframe thead th {\n",
       "        text-align: right;\n",
       "    }\n",
       "</style>\n",
       "<table border=\"1\" class=\"dataframe\">\n",
       "  <thead>\n",
       "    <tr style=\"text-align: right;\">\n",
       "      <th></th>\n",
       "      <th>mean_test_score</th>\n",
       "      <th>param_bootstrap</th>\n",
       "      <th>param_criterion</th>\n",
       "      <th>param_max_features</th>\n",
       "      <th>param_min_impurity_decrease</th>\n",
       "      <th>param_n_estimators</th>\n",
       "      <th>rank_test_score</th>\n",
       "    </tr>\n",
       "  </thead>\n",
       "  <tbody>\n",
       "    <tr>\n",
       "      <th>25</th>\n",
       "      <td>0.879365</td>\n",
       "      <td>True</td>\n",
       "      <td>entropy</td>\n",
       "      <td>log2</td>\n",
       "      <td>0</td>\n",
       "      <td>1000</td>\n",
       "      <td>1</td>\n",
       "    </tr>\n",
       "    <tr>\n",
       "      <th>15</th>\n",
       "      <td>0.879365</td>\n",
       "      <td>True</td>\n",
       "      <td>entropy</td>\n",
       "      <td>sqrt</td>\n",
       "      <td>0</td>\n",
       "      <td>1000</td>\n",
       "      <td>1</td>\n",
       "    </tr>\n",
       "    <tr>\n",
       "      <th>0</th>\n",
       "      <td>0.869841</td>\n",
       "      <td>True</td>\n",
       "      <td>gini</td>\n",
       "      <td>sqrt</td>\n",
       "      <td>0</td>\n",
       "      <td>1000</td>\n",
       "      <td>3</td>\n",
       "    </tr>\n",
       "    <tr>\n",
       "      <th>10</th>\n",
       "      <td>0.869841</td>\n",
       "      <td>True</td>\n",
       "      <td>gini</td>\n",
       "      <td>log2</td>\n",
       "      <td>0</td>\n",
       "      <td>1000</td>\n",
       "      <td>3</td>\n",
       "    </tr>\n",
       "    <tr>\n",
       "      <th>20</th>\n",
       "      <td>0.850794</td>\n",
       "      <td>True</td>\n",
       "      <td>entropy</td>\n",
       "      <td>None</td>\n",
       "      <td>0</td>\n",
       "      <td>1000</td>\n",
       "      <td>5</td>\n",
       "    </tr>\n",
       "    <tr>\n",
       "      <th>55</th>\n",
       "      <td>0.841865</td>\n",
       "      <td>False</td>\n",
       "      <td>entropy</td>\n",
       "      <td>log2</td>\n",
       "      <td>0</td>\n",
       "      <td>1000</td>\n",
       "      <td>6</td>\n",
       "    </tr>\n",
       "    <tr>\n",
       "      <th>45</th>\n",
       "      <td>0.841865</td>\n",
       "      <td>False</td>\n",
       "      <td>entropy</td>\n",
       "      <td>sqrt</td>\n",
       "      <td>0</td>\n",
       "      <td>1000</td>\n",
       "      <td>6</td>\n",
       "    </tr>\n",
       "    <tr>\n",
       "      <th>30</th>\n",
       "      <td>0.837302</td>\n",
       "      <td>False</td>\n",
       "      <td>gini</td>\n",
       "      <td>sqrt</td>\n",
       "      <td>0</td>\n",
       "      <td>1000</td>\n",
       "      <td>8</td>\n",
       "    </tr>\n",
       "    <tr>\n",
       "      <th>40</th>\n",
       "      <td>0.837302</td>\n",
       "      <td>False</td>\n",
       "      <td>gini</td>\n",
       "      <td>log2</td>\n",
       "      <td>0</td>\n",
       "      <td>1000</td>\n",
       "      <td>8</td>\n",
       "    </tr>\n",
       "    <tr>\n",
       "      <th>5</th>\n",
       "      <td>0.823810</td>\n",
       "      <td>True</td>\n",
       "      <td>gini</td>\n",
       "      <td>None</td>\n",
       "      <td>0</td>\n",
       "      <td>1000</td>\n",
       "      <td>10</td>\n",
       "    </tr>\n",
       "  </tbody>\n",
       "</table>\n",
       "</div>"
      ],
      "text/plain": [
       "    mean_test_score param_bootstrap param_criterion param_max_features  \\\n",
       "25         0.879365            True         entropy               log2   \n",
       "15         0.879365            True         entropy               sqrt   \n",
       "0          0.869841            True            gini               sqrt   \n",
       "10         0.869841            True            gini               log2   \n",
       "20         0.850794            True         entropy               None   \n",
       "55         0.841865           False         entropy               log2   \n",
       "45         0.841865           False         entropy               sqrt   \n",
       "30         0.837302           False            gini               sqrt   \n",
       "40         0.837302           False            gini               log2   \n",
       "5          0.823810            True            gini               None   \n",
       "\n",
       "   param_min_impurity_decrease param_n_estimators  rank_test_score  \n",
       "25                           0               1000                1  \n",
       "15                           0               1000                1  \n",
       "0                            0               1000                3  \n",
       "10                           0               1000                3  \n",
       "20                           0               1000                5  \n",
       "55                           0               1000                6  \n",
       "45                           0               1000                6  \n",
       "30                           0               1000                8  \n",
       "40                           0               1000                8  \n",
       "5                            0               1000               10  "
      ]
     },
     "execution_count": 33,
     "metadata": {},
     "output_type": "execute_result"
    }
   ],
   "source": [
    "grid_results.sort_values('rank_test_score', ascending=True).head(10)"
   ]
  },
  {
   "cell_type": "code",
   "execution_count": 34,
   "metadata": {},
   "outputs": [
    {
     "data": {
      "text/plain": [
       "array([5.56077581e-02, 8.75549691e-02, 6.00396083e-02, 2.93023791e-02,\n",
       "       5.60087282e-03, 5.37307871e-02, 8.77533763e-02, 8.23790466e-05,\n",
       "       3.40250820e-02, 7.38782131e-02, 5.02636547e-02, 1.90636029e-03,\n",
       "       7.89755124e-02, 2.86369669e-02, 2.28064984e-02, 4.74429586e-02,\n",
       "       7.50092416e-03, 6.08354211e-03, 2.65178095e-02, 4.06311252e-02,\n",
       "       5.35786807e-02, 4.01716196e-02, 8.88962556e-02, 1.90126668e-02])"
      ]
     },
     "execution_count": 34,
     "metadata": {},
     "output_type": "execute_result"
    }
   ],
   "source": [
    "gridSch.best_estimator_.feature_importances_"
   ]
  },
  {
   "cell_type": "code",
   "execution_count": 35,
   "metadata": {},
   "outputs": [
    {
     "data": {
      "text/plain": [
       "RandomForestClassifier(bootstrap=True, class_weight=None, criterion='entropy',\n",
       "            max_depth=None, max_features='sqrt', max_leaf_nodes=None,\n",
       "            min_impurity_decrease=0.0, min_impurity_split=None,\n",
       "            min_samples_leaf=1, min_samples_split=2,\n",
       "            min_weight_fraction_leaf=0.0, n_estimators=1000, n_jobs=None,\n",
       "            oob_score=False, random_state=77, verbose=0, warm_start=False)"
      ]
     },
     "execution_count": 35,
     "metadata": {},
     "output_type": "execute_result"
    }
   ],
   "source": [
    "RandF_best_clf = gridSch.best_estimator_\n",
    "RandF_best_clf"
   ]
  },
  {
   "cell_type": "code",
   "execution_count": 36,
   "metadata": {},
   "outputs": [
    {
     "name": "stdout",
     "output_type": "stream",
     "text": [
      "0.8319128787878788 ROC AUC for\n"
     ]
    },
    {
     "data": {
      "image/png": "[encoded data removed]",
      "text/plain": [
       "<Figure size 432x288 with 1 Axes>"
      ]
     },
     "metadata": {
      "needs_background": "light"
     },
     "output_type": "display_data"
    }
   ],
   "source": [
    "y_scores = cross_val_predict(RandF_best_clf, X_train_41, y_train, cv=6, method='predict_proba')\n",
    "print roc_auc_score(y_train, y_scores[:,1]), \"ROC AUC for\"\n",
    "precision, recall, proba = precision_recall_curve(y_train, y_scores[:,1])\n",
    "plt_precision_vs_recall(precision, recall, title='Random Forest best classifier')"
   ]
  },
  {
   "cell_type": "markdown",
   "metadata": {},
   "source": [
    "## Make predictions on test set"
   ]
  },
  {
   "cell_type": "markdown",
   "metadata": {},
   "source": [
    "### Train the models"
   ]
  },
  {
   "cell_type": "code",
   "execution_count": 37,
   "metadata": {},
   "outputs": [
    {
     "data": {
      "text/plain": [
       "RandomForestClassifier(bootstrap=True, class_weight=None, criterion='entropy',\n",
       "            max_depth=None, max_features='sqrt', max_leaf_nodes=None,\n",
       "            min_impurity_decrease=0.0, min_impurity_split=None,\n",
       "            min_samples_leaf=1, min_samples_split=2,\n",
       "            min_weight_fraction_leaf=0.0, n_estimators=1000, n_jobs=None,\n",
       "            oob_score=False, random_state=77, verbose=0, warm_start=False)"
      ]
     },
     "execution_count": 37,
     "metadata": {},
     "output_type": "execute_result"
    }
   ],
   "source": [
    "RandF_best_clf.fit(X_train_41, y_train)"
   ]
  },
  {
   "cell_type": "code",
   "execution_count": 38,
   "metadata": {},
   "outputs": [
    {
     "name": "stdout",
     "output_type": "stream",
     "text": [
      "ROC AUC: 0.7675438596491228\n"
     ]
    },
    {
     "data": {
      "image/png": "[encoded data removed]",
      "text/plain": [
       "<Figure size 432x288 with 1 Axes>"
      ]
     },
     "metadata": {
      "needs_background": "light"
     },
     "output_type": "display_data"
    }
   ],
   "source": [
    "y_scores = RandF_best_clf.predict_proba(X_test_41)\n",
    "print \"ROC AUC:\", roc_auc_score(y_test, y_scores[:,1])\n",
    "precision, recall, proba = precision_recall_curve(y_test, y_scores[:,1])\n",
    "plt_precision_vs_recall(precision, recall, title='Random Forest validation on test set')"
   ]
  },
  {
   "cell_type": "code",
   "execution_count": 39,
   "metadata": {},
   "outputs": [
    {
     "data": {
      "text/plain": [
       "array([0, 0, 0, 0, 0, 0, 0, 0, 0, 0, 1, 0, 0, 0, 0, 0, 0, 0, 0, 0, 0, 0,\n",
       "       0, 0, 0, 0, 0, 0, 0, 0, 0, 0, 0, 0, 0, 0, 0, 0, 0, 0, 0, 0, 0, 1],\n",
       "      dtype=uint8)"
      ]
     },
     "execution_count": 39,
     "metadata": {},
     "output_type": "execute_result"
    }
   ],
   "source": [
    "RandF_best_clf.predict(X_test_41)"
   ]
  },
  {
   "cell_type": "markdown",
   "metadata": {},
   "source": [
    "----"
   ]
  },
  {
   "cell_type": "markdown",
   "metadata": {},
   "source": [
    "### Address precision/ recall trade-off"
   ]
  },
  {
   "cell_type": "code",
   "execution_count": 40,
   "metadata": {},
   "outputs": [],
   "source": [
    "my_RandF = flex_classifier(RandF_best_clf, min_precision=0.3, min_recall=0.3, maximize='recall')"
   ]
  },
  {
   "cell_type": "code",
   "execution_count": 41,
   "metadata": {},
   "outputs": [
    {
     "data": {
      "text/plain": [
       "flex_classifier(classifier=RandomForestClassifier(bootstrap=True, class_weight=None, criterion='entropy',\n",
       "            max_depth=None, max_features='sqrt', max_leaf_nodes=None,\n",
       "            min_impurity_decrease=0.0, min_impurity_split=None,\n",
       "            min_samples_leaf=1, min_samples_split=2,\n",
       "            min_weight_fraction_leaf=0.0, n_estimators=1000, n_jobs=None,\n",
       "            oob_score=False, random_state=77, verbose=0, warm_start=False),\n",
       "        maximize='recall', min_precision=0.3, min_recall=0.3,\n",
       "        threshold=0.0)"
      ]
     },
     "execution_count": 41,
     "metadata": {},
     "output_type": "execute_result"
    }
   ],
   "source": [
    "my_RandF.fit(X_train_41, y_train)"
   ]
  },
  {
   "cell_type": "markdown",
   "metadata": {},
   "source": [
    "#### Determine best threshold"
   ]
  },
  {
   "cell_type": "code",
   "execution_count": 42,
   "metadata": {},
   "outputs": [],
   "source": [
    "from sklearn.model_selection import StratifiedShuffleSplit"
   ]
  },
  {
   "cell_type": "code",
   "execution_count": 43,
   "metadata": {},
   "outputs": [],
   "source": [
    "cv = StratifiedShuffleSplit(n_splits=14, random_state=77, test_size=0.35)"
   ]
  },
  {
   "cell_type": "code",
   "execution_count": 44,
   "metadata": {},
   "outputs": [
    {
     "data": {
      "text/plain": [
       "(-0.270999, 0.5833333333333334, 0.3888888888888889)"
      ]
     },
     "execution_count": 44,
     "metadata": {},
     "output_type": "execute_result"
    }
   ],
   "source": [
    "my_RandF.det_threshold(X_train_41, y_train, replace=False)"
   ]
  },
  {
   "cell_type": "code",
   "execution_count": 45,
   "metadata": {},
   "outputs": [
    {
     "name": "stdout",
     "output_type": "stream",
     "text": [
      "14 Loops to predict best threshold\n",
      "Loop 1\n"
     ]
    },
    {
     "name": "stderr",
     "output_type": "stream",
     "text": [
      "C:\\Users\\micha\\Programs\\anaconda3\\envs\\py27\\lib\\site-packages\\sklearn\\metrics\\classification.py:1143: UndefinedMetricWarning: Precision is ill-defined and being set to 0.0 due to no predicted samples.\n",
      "  'precision', 'predicted', average, warn_for)\n"
     ]
    },
    {
     "name": "stdout",
     "output_type": "stream",
     "text": [
      "Loop 2\n",
      "Loop 3\n",
      "Loop 4\n",
      "Loop 5\n",
      "Loop 6\n",
      "Loop 7\n",
      "Loop 8\n",
      "Loop 9\n",
      "Loop 10\n",
      "Loop 11\n",
      "Loop 12\n",
      "Loop 13\n",
      "Loop 14\n",
      "Best threshold: 0.21967262673258892\n"
     ]
    }
   ],
   "source": [
    "thresholds = []\n",
    "print \"14 Loops to predict best threshold\"\n",
    "for train_idx, test_idx in cv.split(X_train_41, y_train):\n",
    "    X_train_ = X_train_41[train_idx]\n",
    "    X_test_  = X_train_41[test_idx]\n",
    "    y_train_ = y_train[train_idx]\n",
    "    y_test_  = y_train[test_idx]\n",
    "    #print my_SGD_opt.det_threshold(X_train_, y_train_, replace=False)\n",
    "    #print my_SGD_opt.feasibiliy\n",
    "    thresholds.append( list(my_RandF.det_threshold(X_train_, y_train_, replace=False)))\n",
    "    print \"Loop\", len(thresholds)\n",
    "thresholds = np.array(thresholds)\n",
    "best_threshold = thresholds.mean()\n",
    "my_RandF.threshold = best_threshold\n",
    "print \"Best threshold:\", best_threshold"
   ]
  },
  {
   "cell_type": "code",
   "execution_count": 46,
   "metadata": {},
   "outputs": [
    {
     "data": {
      "text/plain": [
       "0.21967262673258892"
      ]
     },
     "execution_count": 46,
     "metadata": {},
     "output_type": "execute_result"
    }
   ],
   "source": [
    "my_RandF.threshold"
   ]
  },
  {
   "cell_type": "markdown",
   "metadata": {},
   "source": [
    "#### Check model on test data"
   ]
  },
  {
   "cell_type": "code",
   "execution_count": 47,
   "metadata": {},
   "outputs": [
    {
     "data": {
      "text/plain": [
       "array([0, 0, 0, 0, 0, 0, 0, 0, 0, 0, 1, 0, 0, 0, 0, 0, 0, 0, 0, 0, 0, 0,\n",
       "       0, 0, 0, 0, 0, 0, 0, 0, 0, 0, 0, 0, 0, 0, 0, 0, 0, 0, 0, 0, 0, 1],\n",
       "      dtype=uint8)"
      ]
     },
     "execution_count": 47,
     "metadata": {},
     "output_type": "execute_result"
    }
   ],
   "source": [
    "my_RandF.predict(X_test_41)"
   ]
  },
  {
   "cell_type": "code",
   "execution_count": 48,
   "metadata": {},
   "outputs": [
    {
     "name": "stdout",
     "output_type": "stream",
     "text": [
      "[[36  2]\n",
      " [ 6  0]]\n",
      "Recall: 0.0\n",
      "Precision 0.0\n"
     ]
    }
   ],
   "source": [
    "y_predict = my_RandF.predict(X_test_41)\n",
    "print confusion_matrix(y_test, y_predict)\n",
    "print \"Recall:\", recall_score(y_test, y_predict)\n",
    "print \"Precision\", precision_score(y_test, y_predict)"
   ]
  },
  {
   "cell_type": "markdown",
   "metadata": {},
   "source": [
    "----"
   ]
  },
  {
   "cell_type": "markdown",
   "metadata": {},
   "source": [
    "### Validate model"
   ]
  },
  {
   "cell_type": "code",
   "execution_count": 49,
   "metadata": {},
   "outputs": [
    {
     "data": {
      "text/plain": [
       "['salary',\n",
       " 'bonus',\n",
       " 'long_term_incentive',\n",
       " 'deferred_income',\n",
       " 'deferral_payments',\n",
       " 'other',\n",
       " 'expenses',\n",
       " 'director_fees',\n",
       " 'total_payments',\n",
       " 'exercised_stock_options',\n",
       " 'restricted_stock',\n",
       " 'restricted_stock_deferred',\n",
       " 'total_stock_value',\n",
       " 'from_this_person_to_poi',\n",
       " 'from_poi_to_this_person',\n",
       " 'shared_receipt_with_poi',\n",
       " 'bonus_deferral_payments_rate',\n",
       " 'rest_stock_deferral_payments_rate',\n",
       " 'exer_stock_options_deferral_payments_rate',\n",
       " 'long_term_incentive_total_payments_rate',\n",
       " 'bonus_total_payments_rate',\n",
       " 'exer_stock_options_total_payments_rate',\n",
       " 'toPOI_rate',\n",
       " 'fromPOI_rate']"
      ]
     },
     "execution_count": 49,
     "metadata": {},
     "output_type": "execute_result"
    }
   ],
   "source": [
    "selected_features = feature_list\n",
    "selected_features"
   ]
  },
  {
   "cell_type": "code",
   "execution_count": 50,
   "metadata": {},
   "outputs": [],
   "source": [
    "# Features\n",
    "X_train_41_df = pd.DataFrame(X_train_41, columns=selected_features, index=insiders_train)\n",
    "X_test_41_df = pd.DataFrame(X_test_41, columns=selected_features, index=insiders_test)\n",
    "X_41_df = X_train_41_df.append(X_test_41_df, sort=False)\n",
    "\n",
    "# Labels\n",
    "y_df = y_train.append(y_test)\n",
    "\n",
    "# Combine features and labels \n",
    "my_dataset = X_41_df.copy()\n",
    "my_dataset.insert(0, column='poi', value=y_df)\n",
    "\n",
    "# Create dataset dict for validation\n",
    "my_dataset_dict = my_dataset.transpose().to_dict() "
   ]
  },
  {
   "cell_type": "code",
   "execution_count": 51,
   "metadata": {},
   "outputs": [],
   "source": [
    "# Dump data         \n",
    "dump_classifier_and_data(my_RandF, my_dataset_dict, ['poi'] + selected_features)    "
   ]
  },
  {
   "cell_type": "code",
   "execution_count": null,
   "metadata": {},
   "outputs": [],
   "source": [
    "# Validate using tester.py \n",
    "clf, dataset, feature_list = load_classifier_and_data()\n",
    "test_classifier(clf, dataset, feature_list)"
   ]
  },
  {
   "cell_type": "markdown",
   "metadata": {},
   "source": [
    "---"
   ]
  },
  {
   "cell_type": "markdown",
   "metadata": {},
   "source": [
    "### Save best model"
   ]
  },
  {
   "cell_type": "code",
   "execution_count": null,
   "metadata": {},
   "outputs": [],
   "source": [
    "with open(MODELS + \"SGD_model.pkl\", \"w\") as out:\n",
    "    pickle.dump(my_SGD_opt, out)"
   ]
  },
  {
   "cell_type": "code",
   "execution_count": null,
   "metadata": {},
   "outputs": [],
   "source": [
    "with open(MODELS + \"SGD_features.pkl\", \"w\") as out:\n",
    "    pickle.dump(my_dataset_dict, out)"
   ]
  },
  {
   "cell_type": "code",
   "execution_count": null,
   "metadata": {},
   "outputs": [],
   "source": [
    "with open(MODELS + \"SGD_feature_list.pkl\", \"w\") as out:\n",
    "    pickle.dump(['poi'] + selected_features, out)"
   ]
  },
  {
   "cell_type": "code",
   "execution_count": null,
   "metadata": {},
   "outputs": [],
   "source": [
    "dump_classifier_and_data(RandF_best_clf, my_dataset_dict, ['poi'] + selected_features)  "
   ]
  },
  {
   "cell_type": "code",
   "execution_count": null,
   "metadata": {},
   "outputs": [],
   "source": [
    "# Validate using tester.py \n",
    "clf, dataset, feature_list = load_classifier_and_data()\n",
    "test_classifier(clf, dataset, feature_list)"
   ]
  }
 ],
 "metadata": {
  "kernelspec": {
   "display_name": "Python [conda env:py27]",
   "language": "python",
   "name": "conda-env-py27-py"
  },
  "language_info": {
   "codemirror_mode": {
    "name": "ipython",
    "version": 2
   },
   "file_extension": ".py",
   "mimetype": "text/x-python",
   "name": "python",
   "nbconvert_exporter": "python",
   "pygments_lexer": "ipython2",
   "version": "2.7.18"
  }
 },
 "nbformat": 4,
 "nbformat_minor": 4
}
