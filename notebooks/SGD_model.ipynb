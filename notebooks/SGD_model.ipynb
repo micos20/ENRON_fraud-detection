{
 "cells": [
  {
   "cell_type": "code",
   "execution_count": 3,
   "metadata": {},
   "outputs": [],
   "source": [
    "#!/usr/bin/python\n",
    "import sys\n",
    "sys.path.append(\"../tools/\")\n",
    "sys.path.append(\"../scripts/\")\n",
    "\n",
    "import matplotlib.pyplot as plt\n",
    "import pandas as pd\n",
    "import numpy as np\n",
    "import scipy.stats as stats\n",
    "from helper import get_features, predict_from_score, correlate, crt_plot, plt_precision_recall_vs_threshold, plt_precision_vs_recall, plot_roc_curve, flex_classifier \n",
    "\n",
    "import pickle\n",
    "\n",
    "from sklearn.metrics import confusion_matrix, precision_recall_curve, recall_score, precision_score, roc_curve, roc_auc_score\n",
    "from sklearn.model_selection import train_test_split, cross_val_predict, cross_val_score\n",
    "\n",
    "from feature_format import featureFormat, targetFeatureSplit\n",
    "from tester import dump_classifier_and_data, load_classifier_and_data, test_classifier\n",
    "\n",
    "MODELS = '../classifiers/'\n",
    "IMAGES = '../images/'\n",
    "DATA   = '../data/'"
   ]
  },
  {
   "cell_type": "markdown",
   "metadata": {},
   "source": [
    "----"
   ]
  },
  {
   "cell_type": "code",
   "execution_count": 4,
   "metadata": {},
   "outputs": [],
   "source": [
    "#############################\n",
    "### Task 1: Select what features you'll use.\n",
    "### features_list is a list of strings, each of which is a feature name.\n",
    "### The first feature must be \"poi\".\n",
    "# features_list = ['poi','salary'] # You will need to use more features\n",
    "payment_features = ['salary', 'bonus', 'long_term_incentive', 'deferred_income', 'deferral_payments', 'other', 'expenses', 'director_fees', 'total_payments']\n",
    "stock_features   = ['exercised_stock_options', 'restricted_stock', 'restricted_stock_deferred', 'total_stock_value']\n",
    "mail_features    = ['from_this_person_to_poi', 'from_poi_to_this_person', 'shared_receipt_with_poi']\n",
    "extra_features   = ['bonus_deferral_payments_rate', 'rest_stock_deferral_payments_rate', 'exer_stock_options_deferral_payments_rate',\n",
    "                    'long_term_incentive_total_payments_rate', 'bonus_total_payments_rate', 'exer_stock_options_total_payments_rate',\n",
    "                    'toPOI_rate', 'fromPOI_rate']\n",
    "extra_finance    = ['bonus_deferral_payments_rate', 'rest_stock_deferral_payments_rate', 'exer_stock_options_deferral_payments_rate',\n",
    "                    'long_term_incentive_total_payments_rate', 'bonus_total_payments_rate', 'exer_stock_options_total_payments_rate']\n",
    "extra_mail       = ['toPOI_rate', 'fromPOI_rate']\n",
    "feature_list = payment_features + stock_features + mail_features + extra_features"
   ]
  },
  {
   "cell_type": "code",
   "execution_count": 5,
   "metadata": {},
   "outputs": [],
   "source": [
    "### Load the dictionary containing the dataset\n",
    "my_data = pd.read_pickle(DATA+\"my_dataFrame.pkl\")\n",
    "# Divide data into features and labels \n",
    "y = my_data['poi'].copy().astype(np.uint8)\n",
    "X = my_data[feature_list].copy()\n",
    "# Split data into training and test set using stratified splitting\n",
    "X_train, X_test, y_train, y_test = train_test_split(X, y, test_size=0.30, random_state=77, stratify=y) "
   ]
  },
  {
   "cell_type": "markdown",
   "metadata": {},
   "source": [
    "----"
   ]
  },
  {
   "cell_type": "code",
   "execution_count": 6,
   "metadata": {},
   "outputs": [
    {
     "name": "stdout",
     "output_type": "stream",
     "text": [
      "Number of POIs in the test set: 6\n"
     ]
    }
   ],
   "source": [
    "# I spare 30% of the data as test set to have at least 5 'poi's in the test set. It's important to me to realize a high recall value, identifying as many 'poi's as possible.  \n",
    "print \"Number of POIs in the test set:\" , y_test.sum()"
   ]
  },
  {
   "cell_type": "code",
   "execution_count": 7,
   "metadata": {},
   "outputs": [],
   "source": [
    "# Save the order of insiders\n",
    "insiders_train = y_train.index\n",
    "insiders_test  = y_test.index"
   ]
  },
  {
   "cell_type": "code",
   "execution_count": 8,
   "metadata": {},
   "outputs": [],
   "source": [
    "# Dealing with missing values\n",
    "from sklearn.impute import SimpleImputer\n",
    "from sklearn.preprocessing import FunctionTransformer, StandardScaler, RobustScaler, PowerTransformer\n",
    "from sklearn.pipeline import Pipeline\n",
    "from sklearn.compose import ColumnTransformer"
   ]
  },
  {
   "cell_type": "markdown",
   "metadata": {},
   "source": [
    "### Imputation Stategies"
   ]
  },
  {
   "cell_type": "code",
   "execution_count": 9,
   "metadata": {},
   "outputs": [],
   "source": [
    "# I'd like to explore different strategies filling NAN values\n",
    "# Imputer_01:\n",
    "# Applies median to mail and extra NAN features and 0 to financial NAN features\n",
    "impute_01 = ColumnTransformer(\n",
    "     [('finance_data',  SimpleImputer(missing_values=np.nan, strategy='constant', fill_value=0.0), payment_features+stock_features),\n",
    "      ('mail_data',     SimpleImputer(missing_values=np.nan, strategy='median'), mail_features),\n",
    "      ('extra_finance', SimpleImputer(missing_values=np.nan, strategy='median'), extra_finance),\n",
    "      ('extra_mail',    SimpleImputer(missing_values=np.nan, strategy='median'), extra_mail)],\n",
    "     remainder='passthrough')\n",
    "# Imputer_02:\n",
    "# Applies median to all NAN features \n",
    "impute_02 = SimpleImputer(strategy='median')\n",
    "# Imputer_03:\n",
    "# Applies 0.0 to all NAN features\n",
    "impute_03 = SimpleImputer(strategy='constant', fill_value=0.0)\n",
    "# Imputer 04\n",
    "# Applies 0.0 to financial and extra_finance featurtes and median to 'mail_features' and 'extra_mail'\n",
    "impute_04 = ColumnTransformer(\n",
    "     [('finance_data',  SimpleImputer(missing_values=np.nan, strategy='constant', fill_value=0.0), payment_features+stock_features),\n",
    "      ('mail_data',     SimpleImputer(missing_values=np.nan, strategy='median'), mail_features),\n",
    "      ('extra_finance', SimpleImputer(missing_values=np.nan, strategy='constant', fill_value=0.0), extra_finance),\n",
    "      ('extra_mail',    SimpleImputer(missing_values=np.nan, strategy='median'), extra_mail)],\n",
    "     remainder='passthrough')\n",
    "# Imputer 05\n",
    "# Applies mean values to all NAN\n",
    "impute_05 = SimpleImputer(strategy='mean')\n",
    "imputers = [impute_01, impute_02, impute_03, impute_04, impute_05]"
   ]
  },
  {
   "cell_type": "markdown",
   "metadata": {},
   "source": [
    "### Scaling strategies"
   ]
  },
  {
   "cell_type": "code",
   "execution_count": 10,
   "metadata": {},
   "outputs": [],
   "source": [
    "def no_scaling(X):\n",
    "    return np.array(X)"
   ]
  },
  {
   "cell_type": "code",
   "execution_count": 11,
   "metadata": {},
   "outputs": [],
   "source": [
    "# Define different scaling strategies\n",
    "#no_scl     = FunctionTransformer(func=lambda x: np.array(x))\n",
    "no_scl     = FunctionTransformer(func=no_scaling)\n",
    "robust_scl = RobustScaler()\n",
    "std_scl    = StandardScaler()\n",
    "power_scl  = PowerTransformer(method='yeo-johnson')\n",
    "scalers = [no_scl, robust_scl, std_scl, power_scl]\n",
    "scaler_names = ['NO SCALING', 'ROBUST SCALER', 'STANDARD SCALER', 'POWER SCALER']"
   ]
  },
  {
   "cell_type": "markdown",
   "metadata": {},
   "source": [
    "----"
   ]
  },
  {
   "cell_type": "markdown",
   "metadata": {},
   "source": [
    "### Stochastic gradient decent"
   ]
  },
  {
   "cell_type": "code",
   "execution_count": 12,
   "metadata": {},
   "outputs": [],
   "source": [
    "from sklearn.linear_model import SGDClassifier  "
   ]
  },
  {
   "cell_type": "code",
   "execution_count": 13,
   "metadata": {},
   "outputs": [],
   "source": [
    "SGD_clf = SGDClassifier(random_state=77, loss='hinge')"
   ]
  },
  {
   "cell_type": "code",
   "execution_count": 14,
   "metadata": {},
   "outputs": [
    {
     "name": "stderr",
     "output_type": "stream",
     "text": [
      "C:\\Users\\micha\\Programs\\anaconda3\\envs\\py27\\lib\\site-packages\\sklearn\\preprocessing\\_function_transformer.py:98: FutureWarning: The default validate=True will be replaced by validate=False in 0.22.\n",
      "  \"validate=False in 0.22.\", FutureWarning)\n"
     ]
    }
   ],
   "source": [
    "# Build pipelines for imputation and scaling\n",
    "pipe_41 = Pipeline([ ('impute_04', impute_04), ('scale', no_scl) ])\n",
    "pipe_44 = Pipeline([ ('impute_04', impute_04), ('scale', power_scl) ])\n",
    "\n",
    "X_train_41 = pipe_41.fit_transform(X_train);\n",
    "X_train_44 = pipe_44.fit_transform(X_train);"
   ]
  },
  {
   "cell_type": "markdown",
   "metadata": {},
   "source": [
    "----"
   ]
  },
  {
   "cell_type": "markdown",
   "metadata": {},
   "source": [
    "## Feature selection"
   ]
  },
  {
   "cell_type": "markdown",
   "metadata": {},
   "source": [
    "### Try different sets of features and check the impact on the results (ROC AUC)"
   ]
  },
  {
   "cell_type": "code",
   "execution_count": 15,
   "metadata": {},
   "outputs": [],
   "source": [
    "from sklearn.model_selection import cross_val_score, cross_val_predict, cross_validate"
   ]
  },
  {
   "cell_type": "markdown",
   "metadata": {},
   "source": [
    "### Initial run of SGD "
   ]
  },
  {
   "cell_type": "code",
   "execution_count": 16,
   "metadata": {},
   "outputs": [
    {
     "name": "stderr",
     "output_type": "stream",
     "text": [
      "C:\\Users\\micha\\Programs\\anaconda3\\envs\\py27\\lib\\site-packages\\sklearn\\linear_model\\stochastic_gradient.py:166: FutureWarning: max_iter and tol parameters have been added in SGDClassifier in 0.19. If both are left unset, they default to max_iter=5 and tol=None. If tol is not None, max_iter defaults to max_iter=1000. From 0.21, default max_iter will be 1000, and default tol will be 1e-3.\n",
      "  FutureWarning)\n"
     ]
    },
    {
     "data": {
      "text/plain": [
       "0.9182539682539682"
      ]
     },
     "execution_count": 16,
     "metadata": {},
     "output_type": "execute_result"
    }
   ],
   "source": [
    "scores = cross_val_score(SGD_clf, X_train_44, y_train, cv=6, scoring='roc_auc')\n",
    "scores.mean()"
   ]
  },
  {
   "cell_type": "code",
   "execution_count": 17,
   "metadata": {},
   "outputs": [
    {
     "data": {
      "image/png": "[encoded data removed]",
      "text/plain": [
       "<Figure size 432x288 with 1 Axes>"
      ]
     },
     "metadata": {
      "needs_background": "light"
     },
     "output_type": "display_data"
    }
   ],
   "source": [
    "y_scores = cross_val_predict(SGD_clf, X_train_41, y_train, cv=6, method='decision_function' )\n",
    "roc_auc_score(y_train, y_scores)\n",
    "precision, recall, proba = precision_recall_curve(y_train, y_scores)\n",
    "plt_precision_vs_recall(precision, recall, title='SGD')"
   ]
  },
  {
   "cell_type": "markdown",
   "metadata": {},
   "source": [
    "#### Feature reduction"
   ]
  },
  {
   "cell_type": "code",
   "execution_count": 18,
   "metadata": {},
   "outputs": [],
   "source": [
    "from sklearn.feature_selection import RFE, RFECV"
   ]
  },
  {
   "cell_type": "code",
   "execution_count": 19,
   "metadata": {},
   "outputs": [],
   "source": [
    "RFE_ = RFE(SGD_clf).fit(X_train_44, y_train)"
   ]
  },
  {
   "cell_type": "code",
   "execution_count": 20,
   "metadata": {},
   "outputs": [
    {
     "data": {
      "text/plain": [
       "array([ 1,  7,  1,  1, 10,  1,  1,  4, 13,  1,  6,  9,  1,  5, 12,  1,  1,\n",
       "        3,  1, 11,  1,  8,  1,  2])"
      ]
     },
     "execution_count": 20,
     "metadata": {},
     "output_type": "execute_result"
    }
   ],
   "source": [
    "RFE_.ranking_"
   ]
  },
  {
   "cell_type": "code",
   "execution_count": 21,
   "metadata": {},
   "outputs": [],
   "source": [
    "X_train_44_red = pipe_44.transform(X_train)[:, RFE_.ranking_ <= 1]\n",
    "X_test_44_red = pipe_44.transform(X_test)[:, RFE_.ranking_ <= 1]"
   ]
  },
  {
   "cell_type": "code",
   "execution_count": 22,
   "metadata": {},
   "outputs": [
    {
     "data": {
      "text/plain": [
       "['salary',\n",
       " 'long_term_incentive',\n",
       " 'deferred_income',\n",
       " 'other',\n",
       " 'expenses',\n",
       " 'exercised_stock_options',\n",
       " 'total_stock_value',\n",
       " 'shared_receipt_with_poi',\n",
       " 'bonus_deferral_payments_rate',\n",
       " 'exer_stock_options_deferral_payments_rate',\n",
       " 'bonus_total_payments_rate',\n",
       " 'toPOI_rate']"
      ]
     },
     "execution_count": 22,
     "metadata": {},
     "output_type": "execute_result"
    }
   ],
   "source": [
    "SGD_features = get_features(feature_list, RFE_.support_)\n",
    "SGD_features"
   ]
  },
  {
   "cell_type": "code",
   "execution_count": 23,
   "metadata": {},
   "outputs": [
    {
     "name": "stdout",
     "output_type": "stream",
     "text": [
      "0.9090909090909091 ROC AUC for\n"
     ]
    },
    {
     "data": {
      "image/png": "[encoded data removed]",
      "text/plain": [
       "<Figure size 432x288 with 1 Axes>"
      ]
     },
     "metadata": {
      "needs_background": "light"
     },
     "output_type": "display_data"
    }
   ],
   "source": [
    "# RFECV features reduction. RFB Kernel results.\n",
    "y_scores = cross_val_predict(SGD_clf, X_train_44_red, y_train, cv=6, method='decision_function')\n",
    "print roc_auc_score(y_train, y_scores), \"ROC AUC for\"\n",
    "precision, recall, proba = precision_recall_curve(y_train, y_scores)\n",
    "plt_precision_vs_recall(precision, recall, title='SGD RFECV best features')"
   ]
  },
  {
   "cell_type": "code",
   "execution_count": 24,
   "metadata": {},
   "outputs": [
    {
     "data": {
      "text/html": [
       "<div>\n",
       "<style scoped>\n",
       "    .dataframe tbody tr th:only-of-type {\n",
       "        vertical-align: middle;\n",
       "    }\n",
       "\n",
       "    .dataframe tbody tr th {\n",
       "        vertical-align: top;\n",
       "    }\n",
       "\n",
       "    .dataframe thead th {\n",
       "        text-align: right;\n",
       "    }\n",
       "</style>\n",
       "<table border=\"1\" class=\"dataframe\">\n",
       "  <thead>\n",
       "    <tr style=\"text-align: right;\">\n",
       "      <th></th>\n",
       "      <th>0</th>\n",
       "      <th>1</th>\n",
       "    </tr>\n",
       "  </thead>\n",
       "  <tbody>\n",
       "    <tr>\n",
       "      <th>0</th>\n",
       "      <td>salary</td>\n",
       "      <td>1</td>\n",
       "    </tr>\n",
       "    <tr>\n",
       "      <th>20</th>\n",
       "      <td>bonus_total_payments_rate</td>\n",
       "      <td>1</td>\n",
       "    </tr>\n",
       "    <tr>\n",
       "      <th>2</th>\n",
       "      <td>long_term_incentive</td>\n",
       "      <td>1</td>\n",
       "    </tr>\n",
       "    <tr>\n",
       "      <th>3</th>\n",
       "      <td>deferred_income</td>\n",
       "      <td>1</td>\n",
       "    </tr>\n",
       "    <tr>\n",
       "      <th>18</th>\n",
       "      <td>exer_stock_options_deferral_payments_rate</td>\n",
       "      <td>1</td>\n",
       "    </tr>\n",
       "    <tr>\n",
       "      <th>5</th>\n",
       "      <td>other</td>\n",
       "      <td>1</td>\n",
       "    </tr>\n",
       "    <tr>\n",
       "      <th>6</th>\n",
       "      <td>expenses</td>\n",
       "      <td>1</td>\n",
       "    </tr>\n",
       "    <tr>\n",
       "      <th>16</th>\n",
       "      <td>bonus_deferral_payments_rate</td>\n",
       "      <td>1</td>\n",
       "    </tr>\n",
       "    <tr>\n",
       "      <th>15</th>\n",
       "      <td>shared_receipt_with_poi</td>\n",
       "      <td>1</td>\n",
       "    </tr>\n",
       "    <tr>\n",
       "      <th>9</th>\n",
       "      <td>exercised_stock_options</td>\n",
       "      <td>1</td>\n",
       "    </tr>\n",
       "    <tr>\n",
       "      <th>12</th>\n",
       "      <td>total_stock_value</td>\n",
       "      <td>1</td>\n",
       "    </tr>\n",
       "    <tr>\n",
       "      <th>22</th>\n",
       "      <td>toPOI_rate</td>\n",
       "      <td>1</td>\n",
       "    </tr>\n",
       "    <tr>\n",
       "      <th>23</th>\n",
       "      <td>fromPOI_rate</td>\n",
       "      <td>2</td>\n",
       "    </tr>\n",
       "    <tr>\n",
       "      <th>17</th>\n",
       "      <td>rest_stock_deferral_payments_rate</td>\n",
       "      <td>3</td>\n",
       "    </tr>\n",
       "    <tr>\n",
       "      <th>7</th>\n",
       "      <td>director_fees</td>\n",
       "      <td>4</td>\n",
       "    </tr>\n",
       "    <tr>\n",
       "      <th>13</th>\n",
       "      <td>from_this_person_to_poi</td>\n",
       "      <td>5</td>\n",
       "    </tr>\n",
       "    <tr>\n",
       "      <th>10</th>\n",
       "      <td>restricted_stock</td>\n",
       "      <td>6</td>\n",
       "    </tr>\n",
       "    <tr>\n",
       "      <th>1</th>\n",
       "      <td>bonus</td>\n",
       "      <td>7</td>\n",
       "    </tr>\n",
       "    <tr>\n",
       "      <th>21</th>\n",
       "      <td>exer_stock_options_total_payments_rate</td>\n",
       "      <td>8</td>\n",
       "    </tr>\n",
       "    <tr>\n",
       "      <th>11</th>\n",
       "      <td>restricted_stock_deferred</td>\n",
       "      <td>9</td>\n",
       "    </tr>\n",
       "    <tr>\n",
       "      <th>4</th>\n",
       "      <td>deferral_payments</td>\n",
       "      <td>10</td>\n",
       "    </tr>\n",
       "    <tr>\n",
       "      <th>19</th>\n",
       "      <td>long_term_incentive_total_payments_rate</td>\n",
       "      <td>11</td>\n",
       "    </tr>\n",
       "    <tr>\n",
       "      <th>14</th>\n",
       "      <td>from_poi_to_this_person</td>\n",
       "      <td>12</td>\n",
       "    </tr>\n",
       "    <tr>\n",
       "      <th>8</th>\n",
       "      <td>total_payments</td>\n",
       "      <td>13</td>\n",
       "    </tr>\n",
       "  </tbody>\n",
       "</table>\n",
       "</div>"
      ],
      "text/plain": [
       "                                            0   1\n",
       "0                                      salary   1\n",
       "20                  bonus_total_payments_rate   1\n",
       "2                         long_term_incentive   1\n",
       "3                             deferred_income   1\n",
       "18  exer_stock_options_deferral_payments_rate   1\n",
       "5                                       other   1\n",
       "6                                    expenses   1\n",
       "16               bonus_deferral_payments_rate   1\n",
       "15                    shared_receipt_with_poi   1\n",
       "9                     exercised_stock_options   1\n",
       "12                          total_stock_value   1\n",
       "22                                 toPOI_rate   1\n",
       "23                               fromPOI_rate   2\n",
       "17          rest_stock_deferral_payments_rate   3\n",
       "7                               director_fees   4\n",
       "13                    from_this_person_to_poi   5\n",
       "10                           restricted_stock   6\n",
       "1                                       bonus   7\n",
       "21     exer_stock_options_total_payments_rate   8\n",
       "11                  restricted_stock_deferred   9\n",
       "4                           deferral_payments  10\n",
       "19    long_term_incentive_total_payments_rate  11\n",
       "14                    from_poi_to_this_person  12\n",
       "8                              total_payments  13"
      ]
     },
     "execution_count": 24,
     "metadata": {},
     "output_type": "execute_result"
    }
   ],
   "source": [
    "score_table = pd.DataFrame(zip(feature_list, RFE_.ranking_))\n",
    "score_table.sort_values(1, axis='index')"
   ]
  },
  {
   "cell_type": "markdown",
   "metadata": {},
   "source": [
    "### Random search to find best set of parameters\n",
    "\n",
    "Find best parameters for SGD model using Randomized Search algorithm"
   ]
  },
  {
   "cell_type": "code",
   "execution_count": 25,
   "metadata": {},
   "outputs": [],
   "source": [
    "from sklearn.model_selection import RandomizedSearchCV "
   ]
  },
  {
   "cell_type": "code",
   "execution_count": 26,
   "metadata": {},
   "outputs": [],
   "source": [
    "param_distributions = {\n",
    "            'penalty': ['l2', 'l1'],\n",
    "            'alpha': stats.uniform(10**(-6), 100),\n",
    "            'learning_rate': ['constant', 'invscaling', 'adaptive'],\n",
    "            'eta0': stats.uniform(10**-12,100)\n",
    "        }\n",
    "#stats.expon(scale=1.0),"
   ]
  },
  {
   "cell_type": "code",
   "execution_count": 27,
   "metadata": {},
   "outputs": [],
   "source": [
    "RandSearch = RandomizedSearchCV(SGD_clf, param_distributions, cv=6, n_iter=5000, scoring='roc_auc', iid=False, verbose=1, n_jobs=8, random_state=77)"
   ]
  },
  {
   "cell_type": "code",
   "execution_count": 28,
   "metadata": {},
   "outputs": [
    {
     "name": "stdout",
     "output_type": "stream",
     "text": [
      "Fitting 6 folds for each of 5000 candidates, totalling 30000 fits\n"
     ]
    },
    {
     "name": "stderr",
     "output_type": "stream",
     "text": [
      "[Parallel(n_jobs=8)]: Using backend LokyBackend with 8 concurrent workers.\n",
      "[Parallel(n_jobs=8)]: Done  34 tasks      | elapsed:    4.3s\n",
      "[Parallel(n_jobs=8)]: Done 1993 tasks      | elapsed:    7.0s\n",
      "[Parallel(n_jobs=8)]: Done 6993 tasks      | elapsed:   12.5s\n",
      "[Parallel(n_jobs=8)]: Done 13993 tasks      | elapsed:   20.7s\n",
      "[Parallel(n_jobs=8)]: Done 22993 tasks      | elapsed:   31.5s\n",
      "[Parallel(n_jobs=8)]: Done 30000 out of 30000 | elapsed:   39.2s finished\n"
     ]
    },
    {
     "data": {
      "text/plain": [
       "RandomizedSearchCV(cv=6, error_score='raise-deprecating',\n",
       "          estimator=SGDClassifier(alpha=0.0001, average=False, class_weight=None,\n",
       "       early_stopping=False, epsilon=0.1, eta0=0.0, fit_intercept=True,\n",
       "       l1_ratio=0.15, learning_rate='optimal', loss='hinge', max_iter=None,\n",
       "       n_iter=None, n_iter_no_change=5, n_jobs=None, penalty='l2',\n",
       "       power_t=0.5, random_state=77, shuffle=True, tol=None,\n",
       "       validation_fraction=0.1, verbose=0, warm_start=False),\n",
       "          fit_params=None, iid=False, n_iter=5000, n_jobs=8,\n",
       "          param_distributions={'penalty': ['l2', 'l1'], 'alpha': <scipy.stats._distn_infrastructure.rv_frozen object at 0x000000000E460048>, 'learning_rate': ['constant', 'invscaling', 'adaptive'], 'eta0': <scipy.stats._distn_infrastructure.rv_frozen object at 0x000000000E4606C8>},\n",
       "          pre_dispatch='2*n_jobs', random_state=77, refit=True,\n",
       "          return_train_score='warn', scoring='roc_auc', verbose=1)"
      ]
     },
     "execution_count": 28,
     "metadata": {},
     "output_type": "execute_result"
    }
   ],
   "source": [
    "RandSearch.fit(X_train_44_red, y_train)"
   ]
  },
  {
   "cell_type": "code",
   "execution_count": 29,
   "metadata": {},
   "outputs": [
    {
     "data": {
      "text/plain": [
       "0.909126984126984"
      ]
     },
     "execution_count": 29,
     "metadata": {},
     "output_type": "execute_result"
    }
   ],
   "source": [
    "RandSearch.best_score_"
   ]
  },
  {
   "cell_type": "code",
   "execution_count": 30,
   "metadata": {},
   "outputs": [
    {
     "data": {
      "text/plain": [
       "{'alpha': 86.00624587490518,\n",
       " 'eta0': 0.1450498954791332,\n",
       " 'learning_rate': 'invscaling',\n",
       " 'penalty': 'l2'}"
      ]
     },
     "execution_count": 30,
     "metadata": {},
     "output_type": "execute_result"
    }
   ],
   "source": [
    "RandSearch.best_params_"
   ]
  },
  {
   "cell_type": "code",
   "execution_count": 31,
   "metadata": {},
   "outputs": [
    {
     "name": "stdout",
     "output_type": "stream",
     "text": [
      "0.8494318181818182 ROC AUC for\n"
     ]
    },
    {
     "data": {
      "image/png": "[encoded data removed]",
      "text/plain": [
       "<Figure size 432x288 with 1 Axes>"
      ]
     },
     "metadata": {
      "needs_background": "light"
     },
     "output_type": "display_data"
    }
   ],
   "source": [
    "y_scores = cross_val_predict(RandSearch.best_estimator_, X_train_44_red, y_train, cv=6, method='decision_function')\n",
    "print roc_auc_score(y_train, y_scores), \"ROC AUC for\"\n",
    "precision, recall, proba = precision_recall_curve(y_train, y_scores)\n",
    "plt_precision_vs_recall(precision, recall, title='SGD RFECV best features')"
   ]
  },
  {
   "cell_type": "code",
   "execution_count": 32,
   "metadata": {},
   "outputs": [],
   "source": [
    "SGD_adapt = RandSearch.best_estimator_"
   ]
  },
  {
   "cell_type": "code",
   "execution_count": 33,
   "metadata": {},
   "outputs": [],
   "source": [
    "param_distributions = {\n",
    "            'penalty': ['l2', 'l1'],\n",
    "            'alpha': stats.uniform(10**(-6), 50),\n",
    "            #'learning_rate': ['constant', 'invscaling', 'adaptive'],\n",
    "            #'eta0': stats.uniform(10**-12,100)\n",
    "        }\n",
    "#stats.expon(scale=1.0),"
   ]
  },
  {
   "cell_type": "code",
   "execution_count": 34,
   "metadata": {},
   "outputs": [],
   "source": [
    "RandSearch = RandomizedSearchCV(SGD_clf, param_distributions, cv=6, n_iter=5000, scoring='roc_auc', iid=False, verbose=1, n_jobs=8, random_state=77)"
   ]
  },
  {
   "cell_type": "code",
   "execution_count": 35,
   "metadata": {},
   "outputs": [
    {
     "name": "stdout",
     "output_type": "stream",
     "text": [
      "Fitting 6 folds for each of 5000 candidates, totalling 30000 fits\n"
     ]
    },
    {
     "name": "stderr",
     "output_type": "stream",
     "text": [
      "[Parallel(n_jobs=8)]: Using backend LokyBackend with 8 concurrent workers.\n",
      "[Parallel(n_jobs=8)]: Done 304 tasks      | elapsed:    0.7s\n",
      "[Parallel(n_jobs=8)]: Done 2704 tasks      | elapsed:    3.5s\n",
      "[Parallel(n_jobs=8)]: Done 6704 tasks      | elapsed:    8.1s\n",
      "[Parallel(n_jobs=8)]: Done 12304 tasks      | elapsed:   14.7s\n",
      "[Parallel(n_jobs=8)]: Done 19504 tasks      | elapsed:   23.3s\n",
      "[Parallel(n_jobs=8)]: Done 28304 tasks      | elapsed:   34.0s\n",
      "[Parallel(n_jobs=8)]: Done 30000 out of 30000 | elapsed:   35.7s finished\n"
     ]
    },
    {
     "data": {
      "text/plain": [
       "RandomizedSearchCV(cv=6, error_score='raise-deprecating',\n",
       "          estimator=SGDClassifier(alpha=0.0001, average=False, class_weight=None,\n",
       "       early_stopping=False, epsilon=0.1, eta0=0.0, fit_intercept=True,\n",
       "       l1_ratio=0.15, learning_rate='optimal', loss='hinge', max_iter=None,\n",
       "       n_iter=None, n_iter_no_change=5, n_jobs=None, penalty='l2',\n",
       "       power_t=0.5, random_state=77, shuffle=True, tol=None,\n",
       "       validation_fraction=0.1, verbose=0, warm_start=False),\n",
       "          fit_params=None, iid=False, n_iter=5000, n_jobs=8,\n",
       "          param_distributions={'penalty': ['l2', 'l1'], 'alpha': <scipy.stats._distn_infrastructure.rv_frozen object at 0x00000000103F6508>},\n",
       "          pre_dispatch='2*n_jobs', random_state=77, refit=True,\n",
       "          return_train_score='warn', scoring='roc_auc', verbose=1)"
      ]
     },
     "execution_count": 35,
     "metadata": {},
     "output_type": "execute_result"
    }
   ],
   "source": [
    "RandSearch.fit(X_train_44_red, y_train)"
   ]
  },
  {
   "cell_type": "code",
   "execution_count": 36,
   "metadata": {},
   "outputs": [
    {
     "data": {
      "text/plain": [
       "0.9547619047619048"
      ]
     },
     "execution_count": 36,
     "metadata": {},
     "output_type": "execute_result"
    }
   ],
   "source": [
    "RandSearch.best_score_"
   ]
  },
  {
   "cell_type": "code",
   "execution_count": 37,
   "metadata": {},
   "outputs": [
    {
     "data": {
      "text/plain": [
       "{'alpha': 6.755882659423807, 'penalty': 'l2'}"
      ]
     },
     "execution_count": 37,
     "metadata": {},
     "output_type": "execute_result"
    }
   ],
   "source": [
    "RandSearch.best_params_"
   ]
  },
  {
   "cell_type": "code",
   "execution_count": 38,
   "metadata": {},
   "outputs": [
    {
     "name": "stdout",
     "output_type": "stream",
     "text": [
      "0.9393939393939394 ROC AUC for\n"
     ]
    },
    {
     "data": {
      "image/png": "[encoded data removed]",
      "text/plain": [
       "<Figure size 432x288 with 1 Axes>"
      ]
     },
     "metadata": {
      "needs_background": "light"
     },
     "output_type": "display_data"
    }
   ],
   "source": [
    "y_scores = cross_val_predict(RandSearch.best_estimator_, X_train_44_red, y_train, cv=6, method='decision_function')\n",
    "print roc_auc_score(y_train, y_scores), \"ROC AUC for\"\n",
    "precision, recall, proba = precision_recall_curve(y_train, y_scores)\n",
    "plt_precision_vs_recall(precision, recall, title='SGD RFECV best features')"
   ]
  },
  {
   "cell_type": "code",
   "execution_count": 39,
   "metadata": {},
   "outputs": [],
   "source": [
    "SGD_opt = RandSearch.best_estimator_"
   ]
  },
  {
   "cell_type": "code",
   "execution_count": 41,
   "metadata": {},
   "outputs": [],
   "source": [
    "param_distributions = {\n",
    "            'penalty': ['l2', 'l1'],\n",
    "            'alpha': stats.uniform(10**(-6), 20),\n",
    "            'learning_rate': ['invscaling'],\n",
    "            'eta0': stats.uniform(10**-12,20),\n",
    "            'power_t': stats.uniform(10**-12,5)\n",
    "        }\n",
    "#stats.expon(scale=1.0),"
   ]
  },
  {
   "cell_type": "code",
   "execution_count": 42,
   "metadata": {},
   "outputs": [],
   "source": [
    "RandSearch = RandomizedSearchCV(SGD_clf, param_distributions, cv=6, n_iter=5000, scoring='roc_auc', iid=False, verbose=1, n_jobs=8, random_state=77)"
   ]
  },
  {
   "cell_type": "code",
   "execution_count": 43,
   "metadata": {},
   "outputs": [
    {
     "name": "stdout",
     "output_type": "stream",
     "text": [
      "Fitting 6 folds for each of 5000 candidates, totalling 30000 fits\n"
     ]
    },
    {
     "name": "stderr",
     "output_type": "stream",
     "text": [
      "[Parallel(n_jobs=8)]: Using backend LokyBackend with 8 concurrent workers.\n",
      "[Parallel(n_jobs=8)]: Done 412 tasks      | elapsed:    0.8s\n",
      "[Parallel(n_jobs=8)]: Done 3712 tasks      | elapsed:    4.4s\n",
      "[Parallel(n_jobs=8)]: Done 9212 tasks      | elapsed:   10.4s\n",
      "[Parallel(n_jobs=8)]: Done 16912 tasks      | elapsed:   19.0s\n",
      "[Parallel(n_jobs=8)]: Done 26812 tasks      | elapsed:   30.1s\n",
      "[Parallel(n_jobs=8)]: Done 30000 out of 30000 | elapsed:   33.3s finished\n"
     ]
    },
    {
     "data": {
      "text/plain": [
       "RandomizedSearchCV(cv=6, error_score='raise-deprecating',\n",
       "          estimator=SGDClassifier(alpha=0.0001, average=False, class_weight=None,\n",
       "       early_stopping=False, epsilon=0.1, eta0=0.0, fit_intercept=True,\n",
       "       l1_ratio=0.15, learning_rate='optimal', loss='hinge', max_iter=None,\n",
       "       n_iter=None, n_iter_no_change=5, n_jobs=None, penalty='l2',\n",
       "       power_t=0.5, random_state=77, shuffle=True, tol=None,\n",
       "       validation_fraction=0.1, verbose=0, warm_start=False),\n",
       "          fit_params=None, iid=False, n_iter=5000, n_jobs=8,\n",
       "          param_distributions={'penalty': ['l2', 'l1'], 'alpha': <scipy.stats._distn_infrastructure.rv_frozen object at 0x000000000F9F9648>, 'learning_rate': ['invscaling'], 'eta0': <scipy.stats._distn_infrastructure.rv_frozen object at 0x000000000F9F9FC8>, 'power_t': <scipy.stats._distn_infrastructure.rv_frozen object at 0x000000000FC92088>},\n",
       "          pre_dispatch='2*n_jobs', random_state=77, refit=True,\n",
       "          return_train_score='warn', scoring='roc_auc', verbose=1)"
      ]
     },
     "execution_count": 43,
     "metadata": {},
     "output_type": "execute_result"
    }
   ],
   "source": [
    "RandSearch.fit(X_train_44_red, y_train)"
   ]
  },
  {
   "cell_type": "code",
   "execution_count": 44,
   "metadata": {},
   "outputs": [
    {
     "data": {
      "text/plain": [
       "0.9210317460317462"
      ]
     },
     "execution_count": 44,
     "metadata": {},
     "output_type": "execute_result"
    }
   ],
   "source": [
    "RandSearch.best_score_"
   ]
  },
  {
   "cell_type": "code",
   "execution_count": 45,
   "metadata": {},
   "outputs": [
    {
     "data": {
      "text/plain": [
       "{'alpha': 0.27975921301265744,\n",
       " 'eta0': 3.6175032681117134,\n",
       " 'learning_rate': 'invscaling',\n",
       " 'penalty': 'l2',\n",
       " 'power_t': 1.4505216681515503}"
      ]
     },
     "execution_count": 45,
     "metadata": {},
     "output_type": "execute_result"
    }
   ],
   "source": [
    "RandSearch.best_params_"
   ]
  },
  {
   "cell_type": "code",
   "execution_count": 46,
   "metadata": {},
   "outputs": [
    {
     "name": "stdout",
     "output_type": "stream",
     "text": [
      "0.896780303030303 ROC AUC for\n"
     ]
    },
    {
     "data": {
      "image/png": "[encoded data removed]",
      "text/plain": [
       "<Figure size 432x288 with 1 Axes>"
      ]
     },
     "metadata": {
      "needs_background": "light"
     },
     "output_type": "display_data"
    }
   ],
   "source": [
    "y_scores = cross_val_predict(RandSearch.best_estimator_, X_train_44_red, y_train, cv=6, method='decision_function')\n",
    "print roc_auc_score(y_train, y_scores), \"ROC AUC for\"\n",
    "precision, recall, proba = precision_recall_curve(y_train, y_scores)\n",
    "plt_precision_vs_recall(precision, recall, title='SGD RFECV best features')"
   ]
  },
  {
   "cell_type": "code",
   "execution_count": 47,
   "metadata": {},
   "outputs": [],
   "source": [
    "SGD_inv = RandSearch.best_estimator_"
   ]
  },
  {
   "cell_type": "code",
   "execution_count": 48,
   "metadata": {},
   "outputs": [
    {
     "data": {
      "text/plain": [
       "{'alpha': 0.27975921301265744,\n",
       " 'eta0': 3.6175032681117134,\n",
       " 'learning_rate': 'invscaling',\n",
       " 'penalty': 'l2',\n",
       " 'power_t': 1.4505216681515503}"
      ]
     },
     "execution_count": 48,
     "metadata": {},
     "output_type": "execute_result"
    }
   ],
   "source": [
    "RandSearch.best_params_"
   ]
  },
  {
   "cell_type": "code",
   "execution_count": 49,
   "metadata": {},
   "outputs": [
    {
     "name": "stdout",
     "output_type": "stream",
     "text": [
      "Fitting 6 folds for each of 5000 candidates, totalling 30000 fits\n"
     ]
    },
    {
     "name": "stderr",
     "output_type": "stream",
     "text": [
      "[Parallel(n_jobs=4)]: Using backend LokyBackend with 4 concurrent workers.\n",
      "[Parallel(n_jobs=4)]: Done 1096 tasks      | elapsed:    1.3s\n",
      "[Parallel(n_jobs=4)]: Done 5896 tasks      | elapsed:    6.6s\n",
      "[Parallel(n_jobs=4)]: Done 13896 tasks      | elapsed:   15.2s\n",
      "[Parallel(n_jobs=4)]: Done 25096 tasks      | elapsed:   27.5s\n",
      "[Parallel(n_jobs=4)]: Done 30000 out of 30000 | elapsed:   32.7s finished\n"
     ]
    },
    {
     "name": "stdout",
     "output_type": "stream",
     "text": [
      "Fitting 6 folds for each of 5000 candidates, totalling 30000 fits\n"
     ]
    },
    {
     "name": "stderr",
     "output_type": "stream",
     "text": [
      "[Parallel(n_jobs=4)]: Using backend LokyBackend with 4 concurrent workers.\n",
      "[Parallel(n_jobs=4)]: Done 1028 tasks      | elapsed:    1.3s\n",
      "[Parallel(n_jobs=4)]: Done 5528 tasks      | elapsed:    6.4s\n",
      "[Parallel(n_jobs=4)]: Done 13028 tasks      | elapsed:   14.9s\n",
      "[Parallel(n_jobs=4)]: Done 23528 tasks      | elapsed:   26.2s\n",
      "[Parallel(n_jobs=4)]: Done 30000 out of 30000 | elapsed:   32.9s finished\n"
     ]
    },
    {
     "name": "stdout",
     "output_type": "stream",
     "text": [
      "Fitting 6 folds for each of 5000 candidates, totalling 30000 fits\n"
     ]
    },
    {
     "name": "stderr",
     "output_type": "stream",
     "text": [
      "[Parallel(n_jobs=4)]: Using backend LokyBackend with 4 concurrent workers.\n",
      "[Parallel(n_jobs=4)]: Done 1468 tasks      | elapsed:    1.8s\n",
      "[Parallel(n_jobs=4)]: Done 8968 tasks      | elapsed:    9.7s\n",
      "[Parallel(n_jobs=4)]: Done 21468 tasks      | elapsed:   22.7s\n",
      "[Parallel(n_jobs=4)]: Done 30000 out of 30000 | elapsed:   31.4s finished\n"
     ]
    },
    {
     "name": "stdout",
     "output_type": "stream",
     "text": [
      "Fitting 6 folds for each of 5000 candidates, totalling 30000 fits\n"
     ]
    },
    {
     "name": "stderr",
     "output_type": "stream",
     "text": [
      "[Parallel(n_jobs=4)]: Using backend LokyBackend with 4 concurrent workers.\n",
      "[Parallel(n_jobs=4)]: Done 1264 tasks      | elapsed:    1.6s\n",
      "[Parallel(n_jobs=4)]: Done 7864 tasks      | elapsed:    8.7s\n",
      "[Parallel(n_jobs=4)]: Done 18864 tasks      | elapsed:   20.6s\n"
     ]
    },
    {
     "name": "stdout",
     "output_type": "stream",
     "text": [
      "SGD + learning_rate = optimal:\n",
      "ROC AUC: 0.9547619047619048\n",
      "Best parameters:\n",
      "{'penalty': 'l2', 'alpha': 6.755882659423807}\n",
      "\n",
      "SGD + learning_rate = adaptive:\n",
      "ROC AUC: 0.9293650793650793\n",
      "Best parameters:\n",
      "{'penalty': 'l2', 'alpha': 2.4125682648701137, 'eta0': 0.0978247729318035}\n",
      "\n",
      "SGD + learning_rate = constant:\n",
      "ROC AUC: 0.9206349206349206\n",
      "Best parameters:\n",
      "{'penalty': 'l2', 'alpha': 0.3928257842842791, 'eta0': 1.9966253220559569}\n",
      "\n",
      "SGD + learning_rate = invscaling:\n",
      "ROC AUC: 0.9253968253968253\n",
      "Best parameters:\n",
      "{'penalty': 'l2', 'alpha': 16.41100076442593, 'eta0': 3.2734745238535066, 'power_t': 0.7690012751684269}\n",
      "\n"
     ]
    },
    {
     "name": "stderr",
     "output_type": "stream",
     "text": [
      "[Parallel(n_jobs=4)]: Done 30000 out of 30000 | elapsed:   32.8s finished\n"
     ]
    }
   ],
   "source": [
    "from sklearn.linear_model import SGDClassifier\n",
    "Results = {}\n",
    "learning_rate = ['optimal', 'constant', 'invscaling', 'adaptive'] \n",
    "\n",
    "for lr in learning_rate:\n",
    "    if lr == 'optimal':\n",
    "        SGD_clf = SGDClassifier(random_state=77, loss='hinge', learning_rate='optimal')\n",
    "        param_distributions = {\n",
    "            'penalty': ['l2', 'l1'],\n",
    "            'alpha': stats.uniform(10**(-6), 50),\n",
    "        }\n",
    "        \n",
    "    elif lr == 'invscaling':\n",
    "        SGD_clf = SGDClassifier(random_state=77, loss='hinge', learning_rate='invscaling', eta0=0.01)\n",
    "        param_distributions = {\n",
    "            'penalty': ['l2', 'l1'],\n",
    "            'alpha': stats.uniform(10**(-6), 50),\n",
    "            'eta0': stats.uniform(10**-12,20),\n",
    "            'power_t': stats.uniform(10**-12,5)\n",
    "        }\n",
    "    elif lr == 'constant':\n",
    "        SGD_clf = SGDClassifier(random_state=77, loss='hinge', learning_rate='constant', eta0=0.01)\n",
    "        param_distributions = {\n",
    "            'penalty': ['l2', 'l1'],\n",
    "            'alpha': stats.uniform(10**(-6), 50),\n",
    "            'eta0': stats.uniform(10**-12,20)\n",
    "        }\n",
    "    else:\n",
    "        SGD_clf == SGDClassifier(random_state=77, loss='hinge', learning_rate='adaptive', eta0=0.01)\n",
    "        param_distributions = {\n",
    "            'penalty': ['l2', 'l1'],\n",
    "            'alpha': stats.uniform(10**(-6), 50),\n",
    "            'eta0': stats.uniform(10**-12,20)\n",
    "        }\n",
    "        \n",
    "    RFE_ = RFE(SGD_clf).fit(X_train_44, y_train)        \n",
    "    X_train_44_red = pipe_44.transform(X_train)[:, RFE_.ranking_ <= 1]    \n",
    "    RandSearch = RandomizedSearchCV(SGD_clf, param_distributions, cv=6, n_iter=5000, scoring='roc_auc', iid=False, verbose=1, n_jobs=4, random_state=77)        \n",
    "    RandSearch.fit(X_train_44_red, y_train)\n",
    "\n",
    "    Results[lr] = {'params': RandSearch.best_params_,\n",
    "                   'ROC_AUC': RandSearch.best_score_ }\n",
    "\n",
    "for key in Results.keys():\n",
    "    print \"SGD + learning_rate =\", key + \":\"\n",
    "    print \"ROC AUC:\", Results[key]['ROC_AUC']\n",
    "    print \"Best parameters:\"\n",
    "    print Results[key]['params']\n",
    "    print"
   ]
  },
  {
   "cell_type": "code",
   "execution_count": 50,
   "metadata": {},
   "outputs": [
    {
     "data": {
      "text/plain": [
       "24"
      ]
     },
     "execution_count": 50,
     "metadata": {},
     "output_type": "execute_result"
    }
   ],
   "source": [
    "X_train_44_df = pd.DataFrame(X_train_44, columns=feature_list)\n",
    "features = feature_list\n",
    "len(features)"
   ]
  },
  {
   "cell_type": "code",
   "execution_count": 51,
   "metadata": {},
   "outputs": [
    {
     "name": "stdout",
     "output_type": "stream",
     "text": [
      "RFE ranking of features for SGD model\n",
      "                                            0   1\n",
      "12                          total_stock_value   1\n",
      "9                     exercised_stock_options   2\n",
      "6                                    expenses   3\n",
      "22                                 toPOI_rate   4\n",
      "20                  bonus_total_payments_rate   5\n",
      "16               bonus_deferral_payments_rate   6\n",
      "18  exer_stock_options_deferral_payments_rate   7\n",
      "3                             deferred_income   8\n",
      "0                                      salary   9\n",
      "5                                       other  10\n",
      "15                    shared_receipt_with_poi  11\n",
      "2                         long_term_incentive  12\n",
      "23                               fromPOI_rate  13\n",
      "17          rest_stock_deferral_payments_rate  14\n",
      "7                               director_fees  15\n",
      "13                    from_this_person_to_poi  16\n",
      "10                           restricted_stock  17\n",
      "1                                       bonus  18\n",
      "21     exer_stock_options_total_payments_rate  19\n",
      "11                  restricted_stock_deferred  20\n",
      "4                           deferral_payments  21\n",
      "19    long_term_incentive_total_payments_rate  22\n",
      "14                    from_poi_to_this_person  23\n",
      "8                              total_payments  24\n",
      "\n",
      "ROC AUC scores for RFE best features of SGD model:\n",
      "0.5842803030303031 ROC AUC for 1 features.\n",
      "0.7803030303030303 ROC AUC for 2 features.\n",
      "0.8039772727272727 ROC AUC for 3 features.\n",
      "0.9034090909090908 ROC AUC for 4 features.\n",
      "0.9090909090909092 ROC AUC for 5 features.\n",
      "0.9422348484848485 ROC AUC for 6 features.\n",
      "0.9138257575757575 ROC AUC for 7 features.\n",
      "0.8929924242424243 ROC AUC for 8 features.\n",
      "0.8768939393939394 ROC AUC for 9 features.\n",
      "0.9034090909090909 ROC AUC for 10 features.\n",
      "0.9053030303030303 ROC AUC for 11 features.\n",
      "0.9090909090909091 ROC AUC for 12 features.\n",
      "0.9119318181818181 ROC AUC for 13 features.\n",
      "0.8892045454545454 ROC AUC for 14 features.\n",
      "0.9232954545454546 ROC AUC for 15 features.\n",
      "0.8920454545454545 ROC AUC for 16 features.\n",
      "0.8920454545454546 ROC AUC for 17 features.\n",
      "0.8882575757575757 ROC AUC for 18 features.\n",
      "0.9223484848484849 ROC AUC for 19 features.\n",
      "0.9053030303030303 ROC AUC for 20 features.\n",
      "0.8863636363636364 ROC AUC for 21 features.\n",
      "0.8806818181818181 ROC AUC for 22 features.\n",
      "0.8929924242424242 ROC AUC for 23 features.\n",
      "0.9034090909090909 ROC AUC for 24 features.\n",
      "\n"
     ]
    }
   ],
   "source": [
    "# Choose SGD with learning_rate=optimal\n",
    "SGD_clf = SGDClassifier(random_state=77, loss='hinge', learning_rate='optimal')\n",
    "\n",
    "RFE_SGD = RFE(SGD_clf, n_features_to_select=1).fit(X_train_44, y_train)\n",
    "score_table = pd.DataFrame(zip(X_train_44_df.columns.to_list(), RFE_SGD.ranking_))\n",
    "print \"RFE ranking of features for SGD model\"\n",
    "print score_table.sort_values(1, ascending=True)\n",
    "print\n",
    "\n",
    "# Determine n best features for SGD classifier\n",
    "print \"ROC AUC scores for RFE best features of SGD model:\"\n",
    "for n in range(1, len(features)+1):\n",
    "    X_train_44_ = RFE(SGD_clf, n_features_to_select=n).fit_transform(X_train_44, y_train)\n",
    "    y_scores = cross_val_predict(SGD_clf, X_train_44_, y_train, cv=6, method='decision_function')\n",
    "    print roc_auc_score(y_train, y_scores), \"ROC AUC for\", n, \"features.\"\n",
    "print"
   ]
  },
  {
   "cell_type": "code",
   "execution_count": 52,
   "metadata": {},
   "outputs": [],
   "source": [
    "RFE_06 = RFE(SGD_clf, n_features_to_select=12).fit(X_train_44, y_train)\n",
    "X_train_44_06 = RFE_06.transform(X_train_44)\n",
    "SGD_06_features = get_features(features, RFE_06.support_)"
   ]
  },
  {
   "cell_type": "code",
   "execution_count": 53,
   "metadata": {},
   "outputs": [],
   "source": [
    "param_distributions = {\n",
    "    'penalty': ['l2', 'l1'],\n",
    "    'alpha': stats.uniform(10**(-6), 50),\n",
    "}"
   ]
  },
  {
   "cell_type": "code",
   "execution_count": 54,
   "metadata": {},
   "outputs": [
    {
     "name": "stdout",
     "output_type": "stream",
     "text": [
      "Fitting 6 folds for each of 5000 candidates, totalling 30000 fits\n"
     ]
    },
    {
     "name": "stderr",
     "output_type": "stream",
     "text": [
      "[Parallel(n_jobs=8)]: Using backend LokyBackend with 8 concurrent workers.\n",
      "[Parallel(n_jobs=8)]: Done 220 tasks      | elapsed:    2.3s\n",
      "[Parallel(n_jobs=8)]: Done 3038 tasks      | elapsed:    5.5s\n",
      "[Parallel(n_jobs=8)]: Done 8038 tasks      | elapsed:   10.9s\n",
      "[Parallel(n_jobs=8)]: Done 15038 tasks      | elapsed:   19.3s\n",
      "[Parallel(n_jobs=8)]: Done 24038 tasks      | elapsed:   29.8s\n",
      "[Parallel(n_jobs=8)]: Done 30000 out of 30000 | elapsed:   36.3s finished\n"
     ]
    },
    {
     "name": "stdout",
     "output_type": "stream",
     "text": [
      "SGD best 6 features:\n",
      "['salary', 'long_term_incentive', 'deferred_income', 'other', 'expenses', 'exercised_stock_options', 'total_stock_value', 'shared_receipt_with_poi', 'bonus_deferral_payments_rate', 'exer_stock_options_deferral_payments_rate', 'bonus_total_payments_rate', 'toPOI_rate']\n",
      "0.9393939393939394 ROC AUC curve for tuned SGD classifier with 6 features\n",
      "Image 'RFE_precision_vs_recall.png' saved.\n",
      "\n"
     ]
    },
    {
     "data": {
      "image/png": "[encoded data removed]",
      "text/plain": [
       "<Figure size 432x288 with 1 Axes>"
      ]
     },
     "metadata": {
      "needs_background": "light"
     },
     "output_type": "display_data"
    }
   ],
   "source": [
    "SGD_06_RandSearch = RandomizedSearchCV(SGD_clf, param_distributions, cv=6, n_iter=5000, scoring='roc_auc', iid=False, verbose=1, n_jobs=8, random_state=77)\n",
    "SGD_06_RandSearch.fit(X_train_44_06, y_train)\n",
    "\n",
    "print \"SGD best 6 features:\"\n",
    "print SGD_06_features\n",
    "y_scores = cross_val_predict(SGD_06_RandSearch.best_estimator_, X_train_44_06, y_train, cv=6, method='decision_function')\n",
    "print roc_auc_score(y_train, y_scores), \"ROC AUC curve for tuned SGD classifier with 6 features\"\n",
    "precision, recall, proba = precision_recall_curve(y_train, y_scores)\n",
    "plt_precision_vs_recall(precision, recall, title='ROC AUC curve for tuned SGD classifier with 6 features', save=IMAGES+\"SGD_06_ROC_AUC_curve_tuned_SVC.png\", label='tuned_SGD_06_features', color='red')\n",
    "\n",
    "print \"Image 'RFE_precision_vs_recall.png' saved.\"\n",
    "print\n"
   ]
  },
  {
   "cell_type": "markdown",
   "metadata": {},
   "source": [
    "## Make predictions on test set"
   ]
  },
  {
   "cell_type": "markdown",
   "metadata": {},
   "source": [
    "### Train the models"
   ]
  },
  {
   "cell_type": "code",
   "execution_count": 55,
   "metadata": {},
   "outputs": [
    {
     "data": {
      "text/plain": [
       "SGDClassifier(alpha=6.755882659423807, average=False, class_weight=None,\n",
       "       early_stopping=False, epsilon=0.1, eta0=0.0, fit_intercept=True,\n",
       "       l1_ratio=0.15, learning_rate='optimal', loss='hinge', max_iter=None,\n",
       "       n_iter=None, n_iter_no_change=5, n_jobs=None, penalty='l2',\n",
       "       power_t=0.5, random_state=77, shuffle=True, tol=None,\n",
       "       validation_fraction=0.1, verbose=0, warm_start=False)"
      ]
     },
     "execution_count": 55,
     "metadata": {},
     "output_type": "execute_result"
    }
   ],
   "source": [
    "SGD_opt.fit(X_train_44_red, y_train)"
   ]
  },
  {
   "cell_type": "code",
   "execution_count": 56,
   "metadata": {},
   "outputs": [
    {
     "data": {
      "text/plain": [
       "SGDClassifier(alpha=86.00624587490518, average=False, class_weight=None,\n",
       "       early_stopping=False, epsilon=0.1, eta0=0.1450498954791332,\n",
       "       fit_intercept=True, l1_ratio=0.15, learning_rate='invscaling',\n",
       "       loss='hinge', max_iter=None, n_iter=None, n_iter_no_change=5,\n",
       "       n_jobs=None, penalty='l2', power_t=0.5, random_state=77,\n",
       "       shuffle=True, tol=None, validation_fraction=0.1, verbose=0,\n",
       "       warm_start=False)"
      ]
     },
     "execution_count": 56,
     "metadata": {},
     "output_type": "execute_result"
    }
   ],
   "source": [
    "SGD_adapt.fit(X_train_44_red, y_train)"
   ]
  },
  {
   "cell_type": "code",
   "execution_count": 57,
   "metadata": {},
   "outputs": [
    {
     "data": {
      "text/plain": [
       "SGDClassifier(alpha=0.27975921301265744, average=False, class_weight=None,\n",
       "       early_stopping=False, epsilon=0.1, eta0=3.6175032681117134,\n",
       "       fit_intercept=True, l1_ratio=0.15, learning_rate='invscaling',\n",
       "       loss='hinge', max_iter=None, n_iter=None, n_iter_no_change=5,\n",
       "       n_jobs=None, penalty='l2', power_t=1.4505216681515503,\n",
       "       random_state=77, shuffle=True, tol=None, validation_fraction=0.1,\n",
       "       verbose=0, warm_start=False)"
      ]
     },
     "execution_count": 57,
     "metadata": {},
     "output_type": "execute_result"
    }
   ],
   "source": [
    "SGD_inv.fit(X_train_44_red,y_train)"
   ]
  },
  {
   "cell_type": "code",
   "execution_count": 58,
   "metadata": {},
   "outputs": [
    {
     "name": "stdout",
     "output_type": "stream",
     "text": [
      "ROC AUC for SGD learning rate \"optimal\" : 0.6535087719298246\n",
      "ROC AUC for SGD,learning rate \"adopted\" : 0.8552631578947368\n",
      "ROC AUC for SGD,learning rate \"invscaling\" : 0.26754385964912286\n"
     ]
    },
    {
     "data": {
      "image/png": "[encoded data removed]",
      "text/plain": [
       "<Figure size 432x288 with 1 Axes>"
      ]
     },
     "metadata": {
      "needs_background": "light"
     },
     "output_type": "display_data"
    }
   ],
   "source": [
    "classifiers = [SGD_opt, SGD_adapt, SGD_inv]\n",
    "clf_names = ['SGD learning rate \"optimal\"', 'SGD,learning rate \"adopted\"', 'SGD,learning rate \"invscaling\"']\n",
    "colors = ['red', 'blue', 'green']\n",
    "for clf, label, color in zip(classifiers, clf_names, colors):\n",
    "    y_scores = clf.decision_function(X_test_44_red)\n",
    "    print \"ROC AUC for\", label, \":\", roc_auc_score(y_test, y_scores)\n",
    "    precision, recall, proba = precision_recall_curve(y_test, y_scores)\n",
    "    plt_precision_vs_recall(precision, recall, title='SGD model comparision', color=color, label=label)"
   ]
  },
  {
   "cell_type": "markdown",
   "metadata": {},
   "source": [
    "----"
   ]
  },
  {
   "cell_type": "markdown",
   "metadata": {},
   "source": [
    "### Address precision/ recall trade-off"
   ]
  },
  {
   "cell_type": "code",
   "execution_count": 59,
   "metadata": {},
   "outputs": [],
   "source": [
    "my_SGD_opt   = flex_classifier(SGD_opt, min_precision=0.35, min_recall=0.4, maximize='recall')\n",
    "my_SGD_adapt = flex_classifier(SGD_adapt, min_precision=0.35, min_recall=0.4, maximize='recall')\n",
    "my_SGD_inv   = flex_classifier(SGD_inv, min_precision=0.35, min_recall=0.4, maximize='recall')"
   ]
  },
  {
   "cell_type": "code",
   "execution_count": 60,
   "metadata": {},
   "outputs": [],
   "source": [
    "my_SGD_opt.fit(X_train_44_red, y_train)\n",
    "my_SGD_adapt.fit(X_train_44_red, y_train) \n",
    "my_SGD_inv.fit(X_train_44_red, y_train);"
   ]
  },
  {
   "cell_type": "markdown",
   "metadata": {},
   "source": [
    "#### Determine best threshold"
   ]
  },
  {
   "cell_type": "code",
   "execution_count": 61,
   "metadata": {},
   "outputs": [],
   "source": [
    "from sklearn.model_selection import StratifiedShuffleSplit"
   ]
  },
  {
   "cell_type": "code",
   "execution_count": 62,
   "metadata": {},
   "outputs": [],
   "source": [
    "cv = StratifiedShuffleSplit(n_splits=14, random_state=77, test_size=0.35)"
   ]
  },
  {
   "cell_type": "code",
   "execution_count": 63,
   "metadata": {},
   "outputs": [
    {
     "name": "stderr",
     "output_type": "stream",
     "text": [
      "C:\\Users\\micha\\Programs\\anaconda3\\envs\\py27\\lib\\site-packages\\sklearn\\metrics\\classification.py:1143: UndefinedMetricWarning: Precision is ill-defined and being set to 0.0 due to no predicted samples.\n",
      "  'precision', 'predicted', average, warn_for)\n"
     ]
    },
    {
     "data": {
      "text/plain": [
       "(0.0, 0.0, 0.0)"
      ]
     },
     "execution_count": 63,
     "metadata": {},
     "output_type": "execute_result"
    }
   ],
   "source": [
    "my_SGD_opt.det_threshold(X_train_44_red, y_train, replace=False)"
   ]
  },
  {
   "cell_type": "code",
   "execution_count": 64,
   "metadata": {},
   "outputs": [
    {
     "name": "stdout",
     "output_type": "stream",
     "text": [
      "SGD learning rate \"optimal\" : 0.0\n",
      "SGD,learning rate \"adopted\" : 0.0\n",
      "SGD,learning rate \"invscaling\" : -0.1527906571496891\n"
     ]
    }
   ],
   "source": [
    "my_classifiers = [my_SGD_opt, my_SGD_adapt, my_SGD_inv]\n",
    "for classifier, name in zip(my_classifiers, clf_names):\n",
    "    thresholds = []\n",
    "    for train_idx, test_idx in cv.split(X_train_44_red, y_train):\n",
    "        X_train_ = X_train_44_red[train_idx]\n",
    "        X_test_  = X_train_44_red[test_idx]\n",
    "        y_train_ = y_train[train_idx]\n",
    "        y_test_  = y_train[test_idx]\n",
    "        #print my_SGD_opt.det_threshold(X_train_, y_train_, replace=False)\n",
    "        #print my_SGD_opt.feasibiliy\n",
    "        thresholds.append( list(classifier.det_threshold(X_train_, y_train_, replace=False)))\n",
    "    thresholds = np.array(thresholds)\n",
    "    best_threshold = thresholds[:,0].mean(axis=0)\n",
    "    classifier.threshold = best_threshold\n",
    "    print name, \":\", best_threshold"
   ]
  },
  {
   "cell_type": "markdown",
   "metadata": {},
   "source": [
    "#### Check model on test data"
   ]
  },
  {
   "cell_type": "code",
   "execution_count": 65,
   "metadata": {},
   "outputs": [
    {
     "name": "stdout",
     "output_type": "stream",
     "text": [
      "SGD learning rate \"optimal\"\n",
      "[[38  0]\n",
      " [ 6  0]]\n",
      "Recall: 0.0\n",
      "Precision 0.0\n",
      "SGD,learning rate \"adopted\"\n",
      "[[38  0]\n",
      " [ 6  0]]\n",
      "Recall: 0.0\n",
      "Precision 0.0\n",
      "SGD,learning rate \"invscaling\"\n",
      "[[38  0]\n",
      " [ 6  0]]\n",
      "Recall: 0.0\n",
      "Precision 0.0\n"
     ]
    }
   ],
   "source": [
    "for classifier, name in zip(my_classifiers, clf_names):\n",
    "    y_predict = classifier.predict(X_test_44_red)\n",
    "    print name\n",
    "    print confusion_matrix(y_test, y_predict)\n",
    "    print \"Recall:\", recall_score(y_test, y_predict)\n",
    "    print \"Precision\", precision_score(y_test, y_predict)"
   ]
  },
  {
   "cell_type": "markdown",
   "metadata": {},
   "source": [
    "----"
   ]
  },
  {
   "cell_type": "markdown",
   "metadata": {},
   "source": [
    "### Validate model"
   ]
  },
  {
   "cell_type": "code",
   "execution_count": 66,
   "metadata": {},
   "outputs": [
    {
     "data": {
      "text/plain": [
       "['salary',\n",
       " 'bonus',\n",
       " 'long_term_incentive',\n",
       " 'deferred_income',\n",
       " 'other',\n",
       " 'expenses',\n",
       " 'total_payments',\n",
       " 'restricted_stock',\n",
       " 'total_stock_value',\n",
       " 'long_term_incentive_total_payments_rate',\n",
       " 'bonus_total_payments_rate',\n",
       " 'toPOI_rate']"
      ]
     },
     "execution_count": 66,
     "metadata": {},
     "output_type": "execute_result"
    }
   ],
   "source": [
    "selected_features = get_features(feature_list,  RFE_.ranking_ <= 1)\n",
    "selected_features"
   ]
  },
  {
   "cell_type": "code",
   "execution_count": 67,
   "metadata": {},
   "outputs": [],
   "source": [
    "# Features\n",
    "X_train_44_red_df = pd.DataFrame(X_train_44_red, columns=selected_features, index=insiders_train)\n",
    "X_test_44_red_df = pd.DataFrame(X_test_44_red, columns=selected_features, index=insiders_test)\n",
    "X_44_df = X_train_44_red_df.append(X_test_44_red_df, sort=False)\n",
    "\n",
    "# Labels\n",
    "y_df = y_train.append(y_test)\n",
    "\n",
    "# Combine features and labels \n",
    "my_dataset = X_44_df.copy()\n",
    "my_dataset.insert(0, column='poi', value=y_df)\n",
    "\n",
    "# Create dataset dict for validation\n",
    "my_dataset_dict = my_dataset.transpose().to_dict() "
   ]
  },
  {
   "cell_type": "code",
   "execution_count": 68,
   "metadata": {},
   "outputs": [
    {
     "name": "stdout",
     "output_type": "stream",
     "text": [
      "SGD learning rate \"optimal\"\n",
      "flex_classifier(classifier=SGDClassifier(alpha=6.755882659423807, average=False, class_weight=None,\n",
      "       early_stopping=False, epsilon=0.1, eta0=0.0, fit_intercept=True,\n",
      "       l1_ratio=0.15, learning_rate='optimal', loss='hinge', max_iter=None,\n",
      "       n_iter=None, n_iter_no_change=5, n_jobs=None, penalty='l2',\n",
      "       power_t=0.5, random_state=77, shuffle=True, tol=None,\n",
      "       validation_fraction=0.1, verbose=0, warm_start=False),\n",
      "        maximize='recall', min_precision=0.35, min_recall=0.4,\n",
      "        threshold=0.0)\n",
      "\tAccuracy: 0.84527\tPrecision: 0.25865\tRecall: 0.08600\tF1: 0.12908\tF2: 0.09925\n",
      "\tTotal predictions: 15000\tTrue positives:  172\tFalse positives:  493\tFalse negatives: 1828\tTrue negatives: 12507\n",
      "\n",
      "SGD,learning rate \"adopted\"\n",
      "Got a divide by zero when trying out: flex_classifier(classifier=SGDClassifier(alpha=86.00624587490518, average=False, class_weight=None,\n",
      "       early_stopping=False, epsilon=0.1, eta0=0.1450498954791332,\n",
      "       fit_intercept=True, l1_ratio=0.15, learning_rate='invscaling',\n",
      "       loss='hinge', max_iter=None, n_iter=None, n_iter_no_change=5,\n",
      "       n_jobs=None, penalty='l2', power_t=0.5, random_state=77,\n",
      "       shuffle=True, tol=None, validation_fraction=0.1, verbose=0,\n",
      "       warm_start=False),\n",
      "        maximize='recall', min_precision=0.35, min_recall=0.4,\n",
      "        threshold=0.0)\n",
      "Precision or recall may be undefined due to a lack of true positive predicitons.\n",
      "SGD,learning rate \"invscaling\"\n",
      "flex_classifier(classifier=SGDClassifier(alpha=0.27975921301265744, average=False, class_weight=None,\n",
      "       early_stopping=False, epsilon=0.1, eta0=3.6175032681117134,\n",
      "       fit_intercept=True, l1_ratio=0.15, learning_rate='invscaling',\n",
      "       loss='hinge', max_iter=None, n_iter=None, n_iter_no_change=5,\n",
      "       n_jobs=None, penalty='l2', power_t=1.4505216681515503,\n",
      "       random_state=77, shuffle=True, tol=None, validation_fraction=0.1,\n",
      "       verbose=0, warm_start=False),\n",
      "        maximize='recall', min_precision=0.35, min_recall=0.4,\n",
      "        threshold=-0.1527906571496891)\n",
      "\tAccuracy: 0.82093\tPrecision: 0.26081\tRecall: 0.18700\tF1: 0.21782\tF2: 0.19822\n",
      "\tTotal predictions: 15000\tTrue positives:  374\tFalse positives: 1060\tFalse negatives: 1626\tTrue negatives: 11940\n",
      "\n"
     ]
    }
   ],
   "source": [
    "# Dump data           \n",
    "for classifier, name in zip(my_classifiers, clf_names):\n",
    "    dump_classifier_and_data(classifier, my_dataset_dict, ['poi'] + selected_features)\n",
    "    clf, dataset, feature_list = load_classifier_and_data()\n",
    "    print name\n",
    "    test_classifier(clf, dataset, feature_list)"
   ]
  },
  {
   "cell_type": "markdown",
   "metadata": {},
   "source": [
    "---"
   ]
  },
  {
   "cell_type": "markdown",
   "metadata": {},
   "source": [
    "### Save best model"
   ]
  },
  {
   "cell_type": "code",
   "execution_count": 69,
   "metadata": {},
   "outputs": [],
   "source": [
    "with open(MODELS + \"SGD_model.pkl\", \"w\") as out:\n",
    "    pickle.dump(my_SGD_opt, out)"
   ]
  },
  {
   "cell_type": "code",
   "execution_count": 70,
   "metadata": {},
   "outputs": [],
   "source": [
    "with open(MODELS + \"SGD_features.pkl\", \"w\") as out:\n",
    "    pickle.dump(my_dataset_dict, out)"
   ]
  },
  {
   "cell_type": "code",
   "execution_count": 71,
   "metadata": {},
   "outputs": [],
   "source": [
    "with open(MODELS + \"SGD_feature_list.pkl\", \"w\") as out:\n",
    "    pickle.dump(['poi'] + selected_features, out)"
   ]
  }
 ],
 "metadata": {
  "kernelspec": {
   "display_name": "Python [conda env:py27]",
   "language": "python",
   "name": "conda-env-py27-py"
  },
  "language_info": {
   "codemirror_mode": {
    "name": "ipython",
    "version": 2
   },
   "file_extension": ".py",
   "mimetype": "text/x-python",
   "name": "python",
   "nbconvert_exporter": "python",
   "pygments_lexer": "ipython2",
   "version": "2.7.18"
  }
 },
 "nbformat": 4,
 "nbformat_minor": 4
}
