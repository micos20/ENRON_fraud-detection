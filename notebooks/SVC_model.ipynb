{
 "cells": [
  {
   "cell_type": "code",
   "execution_count": 2,
   "metadata": {},
   "outputs": [],
   "source": [
    "#!/usr/bin/python\n",
    "import sys\n",
    "sys.path.append(\"../tools/\")\n",
    "sys.path.append(\"../scripts/\")\n",
    "\n",
    "import matplotlib.pyplot as plt\n",
    "import pandas as pd\n",
    "import numpy as np\n",
    "import scipy.stats as stats\n",
    "from helper import get_features, predict_from_score, correlate, crt_plot, plt_precision_recall_vs_threshold, plt_precision_vs_recall, plot_roc_curve, flex_classifier \n",
    "\n",
    "import pickle\n",
    "\n",
    "from sklearn.metrics import confusion_matrix, precision_recall_curve, recall_score, precision_score, roc_curve, roc_auc_score\n",
    "from sklearn.model_selection import train_test_split, cross_val_predict, cross_val_score\n",
    "\n",
    "from feature_format import featureFormat, targetFeatureSplit\n",
    "from tester import dump_classifier_and_data, load_classifier_and_data, test_classifier\n",
    "\n",
    "MODELS = '../classifiers/'\n",
    "IMAGES = '../images/'\n",
    "DATA   = '../data/'"
   ]
  },
  {
   "cell_type": "markdown",
   "metadata": {},
   "source": [
    "----"
   ]
  },
  {
   "cell_type": "code",
   "execution_count": 3,
   "metadata": {},
   "outputs": [],
   "source": [
    "#############################\n",
    "### Task 1: Select what features you'll use.\n",
    "### features_list is a list of strings, each of which is a feature name.\n",
    "### The first feature must be \"poi\".\n",
    "# features_list = ['poi','salary'] # You will need to use more features\n",
    "payment_features = ['salary', 'bonus', 'long_term_incentive', 'deferred_income', 'deferral_payments', 'other', 'expenses', 'director_fees', 'total_payments']\n",
    "stock_features   = ['exercised_stock_options', 'restricted_stock', 'restricted_stock_deferred', 'total_stock_value']\n",
    "mail_features    = ['from_this_person_to_poi', 'from_poi_to_this_person', 'shared_receipt_with_poi']\n",
    "extra_features   = ['bonus_deferral_payments_rate', 'rest_stock_deferral_payments_rate', 'exer_stock_options_deferral_payments_rate',\n",
    "                    'long_term_incentive_total_payments_rate', 'bonus_total_payments_rate', 'exer_stock_options_total_payments_rate',\n",
    "                    'toPOI_rate', 'fromPOI_rate']\n",
    "extra_finance    = ['bonus_deferral_payments_rate', 'rest_stock_deferral_payments_rate', 'exer_stock_options_deferral_payments_rate',\n",
    "                    'long_term_incentive_total_payments_rate', 'bonus_total_payments_rate', 'exer_stock_options_total_payments_rate']\n",
    "extra_mail       = ['toPOI_rate', 'fromPOI_rate']\n",
    "feature_list = payment_features + stock_features + mail_features + extra_features"
   ]
  },
  {
   "cell_type": "code",
   "execution_count": 4,
   "metadata": {},
   "outputs": [
    {
     "data": {
      "text/plain": [
       "['salary',\n",
       " 'bonus',\n",
       " 'long_term_incentive',\n",
       " 'deferred_income',\n",
       " 'deferral_payments',\n",
       " 'other',\n",
       " 'expenses',\n",
       " 'director_fees',\n",
       " 'total_payments',\n",
       " 'exercised_stock_options',\n",
       " 'restricted_stock',\n",
       " 'restricted_stock_deferred',\n",
       " 'total_stock_value',\n",
       " 'from_this_person_to_poi',\n",
       " 'from_poi_to_this_person',\n",
       " 'shared_receipt_with_poi',\n",
       " 'bonus_deferral_payments_rate',\n",
       " 'rest_stock_deferral_payments_rate',\n",
       " 'exer_stock_options_deferral_payments_rate',\n",
       " 'long_term_incentive_total_payments_rate',\n",
       " 'bonus_total_payments_rate',\n",
       " 'exer_stock_options_total_payments_rate',\n",
       " 'toPOI_rate',\n",
       " 'fromPOI_rate']"
      ]
     },
     "execution_count": 4,
     "metadata": {},
     "output_type": "execute_result"
    }
   ],
   "source": [
    "feature_list"
   ]
  },
  {
   "cell_type": "code",
   "execution_count": 5,
   "metadata": {},
   "outputs": [],
   "source": [
    "### Load the dictionary containing the dataset\n",
    "my_data = pd.read_pickle(DATA+\"my_dataFrame.pkl\")\n",
    "# Divide data into features and labels \n",
    "y = my_data['poi'].copy().astype(np.uint8)\n",
    "X = my_data[feature_list].copy()\n",
    "# Split data into training and test set using stratified splitting\n",
    "X_train, X_test, y_train, y_test = train_test_split(X, y, test_size=0.30, random_state=77, stratify=y) "
   ]
  },
  {
   "cell_type": "markdown",
   "metadata": {},
   "source": [
    "----"
   ]
  },
  {
   "cell_type": "code",
   "execution_count": 6,
   "metadata": {},
   "outputs": [
    {
     "name": "stdout",
     "output_type": "stream",
     "text": [
      "Number of POIs in the test set: 6\n"
     ]
    }
   ],
   "source": [
    "# I spare 30% of the data as test set to have at least 5 'poi's in the test set. It's important to me to realize a high recall value, identifying as many 'poi's as possible.  \n",
    "print \"Number of POIs in the test set:\" , y_test.sum()"
   ]
  },
  {
   "cell_type": "code",
   "execution_count": 7,
   "metadata": {},
   "outputs": [],
   "source": [
    "# Save the order of insiders\n",
    "insiders_train = y_train.index\n",
    "insiders_test  = y_test.index"
   ]
  },
  {
   "cell_type": "code",
   "execution_count": 8,
   "metadata": {},
   "outputs": [],
   "source": [
    "# Dealing with missing values\n",
    "from sklearn.impute import SimpleImputer\n",
    "from sklearn.preprocessing import FunctionTransformer, StandardScaler, RobustScaler, PowerTransformer\n",
    "from sklearn.pipeline import Pipeline\n",
    "from sklearn.compose import ColumnTransformer"
   ]
  },
  {
   "cell_type": "markdown",
   "metadata": {},
   "source": [
    "### Imputation Stategies"
   ]
  },
  {
   "cell_type": "code",
   "execution_count": 9,
   "metadata": {},
   "outputs": [],
   "source": [
    "# I'd like to explore different strategies filling NAN values\n",
    "# Imputer_01:\n",
    "# Applies median to mail and extra NAN features and 0 to financial NAN features\n",
    "impute_01 = ColumnTransformer(\n",
    "     [('finance_data',  SimpleImputer(missing_values=np.nan, strategy='constant', fill_value=0.0), payment_features+stock_features),\n",
    "      ('mail_data',     SimpleImputer(missing_values=np.nan, strategy='median'), mail_features),\n",
    "      ('extra_finance', SimpleImputer(missing_values=np.nan, strategy='median'), extra_finance),\n",
    "      ('extra_mail',    SimpleImputer(missing_values=np.nan, strategy='median'), extra_mail)],\n",
    "     remainder='passthrough')\n",
    "# Imputer_02:\n",
    "# Applies median to all NAN features \n",
    "impute_02 = SimpleImputer(strategy='median')\n",
    "# Imputer_03:\n",
    "# Applies 0.0 to all NAN features\n",
    "impute_03 = SimpleImputer(strategy='constant', fill_value=0.0)\n",
    "# Imputer 04\n",
    "# Applies 0.0 to financial and extra_finance featurtes and median to 'mail_features' and 'extra_mail'\n",
    "impute_04 = ColumnTransformer(\n",
    "     [('finance_data',  SimpleImputer(missing_values=np.nan, strategy='constant', fill_value=0.0), payment_features+stock_features),\n",
    "      ('mail_data',     SimpleImputer(missing_values=np.nan, strategy='median'), mail_features),\n",
    "      ('extra_finance', SimpleImputer(missing_values=np.nan, strategy='constant', fill_value=0.0), extra_finance),\n",
    "      ('extra_mail',    SimpleImputer(missing_values=np.nan, strategy='median'), extra_mail)],\n",
    "     remainder='passthrough')\n",
    "# Imputer 05\n",
    "# Applies mean values to all NAN\n",
    "impute_05 = SimpleImputer(strategy='mean')\n",
    "imputers = [impute_01, impute_02, impute_03, impute_04, impute_05]"
   ]
  },
  {
   "cell_type": "markdown",
   "metadata": {},
   "source": [
    "### Scaling strategies"
   ]
  },
  {
   "cell_type": "code",
   "execution_count": 10,
   "metadata": {},
   "outputs": [],
   "source": [
    "def no_scaling(X):\n",
    "    return np.array(X)"
   ]
  },
  {
   "cell_type": "code",
   "execution_count": 11,
   "metadata": {},
   "outputs": [],
   "source": [
    "# Define different scaling strategies\n",
    "#no_scl     = FunctionTransformer(func=lambda x: np.array(x))\n",
    "no_scl     = FunctionTransformer(func=no_scaling)\n",
    "robust_scl = RobustScaler()\n",
    "std_scl    = StandardScaler()\n",
    "power_scl  = PowerTransformer(method='yeo-johnson')\n",
    "scalers = [no_scl, robust_scl, std_scl, power_scl]\n",
    "scaler_names = ['NO SCALING', 'ROBUST SCALER', 'STANDARD SCALER', 'POWER SCALER']"
   ]
  },
  {
   "cell_type": "markdown",
   "metadata": {},
   "source": [
    "----"
   ]
  },
  {
   "cell_type": "markdown",
   "metadata": {},
   "source": [
    "### The most promising models"
   ]
  },
  {
   "cell_type": "code",
   "execution_count": 12,
   "metadata": {},
   "outputs": [],
   "source": [
    "from sklearn.linear_model import SGDClassifier  "
   ]
  },
  {
   "cell_type": "code",
   "execution_count": 13,
   "metadata": {},
   "outputs": [],
   "source": [
    "SGD_clf = SGDClassifier(random_state=77)"
   ]
  },
  {
   "cell_type": "code",
   "execution_count": 14,
   "metadata": {},
   "outputs": [],
   "source": [
    "from sklearn import svm"
   ]
  },
  {
   "cell_type": "code",
   "execution_count": 15,
   "metadata": {},
   "outputs": [],
   "source": [
    "svm_clf = svm.SVC(gamma='auto')"
   ]
  },
  {
   "cell_type": "code",
   "execution_count": 16,
   "metadata": {},
   "outputs": [],
   "source": [
    "from sklearn.ensemble import RandomForestClassifier, AdaBoostClassifier, BaggingClassifier"
   ]
  },
  {
   "cell_type": "code",
   "execution_count": 17,
   "metadata": {},
   "outputs": [],
   "source": [
    "RF_clf = RandomForestClassifier(random_state=77, n_estimators=100, bootstrap=True)"
   ]
  },
  {
   "cell_type": "code",
   "execution_count": 18,
   "metadata": {},
   "outputs": [],
   "source": [
    "classifiers = [ svm_clf, RF_clf, SGD_clf]"
   ]
  },
  {
   "cell_type": "code",
   "execution_count": 19,
   "metadata": {},
   "outputs": [],
   "source": [
    "clf_names = [ 'SVC', 'Rand. Forest', 'SGD']"
   ]
  },
  {
   "cell_type": "code",
   "execution_count": 20,
   "metadata": {},
   "outputs": [
    {
     "name": "stderr",
     "output_type": "stream",
     "text": [
      "C:\\Users\\micha\\Programs\\anaconda3\\envs\\py27\\lib\\site-packages\\sklearn\\preprocessing\\_function_transformer.py:98: FutureWarning: The default validate=True will be replaced by validate=False in 0.22.\n",
      "  \"validate=False in 0.22.\", FutureWarning)\n"
     ]
    }
   ],
   "source": [
    "# Build pipelines for imputation and scaling\n",
    "pipe_41 = Pipeline([ ('impute_04', impute_04), ('scale', no_scl) ])\n",
    "pipe_44 = Pipeline([ ('impute_04', impute_04), ('scale', power_scl) ])\n",
    "\n",
    "X_train_41 = pipe_41.fit_transform(X_train);\n",
    "X_train_44 = pipe_44.fit_transform(X_train);"
   ]
  },
  {
   "cell_type": "markdown",
   "metadata": {},
   "source": [
    "----"
   ]
  },
  {
   "cell_type": "markdown",
   "metadata": {},
   "source": [
    "## Feature selection"
   ]
  },
  {
   "cell_type": "markdown",
   "metadata": {},
   "source": [
    "### Try different sets of features and check the impact on the results (ROC AUC)"
   ]
  },
  {
   "cell_type": "code",
   "execution_count": 21,
   "metadata": {},
   "outputs": [],
   "source": [
    "from sklearn.model_selection import cross_val_score, cross_val_predict, cross_validate"
   ]
  },
  {
   "cell_type": "code",
   "execution_count": 22,
   "metadata": {},
   "outputs": [
    {
     "data": {
      "text/plain": [
       "SVC(C=1.0, cache_size=200, class_weight=None, coef0=0.0,\n",
       "  decision_function_shape='ovr', degree=3, gamma='auto', kernel='rbf',\n",
       "  max_iter=-1, probability=False, random_state=None, shrinking=True,\n",
       "  tol=0.001, verbose=False)"
      ]
     },
     "execution_count": 22,
     "metadata": {},
     "output_type": "execute_result"
    }
   ],
   "source": [
    "svm_clf"
   ]
  },
  {
   "cell_type": "code",
   "execution_count": 23,
   "metadata": {},
   "outputs": [],
   "source": [
    "y_scores = cross_val_predict(svm_clf, X_train_44, y_train, cv=10, method='decision_function' )"
   ]
  },
  {
   "cell_type": "code",
   "execution_count": 24,
   "metadata": {},
   "outputs": [
    {
     "data": {
      "image/png": "[encoded data removed]",
      "text/plain": [
       "<Figure size 432x288 with 1 Axes>"
      ]
     },
     "metadata": {
      "needs_background": "light"
     },
     "output_type": "display_data"
    }
   ],
   "source": [
    "precision, recall, proba = precision_recall_curve(y_train, y_scores)\n",
    "plt_precision_vs_recall(precision, recall, title='SVC')"
   ]
  },
  {
   "cell_type": "code",
   "execution_count": 25,
   "metadata": {},
   "outputs": [
    {
     "name": "stdout",
     "output_type": "stream",
     "text": [
      "Realized metric values:\n",
      "Recall: 0.9166666666666666\n",
      "Precision: 0.36666666666666664\n",
      "Probability/ decision function: -0.9314159592340644\n",
      "Index: 11\n"
     ]
    }
   ],
   "source": [
    "y_pred = predict_from_score(y_train, y_scores, 0.9, 0.3, verbose=1)"
   ]
  },
  {
   "cell_type": "code",
   "execution_count": 26,
   "metadata": {},
   "outputs": [
    {
     "data": {
      "text/plain": [
       "array([[69, 19],\n",
       "       [ 1, 11]], dtype=int64)"
      ]
     },
     "execution_count": 26,
     "metadata": {},
     "output_type": "execute_result"
    }
   ],
   "source": [
    "confusion_matrix(y_train, y_pred)"
   ]
  },
  {
   "cell_type": "code",
   "execution_count": 27,
   "metadata": {},
   "outputs": [
    {
     "data": {
      "text/plain": [
       "0.9119318181818181"
      ]
     },
     "execution_count": 27,
     "metadata": {},
     "output_type": "execute_result"
    }
   ],
   "source": [
    "roc_auc_score(y_train, y_scores)"
   ]
  },
  {
   "cell_type": "code",
   "execution_count": null,
   "metadata": {},
   "outputs": [],
   "source": []
  },
  {
   "cell_type": "code",
   "execution_count": 28,
   "metadata": {},
   "outputs": [],
   "source": [
    "X_train_44_df = pd.DataFrame(X_train_44, columns=feature_list)"
   ]
  },
  {
   "cell_type": "code",
   "execution_count": 29,
   "metadata": {},
   "outputs": [],
   "source": [
    "y_scores = cross_val_predict(svm_clf, X_train_44_df.loc[:, payment_features+stock_features+extra_mail], y_train, cv=10, method='decision_function' )"
   ]
  },
  {
   "cell_type": "code",
   "execution_count": 30,
   "metadata": {},
   "outputs": [
    {
     "data": {
      "text/plain": [
       "0.9422348484848485"
      ]
     },
     "execution_count": 30,
     "metadata": {},
     "output_type": "execute_result"
    }
   ],
   "source": [
    "roc_auc_score(y_train, y_scores)"
   ]
  },
  {
   "cell_type": "code",
   "execution_count": 31,
   "metadata": {},
   "outputs": [
    {
     "data": {
      "image/png": "[encoded data removed]",
      "text/plain": [
       "<Figure size 432x288 with 1 Axes>"
      ]
     },
     "metadata": {
      "needs_background": "light"
     },
     "output_type": "display_data"
    }
   ],
   "source": [
    "precision, recall, proba = precision_recall_curve(y_train, y_scores)\n",
    "plt_precision_vs_recall(precision, recall, title='SVC')"
   ]
  },
  {
   "cell_type": "code",
   "execution_count": null,
   "metadata": {},
   "outputs": [],
   "source": []
  },
  {
   "cell_type": "markdown",
   "metadata": {},
   "source": [
    "----"
   ]
  },
  {
   "cell_type": "markdown",
   "metadata": {},
   "source": [
    "#### Feature reduction"
   ]
  },
  {
   "cell_type": "markdown",
   "metadata": {},
   "source": [
    "##### Variance Threshold"
   ]
  },
  {
   "cell_type": "code",
   "execution_count": 32,
   "metadata": {},
   "outputs": [],
   "source": [
    "from sklearn.feature_selection import VarianceThreshold"
   ]
  },
  {
   "cell_type": "code",
   "execution_count": 33,
   "metadata": {},
   "outputs": [],
   "source": [
    "varianceThreshold = VarianceThreshold()"
   ]
  },
  {
   "cell_type": "code",
   "execution_count": 34,
   "metadata": {},
   "outputs": [
    {
     "data": {
      "text/plain": [
       "VarianceThreshold(threshold=0.0)"
      ]
     },
     "execution_count": 34,
     "metadata": {},
     "output_type": "execute_result"
    }
   ],
   "source": [
    "varianceThreshold.fit(X_train_44)"
   ]
  },
  {
   "cell_type": "code",
   "execution_count": 35,
   "metadata": {},
   "outputs": [
    {
     "data": {
      "text/plain": [
       "array([ True,  True,  True,  True,  True,  True,  True,  True,  True,\n",
       "        True,  True,  True,  True,  True,  True,  True,  True,  True,\n",
       "        True,  True,  True,  True,  True,  True])"
      ]
     },
     "execution_count": 35,
     "metadata": {},
     "output_type": "execute_result"
    }
   ],
   "source": [
    "varianceThreshold.get_support()"
   ]
  },
  {
   "cell_type": "code",
   "execution_count": 36,
   "metadata": {},
   "outputs": [
    {
     "data": {
      "text/plain": [
       "array([1., 1., 1., 1., 1., 1., 1., 1., 1., 1., 1., 1., 1., 1., 1., 1., 1.,\n",
       "       1., 1., 1., 1., 1., 1., 1.])"
      ]
     },
     "execution_count": 36,
     "metadata": {},
     "output_type": "execute_result"
    }
   ],
   "source": [
    "varianceThreshold.variances_"
   ]
  },
  {
   "cell_type": "code",
   "execution_count": 37,
   "metadata": {},
   "outputs": [],
   "source": [
    "# Seems that all features are important"
   ]
  },
  {
   "cell_type": "markdown",
   "metadata": {},
   "source": [
    "##### SelectKBest and SelectPercentile"
   ]
  },
  {
   "cell_type": "code",
   "execution_count": 38,
   "metadata": {},
   "outputs": [
    {
     "data": {
      "text/html": [
       "<div>\n",
       "<style scoped>\n",
       "    .dataframe tbody tr th:only-of-type {\n",
       "        vertical-align: middle;\n",
       "    }\n",
       "\n",
       "    .dataframe tbody tr th {\n",
       "        vertical-align: top;\n",
       "    }\n",
       "\n",
       "    .dataframe thead th {\n",
       "        text-align: right;\n",
       "    }\n",
       "</style>\n",
       "<table border=\"1\" class=\"dataframe\">\n",
       "  <thead>\n",
       "    <tr style=\"text-align: right;\">\n",
       "      <th></th>\n",
       "      <th>0</th>\n",
       "    </tr>\n",
       "  </thead>\n",
       "  <tbody>\n",
       "    <tr>\n",
       "      <th>toPOI_rate</th>\n",
       "      <td>16.262856</td>\n",
       "    </tr>\n",
       "    <tr>\n",
       "      <th>total_stock_value</th>\n",
       "      <td>14.241934</td>\n",
       "    </tr>\n",
       "    <tr>\n",
       "      <th>bonus_total_payments_rate</th>\n",
       "      <td>11.526630</td>\n",
       "    </tr>\n",
       "    <tr>\n",
       "      <th>expenses</th>\n",
       "      <td>10.429717</td>\n",
       "    </tr>\n",
       "    <tr>\n",
       "      <th>bonus</th>\n",
       "      <td>10.375911</td>\n",
       "    </tr>\n",
       "    <tr>\n",
       "      <th>other</th>\n",
       "      <td>10.141966</td>\n",
       "    </tr>\n",
       "    <tr>\n",
       "      <th>long_term_incentive</th>\n",
       "      <td>8.855082</td>\n",
       "    </tr>\n",
       "    <tr>\n",
       "      <th>total_payments</th>\n",
       "      <td>8.432336</td>\n",
       "    </tr>\n",
       "    <tr>\n",
       "      <th>restricted_stock</th>\n",
       "      <td>7.226538</td>\n",
       "    </tr>\n",
       "    <tr>\n",
       "      <th>salary</th>\n",
       "      <td>7.109366</td>\n",
       "    </tr>\n",
       "    <tr>\n",
       "      <th>long_term_incentive_total_payments_rate</th>\n",
       "      <td>6.686345</td>\n",
       "    </tr>\n",
       "    <tr>\n",
       "      <th>shared_receipt_with_poi</th>\n",
       "      <td>6.653376</td>\n",
       "    </tr>\n",
       "    <tr>\n",
       "      <th>from_this_person_to_poi</th>\n",
       "      <td>5.487458</td>\n",
       "    </tr>\n",
       "    <tr>\n",
       "      <th>from_poi_to_this_person</th>\n",
       "      <td>3.831456</td>\n",
       "    </tr>\n",
       "    <tr>\n",
       "      <th>deferred_income</th>\n",
       "      <td>3.631673</td>\n",
       "    </tr>\n",
       "    <tr>\n",
       "      <th>restricted_stock_deferred</th>\n",
       "      <td>2.038400</td>\n",
       "    </tr>\n",
       "    <tr>\n",
       "      <th>exer_stock_options_total_payments_rate</th>\n",
       "      <td>1.750332</td>\n",
       "    </tr>\n",
       "    <tr>\n",
       "      <th>director_fees</th>\n",
       "      <td>1.680000</td>\n",
       "    </tr>\n",
       "    <tr>\n",
       "      <th>exercised_stock_options</th>\n",
       "      <td>1.492036</td>\n",
       "    </tr>\n",
       "    <tr>\n",
       "      <th>fromPOI_rate</th>\n",
       "      <td>0.553620</td>\n",
       "    </tr>\n",
       "    <tr>\n",
       "      <th>exer_stock_options_deferral_payments_rate</th>\n",
       "      <td>0.227228</td>\n",
       "    </tr>\n",
       "    <tr>\n",
       "      <th>deferral_payments</th>\n",
       "      <td>0.040150</td>\n",
       "    </tr>\n",
       "    <tr>\n",
       "      <th>bonus_deferral_payments_rate</th>\n",
       "      <td>0.024962</td>\n",
       "    </tr>\n",
       "    <tr>\n",
       "      <th>rest_stock_deferral_payments_rate</th>\n",
       "      <td>0.001848</td>\n",
       "    </tr>\n",
       "  </tbody>\n",
       "</table>\n",
       "</div>"
      ],
      "text/plain": [
       "                                                   0\n",
       "toPOI_rate                                 16.262856\n",
       "total_stock_value                          14.241934\n",
       "bonus_total_payments_rate                  11.526630\n",
       "expenses                                   10.429717\n",
       "bonus                                      10.375911\n",
       "other                                      10.141966\n",
       "long_term_incentive                         8.855082\n",
       "total_payments                              8.432336\n",
       "restricted_stock                            7.226538\n",
       "salary                                      7.109366\n",
       "long_term_incentive_total_payments_rate     6.686345\n",
       "shared_receipt_with_poi                     6.653376\n",
       "from_this_person_to_poi                     5.487458\n",
       "from_poi_to_this_person                     3.831456\n",
       "deferred_income                             3.631673\n",
       "restricted_stock_deferred                   2.038400\n",
       "exer_stock_options_total_payments_rate      1.750332\n",
       "director_fees                               1.680000\n",
       "exercised_stock_options                     1.492036\n",
       "fromPOI_rate                                0.553620\n",
       "exer_stock_options_deferral_payments_rate   0.227228\n",
       "deferral_payments                           0.040150\n",
       "bonus_deferral_payments_rate                0.024962\n",
       "rest_stock_deferral_payments_rate           0.001848"
      ]
     },
     "execution_count": 38,
     "metadata": {},
     "output_type": "execute_result"
    }
   ],
   "source": [
    "from sklearn.feature_selection import SelectKBest, SelectPercentile, f_regression, SelectFdr, SelectFpr\n",
    "KBest = SelectKBest(k=24 )\n",
    "X_train_44_red = KBest.fit_transform(X_train_44, y_train)\n",
    "# KBest.fit_transform(X_train_44, y_train)\n",
    "KBest_scores_df = pd.DataFrame(KBest.scores_, index=feature_list)\n",
    "KBest_scores_df.sort_values(0, ascending=False)"
   ]
  },
  {
   "cell_type": "code",
   "execution_count": 39,
   "metadata": {},
   "outputs": [
    {
     "data": {
      "text/plain": [
       "array([7.10936645e+00, 1.03759105e+01, 8.85508210e+00, 3.63167252e+00,\n",
       "       4.01502261e-02, 1.01419659e+01, 1.04297173e+01, 1.68000000e+00,\n",
       "       8.43233622e+00, 1.49203552e+00, 7.22653784e+00, 2.03839970e+00,\n",
       "       1.42419337e+01, 5.48745807e+00, 3.83145556e+00, 6.65337629e+00,\n",
       "       2.49616349e-02, 1.84837049e-03, 2.27228095e-01, 6.68634505e+00,\n",
       "       1.15266301e+01, 1.75033237e+00, 1.62628562e+01, 5.53620231e-01])"
      ]
     },
     "execution_count": 39,
     "metadata": {},
     "output_type": "execute_result"
    }
   ],
   "source": [
    "KBest.scores_"
   ]
  },
  {
   "cell_type": "code",
   "execution_count": 40,
   "metadata": {},
   "outputs": [],
   "source": [
    "y_scores = cross_val_predict(svm_clf, X_train_44_red, y_train, cv=10, method='decision_function' )"
   ]
  },
  {
   "cell_type": "code",
   "execution_count": 41,
   "metadata": {},
   "outputs": [
    {
     "data": {
      "text/plain": [
       "0.9119318181818181"
      ]
     },
     "execution_count": 41,
     "metadata": {},
     "output_type": "execute_result"
    }
   ],
   "source": [
    "roc_auc_score(y_train, y_scores)"
   ]
  },
  {
   "cell_type": "code",
   "execution_count": 42,
   "metadata": {},
   "outputs": [
    {
     "data": {
      "image/png": "[encoded data removed]",
      "text/plain": [
       "<Figure size 432x288 with 1 Axes>"
      ]
     },
     "metadata": {
      "needs_background": "light"
     },
     "output_type": "display_data"
    }
   ],
   "source": [
    "precision, recall, proba = precision_recall_curve(y_train, y_scores)\n",
    "plt_precision_vs_recall(precision, recall, title='SVC')"
   ]
  },
  {
   "cell_type": "code",
   "execution_count": 43,
   "metadata": {},
   "outputs": [],
   "source": [
    "feature_list = payment_features + stock_features + mail_features + extra_features"
   ]
  },
  {
   "cell_type": "code",
   "execution_count": 44,
   "metadata": {},
   "outputs": [
    {
     "name": "stdout",
     "output_type": "stream",
     "text": [
      "0.5913825757575757 ROC AUC for 1 features.\n",
      "0.5293560606060606 ROC AUC for 2 features.\n",
      "0.7357954545454546 ROC AUC for 3 features.\n",
      "0.8134469696969696 ROC AUC for 4 features.\n",
      "0.8409090909090908 ROC AUC for 5 features.\n",
      "0.872159090909091 ROC AUC for 6 features.\n",
      "0.834280303030303 ROC AUC for 7 features.\n",
      "0.8314393939393939 ROC AUC for 8 features.\n",
      "0.8418560606060606 ROC AUC for 9 features.\n",
      "0.8456439393939393 ROC AUC for 10 features.\n",
      "0.7755681818181818 ROC AUC for 11 features.\n",
      "0.8295454545454545 ROC AUC for 12 features.\n",
      "0.8200757575757576 ROC AUC for 13 features.\n",
      "0.8314393939393939 ROC AUC for 14 features.\n",
      "0.8323863636363636 ROC AUC for 15 features.\n",
      "0.837121212121212 ROC AUC for 16 features.\n",
      "0.8645833333333333 ROC AUC for 17 features.\n",
      "0.8598484848484848 ROC AUC for 18 features.\n",
      "0.8844696969696969 ROC AUC for 19 features.\n",
      "0.8731060606060607 ROC AUC for 20 features.\n",
      "0.8882575757575757 ROC AUC for 21 features.\n",
      "0.896780303030303 ROC AUC for 22 features.\n",
      "0.8816287878787878 ROC AUC for 23 features.\n",
      "0.875 ROC AUC for 24 features.\n"
     ]
    }
   ],
   "source": [
    "for n in range(1, len(feature_list)+1):\n",
    "    KBest = SelectKBest(k=n)\n",
    "    X_train_44_red = KBest.fit_transform(X_train_44, y_train)\n",
    "    y_scores = cross_val_predict(svm_clf, X_train_44_red, y_train, cv=6, method='decision_function')\n",
    "    print roc_auc_score(y_train, y_scores), \"ROC AUC for\", n, \"features.\""
   ]
  },
  {
   "cell_type": "markdown",
   "metadata": {},
   "source": [
    "##### RFE and RFECV"
   ]
  },
  {
   "cell_type": "code",
   "execution_count": 45,
   "metadata": {},
   "outputs": [],
   "source": [
    "from sklearn.feature_selection import RFE, RFECV"
   ]
  },
  {
   "cell_type": "code",
   "execution_count": 46,
   "metadata": {},
   "outputs": [],
   "source": [
    "SVC_lin = svm.SVC(gamma='auto', kernel='linear')"
   ]
  },
  {
   "cell_type": "code",
   "execution_count": 47,
   "metadata": {},
   "outputs": [],
   "source": [
    "RFE_ = RFE(SVC_lin).fit(X_train_44, y_train)"
   ]
  },
  {
   "cell_type": "code",
   "execution_count": 48,
   "metadata": {},
   "outputs": [
    {
     "data": {
      "text/plain": [
       "array([ 1,  1,  6,  1,  3,  2,  1, 13,  9,  1, 10,  5,  1,  8, 11,  1,  1,\n",
       "        1,  1,  4,  7,  1,  1, 12])"
      ]
     },
     "execution_count": 48,
     "metadata": {},
     "output_type": "execute_result"
    }
   ],
   "source": [
    "RFE_.ranking_"
   ]
  },
  {
   "cell_type": "code",
   "execution_count": 49,
   "metadata": {},
   "outputs": [
    {
     "data": {
      "text/plain": [
       "array([ True,  True, False,  True, False, False,  True, False, False,\n",
       "        True, False, False,  True, False, False,  True,  True,  True,\n",
       "        True, False, False,  True,  True, False])"
      ]
     },
     "execution_count": 49,
     "metadata": {},
     "output_type": "execute_result"
    }
   ],
   "source": [
    "RFE_.get_support()"
   ]
  },
  {
   "cell_type": "code",
   "execution_count": 50,
   "metadata": {},
   "outputs": [],
   "source": [
    "y_scores = cross_val_predict(svm_clf, X_train_44[:,RFE_.get_support()], y_train, cv=10, method='decision_function' )"
   ]
  },
  {
   "cell_type": "code",
   "execution_count": 51,
   "metadata": {},
   "outputs": [
    {
     "data": {
      "text/plain": [
       "0.9412878787878789"
      ]
     },
     "execution_count": 51,
     "metadata": {},
     "output_type": "execute_result"
    }
   ],
   "source": [
    "roc_auc_score(y_train, y_scores)"
   ]
  },
  {
   "cell_type": "code",
   "execution_count": 52,
   "metadata": {},
   "outputs": [
    {
     "name": "stdout",
     "output_type": "stream",
     "text": [
      "0.33333333333333337 ROC AUC for 1 features.\n",
      "0.6846590909090908 ROC AUC for 2 features.\n",
      "0.7954545454545454 ROC AUC for 3 features.\n",
      "0.9375000000000001 ROC AUC for 4 features.\n",
      "0.9214015151515151 ROC AUC for 5 features.\n",
      "0.9289772727272727 ROC AUC for 6 features.\n",
      "0.928030303030303 ROC AUC for 7 features.\n",
      "0.9346590909090909 ROC AUC for 8 features.\n",
      "0.9261363636363636 ROC AUC for 9 features.\n",
      "0.9441287878787878 ROC AUC for 10 features.\n",
      "0.9261363636363636 ROC AUC for 11 features.\n",
      "0.9214015151515151 ROC AUC for 12 features.\n",
      "0.918560606060606 ROC AUC for 13 features.\n",
      "0.9109848484848484 ROC AUC for 14 features.\n",
      "0.9185606060606061 ROC AUC for 15 features.\n",
      "0.9109848484848484 ROC AUC for 16 features.\n",
      "0.9119318181818181 ROC AUC for 17 features.\n",
      "0.9138257575757576 ROC AUC for 18 features.\n",
      "0.9043560606060606 ROC AUC for 19 features.\n",
      "0.8996212121212122 ROC AUC for 20 features.\n",
      "0.8778409090909092 ROC AUC for 21 features.\n",
      "0.8740530303030303 ROC AUC for 22 features.\n",
      "0.8740530303030303 ROC AUC for 23 features.\n",
      "0.8740530303030303 ROC AUC for 24 features.\n"
     ]
    }
   ],
   "source": [
    "for n in range(1, len(feature_list)+1):\n",
    "    X_train_44_red = RFE(SVC_lin, n_features_to_select=n).fit_transform(X_train_44, y_train)\n",
    "    y_scores = cross_val_predict(SVC_lin, X_train_44_red, y_train, cv=6, method='decision_function')\n",
    "    print roc_auc_score(y_train, y_scores), \"ROC AUC for\", n, \"features.\""
   ]
  },
  {
   "cell_type": "code",
   "execution_count": 53,
   "metadata": {},
   "outputs": [
    {
     "name": "stdout",
     "output_type": "stream",
     "text": [
      "0.9441287878787878 ROC AUC for\n"
     ]
    },
    {
     "data": {
      "image/png": "[encoded data removed]",
      "text/plain": [
       "<Figure size 432x288 with 1 Axes>"
      ]
     },
     "metadata": {
      "needs_background": "light"
     },
     "output_type": "display_data"
    }
   ],
   "source": [
    "# Plot precision vs recall curve for 10 best features leading to highest ROC\n",
    "RFE_10 = RFE(SVC_lin, n_features_to_select=10).fit(X_train_44, y_train)\n",
    "X_train_44_ = RFE_10.transform(X_train_44)\n",
    "y_scores = cross_val_predict(SVC_lin, X_train_44_, y_train, cv=6, method='decision_function')\n",
    "print roc_auc_score(y_train, y_scores), \"ROC AUC for\"\n",
    "precision, recall, proba = precision_recall_curve(y_train, y_scores)\n",
    "plt_precision_vs_recall(precision, recall, title='SVC 10 best features', save=IMAGES+\"RFE_precision_vs_recall.png\")"
   ]
  },
  {
   "cell_type": "code",
   "execution_count": 54,
   "metadata": {},
   "outputs": [
    {
     "data": {
      "image/png": "[encoded data removed]",
      "text/plain": [
       "<Figure size 432x288 with 1 Axes>"
      ]
     },
     "metadata": {
      "needs_background": "light"
     },
     "output_type": "display_data"
    }
   ],
   "source": [
    "fpr, tpr, thresh = roc_curve(y_train, y_scores)\n",
    "plot_roc_curve(fpr, tpr, title='ROC SVC 10 best features')"
   ]
  },
  {
   "cell_type": "code",
   "execution_count": 55,
   "metadata": {},
   "outputs": [
    {
     "name": "stdout",
     "output_type": "stream",
     "text": [
      "[11  5 17  9 14 13  1 24 20  3 21 16  2 19 22 10  8  7  6 15 18 12  4 23]\n"
     ]
    },
    {
     "data": {
      "text/html": [
       "<div>\n",
       "<style scoped>\n",
       "    .dataframe tbody tr th:only-of-type {\n",
       "        vertical-align: middle;\n",
       "    }\n",
       "\n",
       "    .dataframe tbody tr th {\n",
       "        vertical-align: top;\n",
       "    }\n",
       "\n",
       "    .dataframe thead th {\n",
       "        text-align: right;\n",
       "    }\n",
       "</style>\n",
       "<table border=\"1\" class=\"dataframe\">\n",
       "  <thead>\n",
       "    <tr style=\"text-align: right;\">\n",
       "      <th></th>\n",
       "      <th>0</th>\n",
       "      <th>1</th>\n",
       "    </tr>\n",
       "  </thead>\n",
       "  <tbody>\n",
       "    <tr>\n",
       "      <th>6</th>\n",
       "      <td>expenses</td>\n",
       "      <td>1</td>\n",
       "    </tr>\n",
       "    <tr>\n",
       "      <th>12</th>\n",
       "      <td>total_stock_value</td>\n",
       "      <td>2</td>\n",
       "    </tr>\n",
       "    <tr>\n",
       "      <th>9</th>\n",
       "      <td>exercised_stock_options</td>\n",
       "      <td>3</td>\n",
       "    </tr>\n",
       "    <tr>\n",
       "      <th>22</th>\n",
       "      <td>toPOI_rate</td>\n",
       "      <td>4</td>\n",
       "    </tr>\n",
       "    <tr>\n",
       "      <th>1</th>\n",
       "      <td>bonus</td>\n",
       "      <td>5</td>\n",
       "    </tr>\n",
       "    <tr>\n",
       "      <th>18</th>\n",
       "      <td>exer_stock_options_deferral_payments_rate</td>\n",
       "      <td>6</td>\n",
       "    </tr>\n",
       "    <tr>\n",
       "      <th>17</th>\n",
       "      <td>rest_stock_deferral_payments_rate</td>\n",
       "      <td>7</td>\n",
       "    </tr>\n",
       "    <tr>\n",
       "      <th>16</th>\n",
       "      <td>bonus_deferral_payments_rate</td>\n",
       "      <td>8</td>\n",
       "    </tr>\n",
       "    <tr>\n",
       "      <th>3</th>\n",
       "      <td>deferred_income</td>\n",
       "      <td>9</td>\n",
       "    </tr>\n",
       "    <tr>\n",
       "      <th>15</th>\n",
       "      <td>shared_receipt_with_poi</td>\n",
       "      <td>10</td>\n",
       "    </tr>\n",
       "    <tr>\n",
       "      <th>0</th>\n",
       "      <td>salary</td>\n",
       "      <td>11</td>\n",
       "    </tr>\n",
       "    <tr>\n",
       "      <th>21</th>\n",
       "      <td>exer_stock_options_total_payments_rate</td>\n",
       "      <td>12</td>\n",
       "    </tr>\n",
       "    <tr>\n",
       "      <th>5</th>\n",
       "      <td>other</td>\n",
       "      <td>13</td>\n",
       "    </tr>\n",
       "    <tr>\n",
       "      <th>4</th>\n",
       "      <td>deferral_payments</td>\n",
       "      <td>14</td>\n",
       "    </tr>\n",
       "    <tr>\n",
       "      <th>19</th>\n",
       "      <td>long_term_incentive_total_payments_rate</td>\n",
       "      <td>15</td>\n",
       "    </tr>\n",
       "    <tr>\n",
       "      <th>11</th>\n",
       "      <td>restricted_stock_deferred</td>\n",
       "      <td>16</td>\n",
       "    </tr>\n",
       "    <tr>\n",
       "      <th>2</th>\n",
       "      <td>long_term_incentive</td>\n",
       "      <td>17</td>\n",
       "    </tr>\n",
       "    <tr>\n",
       "      <th>20</th>\n",
       "      <td>bonus_total_payments_rate</td>\n",
       "      <td>18</td>\n",
       "    </tr>\n",
       "    <tr>\n",
       "      <th>13</th>\n",
       "      <td>from_this_person_to_poi</td>\n",
       "      <td>19</td>\n",
       "    </tr>\n",
       "    <tr>\n",
       "      <th>8</th>\n",
       "      <td>total_payments</td>\n",
       "      <td>20</td>\n",
       "    </tr>\n",
       "    <tr>\n",
       "      <th>10</th>\n",
       "      <td>restricted_stock</td>\n",
       "      <td>21</td>\n",
       "    </tr>\n",
       "    <tr>\n",
       "      <th>14</th>\n",
       "      <td>from_poi_to_this_person</td>\n",
       "      <td>22</td>\n",
       "    </tr>\n",
       "    <tr>\n",
       "      <th>23</th>\n",
       "      <td>fromPOI_rate</td>\n",
       "      <td>23</td>\n",
       "    </tr>\n",
       "    <tr>\n",
       "      <th>7</th>\n",
       "      <td>director_fees</td>\n",
       "      <td>24</td>\n",
       "    </tr>\n",
       "  </tbody>\n",
       "</table>\n",
       "</div>"
      ],
      "text/plain": [
       "                                            0   1\n",
       "6                                    expenses   1\n",
       "12                          total_stock_value   2\n",
       "9                     exercised_stock_options   3\n",
       "22                                 toPOI_rate   4\n",
       "1                                       bonus   5\n",
       "18  exer_stock_options_deferral_payments_rate   6\n",
       "17          rest_stock_deferral_payments_rate   7\n",
       "16               bonus_deferral_payments_rate   8\n",
       "3                             deferred_income   9\n",
       "15                    shared_receipt_with_poi  10\n",
       "0                                      salary  11\n",
       "21     exer_stock_options_total_payments_rate  12\n",
       "5                                       other  13\n",
       "4                           deferral_payments  14\n",
       "19    long_term_incentive_total_payments_rate  15\n",
       "11                  restricted_stock_deferred  16\n",
       "2                         long_term_incentive  17\n",
       "20                  bonus_total_payments_rate  18\n",
       "13                    from_this_person_to_poi  19\n",
       "8                              total_payments  20\n",
       "10                           restricted_stock  21\n",
       "14                    from_poi_to_this_person  22\n",
       "23                               fromPOI_rate  23\n",
       "7                               director_fees  24"
      ]
     },
     "execution_count": 55,
     "metadata": {},
     "output_type": "execute_result"
    }
   ],
   "source": [
    "RFE_1 = RFE(SVC_lin, n_features_to_select=1).fit(X_train_44, y_train)\n",
    "score_table = pd.DataFrame(zip(X_train_44_df.columns.to_list(), RFE_1.ranking_))\n",
    "print RFE_1.ranking_\n",
    "score_table.sort_values(1, ascending=True)"
   ]
  },
  {
   "cell_type": "code",
   "execution_count": 56,
   "metadata": {},
   "outputs": [],
   "source": [
    "RFECV_recall = RFECV(SVC_lin, cv=6, min_features_to_select=5, scoring='recall').fit(X_train_44,y_train)"
   ]
  },
  {
   "cell_type": "code",
   "execution_count": 57,
   "metadata": {},
   "outputs": [
    {
     "data": {
      "text/plain": [
       "10"
      ]
     },
     "execution_count": 57,
     "metadata": {},
     "output_type": "execute_result"
    }
   ],
   "source": [
    "RFECV_recall.n_features_"
   ]
  },
  {
   "cell_type": "code",
   "execution_count": 58,
   "metadata": {},
   "outputs": [
    {
     "data": {
      "text/plain": [
       "array([ 2,  1,  8,  1,  5,  4,  1, 15, 11,  1, 12,  7,  1, 10, 13,  1,  1,\n",
       "        1,  1,  6,  9,  3,  1, 14])"
      ]
     },
     "execution_count": 58,
     "metadata": {},
     "output_type": "execute_result"
    }
   ],
   "source": [
    "RFECV_recall.ranking_"
   ]
  },
  {
   "cell_type": "code",
   "execution_count": 59,
   "metadata": {},
   "outputs": [],
   "source": [
    "# ROC AUC scoring for ranking of features\n",
    "RFECV_ = RFECV(SVC_lin, cv=6, min_features_to_select=1, scoring='roc_auc').fit(X_train_44,y_train)"
   ]
  },
  {
   "cell_type": "code",
   "execution_count": 60,
   "metadata": {},
   "outputs": [
    {
     "data": {
      "text/plain": [
       "10"
      ]
     },
     "execution_count": 60,
     "metadata": {},
     "output_type": "execute_result"
    }
   ],
   "source": [
    "RFECV_.n_features_"
   ]
  },
  {
   "cell_type": "code",
   "execution_count": 61,
   "metadata": {},
   "outputs": [
    {
     "data": {
      "text/plain": [
       "array([ 2,  1,  8,  1,  5,  4,  1, 15, 11,  1, 12,  7,  1, 10, 13,  1,  1,\n",
       "        1,  1,  6,  9,  3,  1, 14])"
      ]
     },
     "execution_count": 61,
     "metadata": {},
     "output_type": "execute_result"
    }
   ],
   "source": [
    "RFECV_.ranking_"
   ]
  },
  {
   "cell_type": "code",
   "execution_count": 62,
   "metadata": {},
   "outputs": [
    {
     "data": {
      "text/plain": [
       "array([False,  True, False,  True, False, False,  True, False, False,\n",
       "        True, False, False,  True, False, False,  True,  True,  True,\n",
       "        True, False, False, False,  True, False])"
      ]
     },
     "execution_count": 62,
     "metadata": {},
     "output_type": "execute_result"
    }
   ],
   "source": [
    "RFECV_.support_"
   ]
  },
  {
   "cell_type": "code",
   "execution_count": 63,
   "metadata": {},
   "outputs": [
    {
     "data": {
      "text/plain": [
       "array([0.37619048, 0.80238095, 0.83492063, 0.8952381 , 0.89563492,\n",
       "       0.87857143, 0.87857143, 0.89047619, 0.89603175, 0.91904762,\n",
       "       0.91865079, 0.91865079, 0.91865079, 0.91269841, 0.91269841,\n",
       "       0.90714286, 0.90119048, 0.90119048, 0.90674603, 0.90674603,\n",
       "       0.90674603, 0.90674603, 0.90674603, 0.90674603])"
      ]
     },
     "execution_count": 63,
     "metadata": {},
     "output_type": "execute_result"
    }
   ],
   "source": [
    "RFECV_.grid_scores_"
   ]
  },
  {
   "cell_type": "code",
   "execution_count": 64,
   "metadata": {},
   "outputs": [
    {
     "name": "stdout",
     "output_type": "stream",
     "text": [
      "0.9185606060606061 ROC AUC for\n"
     ]
    },
    {
     "data": {
      "image/png": "[encoded data removed]",
      "text/plain": [
       "<Figure size 432x288 with 1 Axes>"
      ]
     },
     "metadata": {
      "needs_background": "light"
     },
     "output_type": "display_data"
    }
   ],
   "source": [
    "# RFECV features reduction. RFB Kernel results.\n",
    "y_scores = cross_val_predict(svm_clf, X_train_44[:,RFECV_.support_], y_train, cv=6, method='decision_function')\n",
    "print roc_auc_score(y_train, y_scores), \"ROC AUC for\"\n",
    "precision, recall, proba = precision_recall_curve(y_train, y_scores)\n",
    "plt_precision_vs_recall(precision, recall, title='SVC RFECV best features')"
   ]
  },
  {
   "cell_type": "code",
   "execution_count": 65,
   "metadata": {},
   "outputs": [
    {
     "data": {
      "text/html": [
       "<div>\n",
       "<style scoped>\n",
       "    .dataframe tbody tr th:only-of-type {\n",
       "        vertical-align: middle;\n",
       "    }\n",
       "\n",
       "    .dataframe tbody tr th {\n",
       "        vertical-align: top;\n",
       "    }\n",
       "\n",
       "    .dataframe thead th {\n",
       "        text-align: right;\n",
       "    }\n",
       "</style>\n",
       "<table border=\"1\" class=\"dataframe\">\n",
       "  <thead>\n",
       "    <tr style=\"text-align: right;\">\n",
       "      <th></th>\n",
       "      <th>0</th>\n",
       "      <th>1</th>\n",
       "    </tr>\n",
       "  </thead>\n",
       "  <tbody>\n",
       "    <tr>\n",
       "      <th>1</th>\n",
       "      <td>bonus</td>\n",
       "      <td>1</td>\n",
       "    </tr>\n",
       "    <tr>\n",
       "      <th>3</th>\n",
       "      <td>deferred_income</td>\n",
       "      <td>1</td>\n",
       "    </tr>\n",
       "    <tr>\n",
       "      <th>6</th>\n",
       "      <td>expenses</td>\n",
       "      <td>1</td>\n",
       "    </tr>\n",
       "    <tr>\n",
       "      <th>18</th>\n",
       "      <td>exer_stock_options_deferral_payments_rate</td>\n",
       "      <td>1</td>\n",
       "    </tr>\n",
       "    <tr>\n",
       "      <th>9</th>\n",
       "      <td>exercised_stock_options</td>\n",
       "      <td>1</td>\n",
       "    </tr>\n",
       "    <tr>\n",
       "      <th>17</th>\n",
       "      <td>rest_stock_deferral_payments_rate</td>\n",
       "      <td>1</td>\n",
       "    </tr>\n",
       "    <tr>\n",
       "      <th>22</th>\n",
       "      <td>toPOI_rate</td>\n",
       "      <td>1</td>\n",
       "    </tr>\n",
       "    <tr>\n",
       "      <th>12</th>\n",
       "      <td>total_stock_value</td>\n",
       "      <td>1</td>\n",
       "    </tr>\n",
       "    <tr>\n",
       "      <th>16</th>\n",
       "      <td>bonus_deferral_payments_rate</td>\n",
       "      <td>1</td>\n",
       "    </tr>\n",
       "    <tr>\n",
       "      <th>15</th>\n",
       "      <td>shared_receipt_with_poi</td>\n",
       "      <td>1</td>\n",
       "    </tr>\n",
       "    <tr>\n",
       "      <th>0</th>\n",
       "      <td>salary</td>\n",
       "      <td>2</td>\n",
       "    </tr>\n",
       "    <tr>\n",
       "      <th>21</th>\n",
       "      <td>exer_stock_options_total_payments_rate</td>\n",
       "      <td>3</td>\n",
       "    </tr>\n",
       "    <tr>\n",
       "      <th>5</th>\n",
       "      <td>other</td>\n",
       "      <td>4</td>\n",
       "    </tr>\n",
       "    <tr>\n",
       "      <th>4</th>\n",
       "      <td>deferral_payments</td>\n",
       "      <td>5</td>\n",
       "    </tr>\n",
       "    <tr>\n",
       "      <th>19</th>\n",
       "      <td>long_term_incentive_total_payments_rate</td>\n",
       "      <td>6</td>\n",
       "    </tr>\n",
       "    <tr>\n",
       "      <th>11</th>\n",
       "      <td>restricted_stock_deferred</td>\n",
       "      <td>7</td>\n",
       "    </tr>\n",
       "    <tr>\n",
       "      <th>2</th>\n",
       "      <td>long_term_incentive</td>\n",
       "      <td>8</td>\n",
       "    </tr>\n",
       "    <tr>\n",
       "      <th>20</th>\n",
       "      <td>bonus_total_payments_rate</td>\n",
       "      <td>9</td>\n",
       "    </tr>\n",
       "    <tr>\n",
       "      <th>13</th>\n",
       "      <td>from_this_person_to_poi</td>\n",
       "      <td>10</td>\n",
       "    </tr>\n",
       "    <tr>\n",
       "      <th>8</th>\n",
       "      <td>total_payments</td>\n",
       "      <td>11</td>\n",
       "    </tr>\n",
       "    <tr>\n",
       "      <th>10</th>\n",
       "      <td>restricted_stock</td>\n",
       "      <td>12</td>\n",
       "    </tr>\n",
       "    <tr>\n",
       "      <th>14</th>\n",
       "      <td>from_poi_to_this_person</td>\n",
       "      <td>13</td>\n",
       "    </tr>\n",
       "    <tr>\n",
       "      <th>23</th>\n",
       "      <td>fromPOI_rate</td>\n",
       "      <td>14</td>\n",
       "    </tr>\n",
       "    <tr>\n",
       "      <th>7</th>\n",
       "      <td>director_fees</td>\n",
       "      <td>15</td>\n",
       "    </tr>\n",
       "  </tbody>\n",
       "</table>\n",
       "</div>"
      ],
      "text/plain": [
       "                                            0   1\n",
       "1                                       bonus   1\n",
       "3                             deferred_income   1\n",
       "6                                    expenses   1\n",
       "18  exer_stock_options_deferral_payments_rate   1\n",
       "9                     exercised_stock_options   1\n",
       "17          rest_stock_deferral_payments_rate   1\n",
       "22                                 toPOI_rate   1\n",
       "12                          total_stock_value   1\n",
       "16               bonus_deferral_payments_rate   1\n",
       "15                    shared_receipt_with_poi   1\n",
       "0                                      salary   2\n",
       "21     exer_stock_options_total_payments_rate   3\n",
       "5                                       other   4\n",
       "4                           deferral_payments   5\n",
       "19    long_term_incentive_total_payments_rate   6\n",
       "11                  restricted_stock_deferred   7\n",
       "2                         long_term_incentive   8\n",
       "20                  bonus_total_payments_rate   9\n",
       "13                    from_this_person_to_poi  10\n",
       "8                              total_payments  11\n",
       "10                           restricted_stock  12\n",
       "14                    from_poi_to_this_person  13\n",
       "23                               fromPOI_rate  14\n",
       "7                               director_fees  15"
      ]
     },
     "execution_count": 65,
     "metadata": {},
     "output_type": "execute_result"
    }
   ],
   "source": [
    "score_table = pd.DataFrame(zip(feature_list, RFECV_.ranking_))\n",
    "score_table.sort_values(1, axis='index')"
   ]
  },
  {
   "cell_type": "code",
   "execution_count": 66,
   "metadata": {},
   "outputs": [
    {
     "name": "stdout",
     "output_type": "stream",
     "text": [
      "0.9441287878787878 ROC AUC for\n"
     ]
    },
    {
     "data": {
      "image/png": "[encoded data removed]",
      "text/plain": [
       "<Figure size 432x288 with 1 Axes>"
      ]
     },
     "metadata": {
      "needs_background": "light"
     },
     "output_type": "display_data"
    }
   ],
   "source": [
    "# RFECV features reduction. Linear Model results.\n",
    "y_scores = cross_val_predict(SVC_lin, X_train_44[:,RFECV_.support_], y_train, cv=6, method='decision_function')\n",
    "print roc_auc_score(y_train, y_scores), \"ROC AUC for\"\n",
    "precision, recall, proba = precision_recall_curve(y_train, y_scores)\n",
    "plt_precision_vs_recall(precision, recall, title='SVC RFECV best features')"
   ]
  },
  {
   "cell_type": "markdown",
   "metadata": {},
   "source": [
    "#### PCA"
   ]
  },
  {
   "cell_type": "code",
   "execution_count": 67,
   "metadata": {},
   "outputs": [],
   "source": [
    "from sklearn.decomposition import PCA "
   ]
  },
  {
   "cell_type": "code",
   "execution_count": 68,
   "metadata": {},
   "outputs": [
    {
     "name": "stdout",
     "output_type": "stream",
     "text": [
      "0.5009469696969697 ROC AUC for 1 features.\n",
      "0.6903409090909092 ROC AUC for 2 features.\n",
      "0.6818181818181819 ROC AUC for 3 features.\n",
      "0.8191287878787878 ROC AUC for 4 features.\n",
      "0.7253787878787878 ROC AUC for 5 features.\n",
      "0.7556818181818181 ROC AUC for 6 features.\n",
      "0.821969696969697 ROC AUC for 7 features.\n",
      "0.8910984848484849 ROC AUC for 8 features.\n",
      "0.8873106060606061 ROC AUC for 9 features.\n",
      "0.8749999999999999 ROC AUC for 10 features.\n",
      "0.8797348484848484 ROC AUC for 11 features.\n",
      "0.8797348484848485 ROC AUC for 12 features.\n",
      "0.893939393939394 ROC AUC for 13 features.\n",
      "0.8863636363636364 ROC AUC for 14 features.\n",
      "0.8816287878787878 ROC AUC for 15 features.\n",
      "0.8835227272727273 ROC AUC for 16 features.\n",
      "0.8910984848484849 ROC AUC for 17 features.\n",
      "0.8929924242424242 ROC AUC for 18 features.\n",
      "0.8892045454545454 ROC AUC for 19 features.\n",
      "0.884469696969697 ROC AUC for 20 features.\n",
      "0.8806818181818182 ROC AUC for 21 features.\n",
      "0.8787878787878787 ROC AUC for 22 features.\n",
      "0.8768939393939394 ROC AUC for 23 features.\n",
      "0.875 ROC AUC for 24 features.\n"
     ]
    }
   ],
   "source": [
    "for n in range(1, len(feature_list)+1):\n",
    "    X_train_44_red = PCA(n_components=n).fit_transform(X_train_44)\n",
    "    y_scores = cross_val_predict(svm_clf, X_train_44_red, y_train, cv=6, method='decision_function')\n",
    "    print roc_auc_score(y_train, y_scores), \"ROC AUC for\", n, \"features.\""
   ]
  },
  {
   "cell_type": "code",
   "execution_count": 69,
   "metadata": {},
   "outputs": [],
   "source": [
    "pca_ = PCA(n_components=.99).fit(X_train_44)"
   ]
  },
  {
   "cell_type": "code",
   "execution_count": 70,
   "metadata": {},
   "outputs": [
    {
     "data": {
      "text/plain": [
       "array([0.31895517, 0.15379203, 0.09814145, 0.07858794, 0.05246774,\n",
       "       0.04941141, 0.0448794 , 0.04059978, 0.03483559, 0.02529364,\n",
       "       0.02243168, 0.01633678, 0.01504247, 0.00957238, 0.00948377,\n",
       "       0.00804576, 0.00569706, 0.00549994, 0.00322706])"
      ]
     },
     "execution_count": 70,
     "metadata": {},
     "output_type": "execute_result"
    }
   ],
   "source": [
    "pca_.explained_variance_ratio_"
   ]
  },
  {
   "cell_type": "code",
   "execution_count": 71,
   "metadata": {},
   "outputs": [
    {
     "name": "stdout",
     "output_type": "stream",
     "text": [
      "0.9128787878787878 ROC AUC for\n"
     ]
    },
    {
     "data": {
      "image/png": "[encoded data removed]",
      "text/plain": [
       "<Figure size 432x288 with 1 Axes>"
      ]
     },
     "metadata": {
      "needs_background": "light"
     },
     "output_type": "display_data"
    }
   ],
   "source": [
    "X_train_44_red = PCA(n_components=.99).fit_transform(X_train_44)\n",
    "y_scores = cross_val_predict(svm_clf, X_train_44_red, y_train, cv=10, method='decision_function')\n",
    "print roc_auc_score(y_train, y_scores), \"ROC AUC for\"\n",
    "precision, recall, proba = precision_recall_curve(y_train, y_scores)\n",
    "plt_precision_vs_recall(precision, recall, title='SVC ROC features')"
   ]
  },
  {
   "cell_type": "markdown",
   "metadata": {},
   "source": [
    "No that good as RFECV!"
   ]
  },
  {
   "cell_type": "markdown",
   "metadata": {},
   "source": [
    "#### Grid search and Randomized search of Hyperparameters"
   ]
  },
  {
   "cell_type": "code",
   "execution_count": 72,
   "metadata": {},
   "outputs": [],
   "source": [
    "from sklearn.model_selection import GridSearchCV, RandomizedSearchCV\n",
    "\n",
    "# Model to be investigated\n",
    "clf = svm.SVC()"
   ]
  },
  {
   "cell_type": "code",
   "execution_count": 73,
   "metadata": {},
   "outputs": [],
   "source": [
    "pipe = Pipeline([\n",
    "    ('impute', impute_04),\n",
    "    ('scale', power_scl),\n",
    "    ('feature_red', RFECV(SVC_lin, cv=6, scoring='roc_auc', min_features_to_select=5)),\n",
    "    ('clf', clf)\n",
    "])"
   ]
  },
  {
   "cell_type": "code",
   "execution_count": 74,
   "metadata": {},
   "outputs": [],
   "source": [
    "param_grid = [\n",
    "    {\n",
    "        #'feature_red__min_features_to_select': range(5,16),\n",
    "        'clf__kernel': ['rbf', 'linear'],\n",
    "        'clf__gamma': np.linspace(0.0, 0.1, 20),\n",
    "        'clf__C': [10, 100, 1000, 10000, 100000]\n",
    "    }\n",
    "]"
   ]
  },
  {
   "cell_type": "code",
   "execution_count": 75,
   "metadata": {},
   "outputs": [],
   "source": [
    "gridSch = GridSearchCV(pipe, param_grid=param_grid, return_train_score=True, cv=6, scoring='roc_auc', verbose=1, refit=True, n_jobs=8, iid=False)"
   ]
  },
  {
   "cell_type": "code",
   "execution_count": 76,
   "metadata": {},
   "outputs": [
    {
     "name": "stdout",
     "output_type": "stream",
     "text": [
      "Fitting 6 folds for each of 200 candidates, totalling 1200 fits\n"
     ]
    },
    {
     "name": "stderr",
     "output_type": "stream",
     "text": [
      "[Parallel(n_jobs=8)]: Using backend LokyBackend with 8 concurrent workers.\n",
      "[Parallel(n_jobs=8)]: Done  34 tasks      | elapsed:    5.3s\n",
      "[Parallel(n_jobs=8)]: Done 184 tasks      | elapsed:   10.5s\n",
      "[Parallel(n_jobs=8)]: Done 434 tasks      | elapsed:   19.3s\n",
      "[Parallel(n_jobs=8)]: Done 784 tasks      | elapsed:   31.2s\n",
      "[Parallel(n_jobs=8)]: Done 1200 out of 1200 | elapsed:   46.2s finished\n"
     ]
    }
   ],
   "source": [
    "gridSch.fit(X_train, y_train);"
   ]
  },
  {
   "cell_type": "code",
   "execution_count": 77,
   "metadata": {},
   "outputs": [
    {
     "data": {
      "text/plain": [
       "{'clf__C': 100, 'clf__gamma': 0.010526315789473684, 'clf__kernel': 'rbf'}"
      ]
     },
     "execution_count": 77,
     "metadata": {},
     "output_type": "execute_result"
    }
   ],
   "source": [
    "gridSch.best_params_"
   ]
  },
  {
   "cell_type": "code",
   "execution_count": 78,
   "metadata": {},
   "outputs": [
    {
     "data": {
      "text/plain": [
       "array([ 2,  1,  8,  1,  5,  4,  1, 15, 11,  1, 12,  7,  1, 10, 13,  1,  1,\n",
       "        1,  1,  6,  9,  3,  1, 14])"
      ]
     },
     "execution_count": 78,
     "metadata": {},
     "output_type": "execute_result"
    }
   ],
   "source": [
    "gridSch.best_estimator_.named_steps.feature_red.ranking_"
   ]
  },
  {
   "cell_type": "code",
   "execution_count": 79,
   "metadata": {},
   "outputs": [
    {
     "data": {
      "text/plain": [
       "array([ True,  True, False,  True,  True,  True,  True, False, False,\n",
       "        True, False, False,  True, False, False,  True,  True,  True,\n",
       "        True,  True, False,  True,  True, False])"
      ]
     },
     "execution_count": 79,
     "metadata": {},
     "output_type": "execute_result"
    }
   ],
   "source": [
    "gridSch.best_estimator_.named_steps.feature_red.ranking_ <= 6"
   ]
  },
  {
   "cell_type": "code",
   "execution_count": 80,
   "metadata": {},
   "outputs": [],
   "source": [
    "X_train_44_red = X_train_44[:, gridSch.best_estimator_.named_steps.feature_red.ranking_ <= 8]"
   ]
  },
  {
   "cell_type": "code",
   "execution_count": 81,
   "metadata": {},
   "outputs": [
    {
     "data": {
      "text/plain": [
       "0.9119047619047619"
      ]
     },
     "execution_count": 81,
     "metadata": {},
     "output_type": "execute_result"
    }
   ],
   "source": [
    "gridSch.best_score_"
   ]
  },
  {
   "cell_type": "code",
   "execution_count": 82,
   "metadata": {},
   "outputs": [],
   "source": [
    "# Random search to find best set of features"
   ]
  },
  {
   "cell_type": "code",
   "execution_count": 83,
   "metadata": {},
   "outputs": [],
   "source": [
    "param_distributions = {\n",
    "            'kernel': ['linear', 'rbf'],\n",
    "            'C': stats.reciprocal(0.1, 10000),\n",
    "            'gamma': stats.expon(scale=1.0),\n",
    "            #'degree': [3, 5, 7, 10]\n",
    "        }"
   ]
  },
  {
   "cell_type": "code",
   "execution_count": 84,
   "metadata": {},
   "outputs": [],
   "source": [
    "RandSearch = RandomizedSearchCV(clf, param_distributions, cv=6, n_iter=5000, scoring='roc_auc', iid=False, verbose=1, n_jobs=8, random_state=77)"
   ]
  },
  {
   "cell_type": "code",
   "execution_count": 85,
   "metadata": {},
   "outputs": [
    {
     "data": {
      "text/plain": [
       "10"
      ]
     },
     "execution_count": 85,
     "metadata": {},
     "output_type": "execute_result"
    }
   ],
   "source": [
    "# Interate over number of features\n",
    "n_select = (RFECV_.ranking_ == 1).sum()\n",
    "n_select"
   ]
  },
  {
   "cell_type": "code",
   "execution_count": 86,
   "metadata": {},
   "outputs": [
    {
     "data": {
      "text/plain": [
       "' Uncomment to run\\nn_select = (RFECV_.ranking_ == 1).sum()\\nfor n in range(1, 11):\\n    X = X_train_44[:, RFECV_.ranking_ <= n]\\n    RandSearch.fit(X, y_train)\\n    print \"Number of features:\", (n_select + n - 1)\\n    print \"Best models score:\", RandSearch.best_score_\\n    print \"Best params:\", RandSearch.best_params_\\n'"
      ]
     },
     "execution_count": 86,
     "metadata": {},
     "output_type": "execute_result"
    }
   ],
   "source": [
    "''' Uncomment to run\n",
    "n_select = (RFECV_.ranking_ == 1).sum()\n",
    "for n in range(1, 11):\n",
    "    X = X_train_44[:, RFECV_.ranking_ <= n]\n",
    "    RandSearch.fit(X, y_train)\n",
    "    print \"Number of features:\", (n_select + n - 1)\n",
    "    print \"Best models score:\", RandSearch.best_score_\n",
    "    print \"Best params:\", RandSearch.best_params_\n",
    "'''"
   ]
  },
  {
   "cell_type": "markdown",
   "metadata": {},
   "source": [
    "### Check poly kernel"
   ]
  },
  {
   "cell_type": "code",
   "execution_count": 87,
   "metadata": {},
   "outputs": [],
   "source": [
    "poly_SVC = svm.SVC()"
   ]
  },
  {
   "cell_type": "code",
   "execution_count": 88,
   "metadata": {},
   "outputs": [],
   "source": [
    "param_distributions_2 = {\n",
    "            'kernel': ['poly'],\n",
    "            'degree': np.arange(3,11),\n",
    "            'coef0': stats.uniform(scale=10)\n",
    "        }"
   ]
  },
  {
   "cell_type": "code",
   "execution_count": 89,
   "metadata": {},
   "outputs": [],
   "source": [
    "RandSearch_poly = RandomizedSearchCV(poly_SVC, param_distributions_2, cv=6, n_iter=5000, scoring='recall', iid=False, verbose=1, n_jobs=8, random_state=77)"
   ]
  },
  {
   "cell_type": "code",
   "execution_count": 90,
   "metadata": {},
   "outputs": [
    {
     "name": "stdout",
     "output_type": "stream",
     "text": [
      "Fitting 6 folds for each of 5000 candidates, totalling 30000 fits\n"
     ]
    },
    {
     "name": "stderr",
     "output_type": "stream",
     "text": [
      "[Parallel(n_jobs=8)]: Using backend LokyBackend with 8 concurrent workers.\n",
      "[Parallel(n_jobs=8)]: Done 268 tasks      | elapsed:    0.5s\n",
      "[Parallel(n_jobs=8)]: Done 3502 tasks      | elapsed:    3.5s\n",
      "[Parallel(n_jobs=8)]: Done 10502 tasks      | elapsed:    9.2s\n",
      "[Parallel(n_jobs=8)]: Done 20302 tasks      | elapsed:   17.3s\n",
      "[Parallel(n_jobs=8)]: Done 30000 out of 30000 | elapsed:   25.5s finished\n"
     ]
    },
    {
     "data": {
      "text/plain": [
       "RandomizedSearchCV(cv=6, error_score='raise-deprecating',\n",
       "          estimator=SVC(C=1.0, cache_size=200, class_weight=None, coef0=0.0,\n",
       "  decision_function_shape='ovr', degree=3, gamma='auto_deprecated',\n",
       "  kernel='rbf', max_iter=-1, probability=False, random_state=None,\n",
       "  shrinking=True, tol=0.001, verbose=False),\n",
       "          fit_params=None, iid=False, n_iter=5000, n_jobs=8,\n",
       "          param_distributions={'kernel': ['poly'], 'coef0': <scipy.stats._distn_infrastructure.rv_frozen object at 0x000000000E0C73C8>, 'degree': array([ 3,  4,  5,  6,  7,  8,  9, 10])},\n",
       "          pre_dispatch='2*n_jobs', random_state=77, refit=True,\n",
       "          return_train_score='warn', scoring='recall', verbose=1)"
      ]
     },
     "execution_count": 90,
     "metadata": {},
     "output_type": "execute_result"
    }
   ],
   "source": [
    "RandSearch_poly.fit(X_train_44_red, y_train)"
   ]
  },
  {
   "cell_type": "code",
   "execution_count": 91,
   "metadata": {},
   "outputs": [
    {
     "data": {
      "text/plain": [
       "0.6666666666666666"
      ]
     },
     "execution_count": 91,
     "metadata": {},
     "output_type": "execute_result"
    }
   ],
   "source": [
    "RandSearch_poly.best_score_"
   ]
  },
  {
   "cell_type": "code",
   "execution_count": 92,
   "metadata": {},
   "outputs": [
    {
     "data": {
      "text/plain": [
       "{'coef0': 3.8570365811560636, 'degree': 3, 'kernel': 'poly'}"
      ]
     },
     "execution_count": 92,
     "metadata": {},
     "output_type": "execute_result"
    }
   ],
   "source": [
    "RandSearch_poly.best_params_"
   ]
  },
  {
   "cell_type": "markdown",
   "metadata": {},
   "source": [
    "----"
   ]
  },
  {
   "cell_type": "markdown",
   "metadata": {},
   "source": [
    "Find best parameters for SVC model usinf Randomized Search algorithm"
   ]
  },
  {
   "cell_type": "code",
   "execution_count": 93,
   "metadata": {},
   "outputs": [],
   "source": [
    "clf = svm.SVC()"
   ]
  },
  {
   "cell_type": "code",
   "execution_count": 94,
   "metadata": {},
   "outputs": [],
   "source": [
    "X_train_44_red10 = pipe_44.transform(X_train)[:, RFECV_.ranking_ <= 1]\n",
    "X_test_44_red10 = pipe_44.transform(X_test)[:, RFECV_.ranking_ <= 1]"
   ]
  },
  {
   "cell_type": "code",
   "execution_count": 95,
   "metadata": {},
   "outputs": [],
   "source": [
    "param_distributions = {\n",
    "            'kernel': ['linear', 'rbf'],\n",
    "            #'C': stats.reciprocal(0.1, 10000),\n",
    "            #'C': stats.uniform(0.1, 10000),\n",
    "            'C': stats.halfnorm(0.1, 10000),\n",
    "            'gamma': stats.expon(scale=1.0),\n",
    "        }"
   ]
  },
  {
   "cell_type": "code",
   "execution_count": 96,
   "metadata": {},
   "outputs": [],
   "source": [
    "RandSearch = RandomizedSearchCV(clf, param_distributions, cv=6, n_iter=5000, scoring='roc_auc', iid=False, verbose=1, n_jobs=8, random_state=77)"
   ]
  },
  {
   "cell_type": "code",
   "execution_count": 97,
   "metadata": {},
   "outputs": [
    {
     "name": "stdout",
     "output_type": "stream",
     "text": [
      "Fitting 6 folds for each of 5000 candidates, totalling 30000 fits\n"
     ]
    },
    {
     "name": "stderr",
     "output_type": "stream",
     "text": [
      "[Parallel(n_jobs=8)]: Using backend LokyBackend with 8 concurrent workers.\n",
      "[Parallel(n_jobs=8)]: Done 232 tasks      | elapsed:    0.4s\n",
      "[Parallel(n_jobs=8)]: Done 3556 tasks      | elapsed:    3.6s\n",
      "[Parallel(n_jobs=8)]: Done 9556 tasks      | elapsed:    9.1s\n",
      "[Parallel(n_jobs=8)]: Done 17956 tasks      | elapsed:   16.7s\n",
      "[Parallel(n_jobs=8)]: Done 28756 tasks      | elapsed:   26.5s\n",
      "[Parallel(n_jobs=8)]: Done 30000 out of 30000 | elapsed:   27.4s finished\n"
     ]
    },
    {
     "data": {
      "text/plain": [
       "RandomizedSearchCV(cv=6, error_score='raise-deprecating',\n",
       "          estimator=SVC(C=1.0, cache_size=200, class_weight=None, coef0=0.0,\n",
       "  decision_function_shape='ovr', degree=3, gamma='auto_deprecated',\n",
       "  kernel='rbf', max_iter=-1, probability=False, random_state=None,\n",
       "  shrinking=True, tol=0.001, verbose=False),\n",
       "          fit_params=None, iid=False, n_iter=5000, n_jobs=8,\n",
       "          param_distributions={'kernel': ['linear', 'rbf'], 'C': <scipy.stats._distn_infrastructure.rv_frozen object at 0x000000000CB40D48>, 'gamma': <scipy.stats._distn_infrastructure.rv_frozen object at 0x000000000DCAA708>},\n",
       "          pre_dispatch='2*n_jobs', random_state=77, refit=True,\n",
       "          return_train_score='warn', scoring='roc_auc', verbose=1)"
      ]
     },
     "execution_count": 97,
     "metadata": {},
     "output_type": "execute_result"
    }
   ],
   "source": [
    "RandSearch.fit(X_train_44_red10, y_train)"
   ]
  },
  {
   "cell_type": "code",
   "execution_count": 98,
   "metadata": {},
   "outputs": [
    {
     "data": {
      "text/plain": [
       "0.9702380952380952"
      ]
     },
     "execution_count": 98,
     "metadata": {},
     "output_type": "execute_result"
    }
   ],
   "source": [
    "RandSearch.best_score_"
   ]
  },
  {
   "cell_type": "code",
   "execution_count": 99,
   "metadata": {},
   "outputs": [
    {
     "data": {
      "text/plain": [
       "{'C': 1143.112516422697, 'gamma': 0.0011361715382653187, 'kernel': 'rbf'}"
      ]
     },
     "execution_count": 99,
     "metadata": {},
     "output_type": "execute_result"
    }
   ],
   "source": [
    "RandSearch.best_params_"
   ]
  },
  {
   "cell_type": "code",
   "execution_count": 100,
   "metadata": {},
   "outputs": [],
   "source": [
    "# Make predictions on test set"
   ]
  },
  {
   "cell_type": "code",
   "execution_count": 101,
   "metadata": {},
   "outputs": [
    {
     "name": "stdout",
     "output_type": "stream",
     "text": [
      "0.9564393939393939 ROC AUC for\n"
     ]
    },
    {
     "data": {
      "image/png": "[encoded data removed]",
      "text/plain": [
       "<Figure size 432x288 with 1 Axes>"
      ]
     },
     "metadata": {
      "needs_background": "light"
     },
     "output_type": "display_data"
    }
   ],
   "source": [
    "y_scores = cross_val_predict(RandSearch.best_estimator_, X_train_44_red10, y_train, cv=6, method='decision_function')\n",
    "print roc_auc_score(y_train, y_scores), \"ROC AUC for\"\n",
    "precision, recall, proba = precision_recall_curve(y_train, y_scores)\n",
    "#plt_precision_vs_recall(precision, recall, title='SVC ROC features')\n",
    "plt_precision_vs_recall(precision, recall, title='ROC AUC curve for tuned SVM classifier', color='red')"
   ]
  },
  {
   "cell_type": "code",
   "execution_count": 102,
   "metadata": {},
   "outputs": [],
   "source": [
    "clf = RandSearch.best_estimator_"
   ]
  },
  {
   "cell_type": "code",
   "execution_count": 103,
   "metadata": {},
   "outputs": [
    {
     "data": {
      "text/plain": [
       "SVC(C=1143.112516422697, cache_size=200, class_weight=None, coef0=0.0,\n",
       "  decision_function_shape='ovr', degree=3, gamma=0.0011361715382653187,\n",
       "  kernel='rbf', max_iter=-1, probability=False, random_state=None,\n",
       "  shrinking=True, tol=0.001, verbose=False)"
      ]
     },
     "execution_count": 103,
     "metadata": {},
     "output_type": "execute_result"
    }
   ],
   "source": [
    "clf.fit(X_train_44_red10, y_train)"
   ]
  },
  {
   "cell_type": "code",
   "execution_count": 104,
   "metadata": {},
   "outputs": [
    {
     "name": "stdout",
     "output_type": "stream",
     "text": [
      "0.8026315789473684 ROC AUC for\n"
     ]
    },
    {
     "data": {
      "image/png": "[encoded data removed]",
      "text/plain": [
       "<Figure size 432x288 with 1 Axes>"
      ]
     },
     "metadata": {
      "needs_background": "light"
     },
     "output_type": "display_data"
    }
   ],
   "source": [
    "y_scores = clf.decision_function(X_test_44_red10)\n",
    "print roc_auc_score(y_test, y_scores), \"ROC AUC for\"\n",
    "precision, recall, proba = precision_recall_curve(y_test, y_scores)\n",
    "plt_precision_vs_recall(precision, recall, title='SVC ROC features')"
   ]
  },
  {
   "cell_type": "code",
   "execution_count": 105,
   "metadata": {},
   "outputs": [],
   "source": [
    "feature_list = payment_features + stock_features + mail_features + extra_features\n",
    "selected_features = get_features(feature_list,  RFECV_.ranking_ <= 1)"
   ]
  },
  {
   "cell_type": "code",
   "execution_count": 106,
   "metadata": {},
   "outputs": [],
   "source": [
    "# Features\n",
    "X_train_44_red10_df = pd.DataFrame(X_train_44_red10, columns=selected_features, index=insiders_train)\n",
    "X_test_44_red10_df = pd.DataFrame(X_test_44_red10, columns=selected_features, index=insiders_test)\n",
    "X_44_df = X_train_44_red10_df.append(X_test_44_red10_df, sort=False)\n",
    "\n",
    "# Labels\n",
    "y_df = y_train.append(y_test)\n",
    "\n",
    "# Combine features and labels\n",
    "my_dataset = X_44_df.copy()\n",
    "my_dataset.insert(0, column='poi', value=y_df)\n",
    "\n",
    "# Create dataset dict for validation\n",
    "my_dataset_dict = my_dataset.transpose().to_dict() "
   ]
  },
  {
   "cell_type": "code",
   "execution_count": 107,
   "metadata": {},
   "outputs": [],
   "source": [
    "# Dump data\n",
    "dump_classifier_and_data(clf, my_dataset_dict, ['poi'] + selected_features)"
   ]
  },
  {
   "cell_type": "markdown",
   "metadata": {},
   "source": [
    "----"
   ]
  },
  {
   "cell_type": "markdown",
   "metadata": {},
   "source": [
    "### Validate model"
   ]
  },
  {
   "cell_type": "code",
   "execution_count": 108,
   "metadata": {},
   "outputs": [],
   "source": [
    "clf, dataset, feature_list = load_classifier_and_data()"
   ]
  },
  {
   "cell_type": "code",
   "execution_count": 109,
   "metadata": {},
   "outputs": [
    {
     "name": "stdout",
     "output_type": "stream",
     "text": [
      "SVC(C=1143.112516422697, cache_size=200, class_weight=None, coef0=0.0,\n",
      "  decision_function_shape='ovr', degree=3, gamma=0.0011361715382653187,\n",
      "  kernel='rbf', max_iter=-1, probability=False, random_state=None,\n",
      "  shrinking=True, tol=0.001, verbose=False)\n",
      "\tAccuracy: 0.88667\tPrecision: 0.60933\tRecall: 0.41800\tF1: 0.49585\tF2: 0.44601\n",
      "\tTotal predictions: 15000\tTrue positives:  836\tFalse positives:  536\tFalse negatives: 1164\tTrue negatives: 12464\n",
      "\n"
     ]
    }
   ],
   "source": [
    "test_classifier(clf, dataset, feature_list)"
   ]
  },
  {
   "cell_type": "markdown",
   "metadata": {},
   "source": [
    "----"
   ]
  },
  {
   "cell_type": "markdown",
   "metadata": {},
   "source": [
    "### Check SVC model using 'recall' scoring metric\n",
    "Determine number of relevant features using 'recall' scoring"
   ]
  },
  {
   "cell_type": "code",
   "execution_count": 110,
   "metadata": {},
   "outputs": [],
   "source": [
    "clf = svm.SVC()"
   ]
  },
  {
   "cell_type": "code",
   "execution_count": 111,
   "metadata": {},
   "outputs": [
    {
     "data": {
      "text/plain": [
       "{'C': <scipy.stats._distn_infrastructure.rv_frozen at 0xcb40d48>,\n",
       " 'gamma': <scipy.stats._distn_infrastructure.rv_frozen at 0xdcaa708>,\n",
       " 'kernel': ['linear', 'rbf']}"
      ]
     },
     "execution_count": 111,
     "metadata": {},
     "output_type": "execute_result"
    }
   ],
   "source": [
    "param_distributions"
   ]
  },
  {
   "cell_type": "code",
   "execution_count": 112,
   "metadata": {},
   "outputs": [],
   "source": [
    "RandSearch_recall = RandomizedSearchCV(clf, param_distributions, cv=6, n_iter=5000, scoring='recall', iid=False, verbose=1, n_jobs=8, random_state=77)"
   ]
  },
  {
   "cell_type": "code",
   "execution_count": 113,
   "metadata": {},
   "outputs": [
    {
     "data": {
      "text/plain": [
       "' Comment added as this snipped takes some time\\nn_select = (RFECV_.ranking_ == 1).sum()\\nfor n in range(1, 11):\\n    X = X_train_44[:, RFECV_.ranking_ <= n]\\n    RandSearch_recall.fit(X, y_train)\\n    print \"Number of features:\", (n_select + n - 1)\\n    print \"Best models score:\", RandSearch_recall.best_score_\\n    print \"Best params:\", RandSearch_recall.best_params_\\n'"
      ]
     },
     "execution_count": 113,
     "metadata": {},
     "output_type": "execute_result"
    }
   ],
   "source": [
    "''' Comment added as this snipped takes some time\n",
    "n_select = (RFECV_.ranking_ == 1).sum()\n",
    "for n in range(1, 11):\n",
    "    X = X_train_44[:, RFECV_.ranking_ <= n]\n",
    "    RandSearch_recall.fit(X, y_train)\n",
    "    print \"Number of features:\", (n_select + n - 1)\n",
    "    print \"Best models score:\", RandSearch_recall.best_score_\n",
    "    print \"Best params:\", RandSearch_recall.best_params_\n",
    "'''"
   ]
  },
  {
   "cell_type": "code",
   "execution_count": 114,
   "metadata": {},
   "outputs": [],
   "source": [
    "RandSearch = RandomizedSearchCV(clf, param_distributions, cv=6, n_iter=5000, scoring='recall', iid=False, verbose=1, n_jobs=8, random_state=77)"
   ]
  },
  {
   "cell_type": "code",
   "execution_count": 115,
   "metadata": {},
   "outputs": [
    {
     "name": "stdout",
     "output_type": "stream",
     "text": [
      "Fitting 6 folds for each of 5000 candidates, totalling 30000 fits\n"
     ]
    },
    {
     "name": "stderr",
     "output_type": "stream",
     "text": [
      "[Parallel(n_jobs=8)]: Using backend LokyBackend with 8 concurrent workers.\n",
      "[Parallel(n_jobs=8)]: Done 340 tasks      | elapsed:    0.5s\n",
      "[Parallel(n_jobs=8)]: Done 3040 tasks      | elapsed:    3.0s\n",
      "[Parallel(n_jobs=8)]: Done 7540 tasks      | elapsed:    7.0s\n",
      "[Parallel(n_jobs=8)]: Done 13840 tasks      | elapsed:   12.6s\n",
      "[Parallel(n_jobs=8)]: Done 21940 tasks      | elapsed:   19.8s\n",
      "[Parallel(n_jobs=8)]: Done 30000 out of 30000 | elapsed:   26.8s finished\n"
     ]
    },
    {
     "data": {
      "text/plain": [
       "RandomizedSearchCV(cv=6, error_score='raise-deprecating',\n",
       "          estimator=SVC(C=1.0, cache_size=200, class_weight=None, coef0=0.0,\n",
       "  decision_function_shape='ovr', degree=3, gamma='auto_deprecated',\n",
       "  kernel='rbf', max_iter=-1, probability=False, random_state=None,\n",
       "  shrinking=True, tol=0.001, verbose=False),\n",
       "          fit_params=None, iid=False, n_iter=5000, n_jobs=8,\n",
       "          param_distributions={'kernel': ['linear', 'rbf'], 'C': <scipy.stats._distn_infrastructure.rv_frozen object at 0x000000000CB40D48>, 'gamma': <scipy.stats._distn_infrastructure.rv_frozen object at 0x000000000DCAA708>},\n",
       "          pre_dispatch='2*n_jobs', random_state=77, refit=True,\n",
       "          return_train_score='warn', scoring='recall', verbose=1)"
      ]
     },
     "execution_count": 115,
     "metadata": {},
     "output_type": "execute_result"
    }
   ],
   "source": [
    "RandSearch.fit(X_train_44_red10, y_train)"
   ]
  },
  {
   "cell_type": "code",
   "execution_count": 116,
   "metadata": {},
   "outputs": [
    {
     "data": {
      "text/plain": [
       "0.8333333333333334"
      ]
     },
     "execution_count": 116,
     "metadata": {},
     "output_type": "execute_result"
    }
   ],
   "source": [
    "RandSearch.best_score_"
   ]
  },
  {
   "cell_type": "code",
   "execution_count": 117,
   "metadata": {},
   "outputs": [
    {
     "data": {
      "text/plain": [
       "{'C': 5204.545052836362, 'gamma': 0.0031819765309934927, 'kernel': 'rbf'}"
      ]
     },
     "execution_count": 117,
     "metadata": {},
     "output_type": "execute_result"
    }
   ],
   "source": [
    "RandSearch.best_params_"
   ]
  },
  {
   "cell_type": "code",
   "execution_count": 118,
   "metadata": {},
   "outputs": [],
   "source": [
    "clf = RandSearch.best_estimator_"
   ]
  },
  {
   "cell_type": "code",
   "execution_count": 119,
   "metadata": {},
   "outputs": [],
   "source": [
    "feature_list = payment_features + stock_features + mail_features + extra_features\n",
    "selected_features = get_features(feature_list,  RFECV_.ranking_ <= 1)"
   ]
  },
  {
   "cell_type": "code",
   "execution_count": 120,
   "metadata": {},
   "outputs": [],
   "source": [
    "# Features\n",
    "X_train_44_red10_df = pd.DataFrame(X_train_44_red10, columns=selected_features, index=insiders_train)\n",
    "X_test_44_red10_df = pd.DataFrame(X_test_44_red10, columns=selected_features, index=insiders_test)\n",
    "X_44_df = X_train_44_red10_df.append(X_test_44_red10_df, sort=False)\n",
    "\n",
    "# Labels\n",
    "y_df = y_train.append(y_test)\n",
    "\n",
    "# Combine features and labels\n",
    "my_dataset = X_44_df.copy()\n",
    "my_dataset.insert(0, column='poi', value=y_df)\n",
    "\n",
    "# Create dataset dict for validation\n",
    "my_dataset_dict = my_dataset.transpose().to_dict() "
   ]
  },
  {
   "cell_type": "code",
   "execution_count": 121,
   "metadata": {},
   "outputs": [],
   "source": [
    "# Dump data\n",
    "dump_classifier_and_data(clf, my_dataset_dict, ['poi'] + selected_features)"
   ]
  },
  {
   "cell_type": "markdown",
   "metadata": {},
   "source": [
    "----"
   ]
  },
  {
   "cell_type": "markdown",
   "metadata": {},
   "source": [
    "### Validate model"
   ]
  },
  {
   "cell_type": "code",
   "execution_count": 122,
   "metadata": {},
   "outputs": [],
   "source": [
    "clf, dataset, feature_list = load_classifier_and_data()"
   ]
  },
  {
   "cell_type": "code",
   "execution_count": 123,
   "metadata": {},
   "outputs": [
    {
     "name": "stdout",
     "output_type": "stream",
     "text": [
      "SVC(C=5204.545052836362, cache_size=200, class_weight=None, coef0=0.0,\n",
      "  decision_function_shape='ovr', degree=3, gamma=0.0031819765309934927,\n",
      "  kernel='rbf', max_iter=-1, probability=False, random_state=None,\n",
      "  shrinking=True, tol=0.001, verbose=False)\n",
      "\tAccuracy: 0.86240\tPrecision: 0.48180\tRecall: 0.42350\tF1: 0.45077\tF2: 0.43400\n",
      "\tTotal predictions: 15000\tTrue positives:  847\tFalse positives:  911\tFalse negatives: 1153\tTrue negatives: 12089\n",
      "\n"
     ]
    }
   ],
   "source": [
    "test_classifier(clf, dataset, feature_list)"
   ]
  },
  {
   "cell_type": "markdown",
   "metadata": {},
   "source": [
    "----"
   ]
  },
  {
   "cell_type": "markdown",
   "metadata": {},
   "source": [
    "### Address precision/ recall trade-off"
   ]
  },
  {
   "cell_type": "code",
   "execution_count": 124,
   "metadata": {},
   "outputs": [],
   "source": [
    "my_clf = flex_classifier(RandSearch.best_estimator_, min_precision=0.35, min_recall=0.4, maximize='recall')"
   ]
  },
  {
   "cell_type": "code",
   "execution_count": 125,
   "metadata": {},
   "outputs": [
    {
     "data": {
      "text/plain": [
       "flex_classifier(classifier=SVC(C=5204.545052836362, cache_size=200, class_weight=None, coef0=0.0,\n",
       "  decision_function_shape='ovr', degree=3, gamma=0.0031819765309934927,\n",
       "  kernel='rbf', max_iter=-1, probability=False, random_state=None,\n",
       "  shrinking=True, tol=0.001, verbose=False),\n",
       "        maximize='recall', min_precision=0.35, min_recall=0.4,\n",
       "        threshold=0.0)"
      ]
     },
     "execution_count": 125,
     "metadata": {},
     "output_type": "execute_result"
    }
   ],
   "source": [
    "my_clf.fit(X_train_44_red10, y_train)"
   ]
  },
  {
   "cell_type": "markdown",
   "metadata": {},
   "source": [
    "#### Determine best threshold"
   ]
  },
  {
   "cell_type": "code",
   "execution_count": 126,
   "metadata": {},
   "outputs": [],
   "source": [
    "from sklearn.model_selection import StratifiedShuffleSplit"
   ]
  },
  {
   "cell_type": "code",
   "execution_count": 127,
   "metadata": {},
   "outputs": [],
   "source": [
    "cv = StratifiedShuffleSplit(n_splits=14, random_state=77, test_size=0.35)"
   ]
  },
  {
   "cell_type": "code",
   "execution_count": 128,
   "metadata": {},
   "outputs": [],
   "source": [
    "thresholds = []\n",
    "for train_idx, test_idx in cv.split(X_train_44_red10, y_train):\n",
    "    X_train_ = X_train_44_red10[train_idx]\n",
    "    X_test_  = X_train_44_red10[test_idx]\n",
    "    y_train_ = y_train[train_idx]\n",
    "    y_test_  = y_train[test_idx]\n",
    "    thresholds.append( list(my_clf.det_threshold(X_train_, y_train_, replace=False)))"
   ]
  },
  {
   "cell_type": "code",
   "execution_count": 129,
   "metadata": {},
   "outputs": [
    {
     "data": {
      "text/plain": [
       "-0.8272396074523954"
      ]
     },
     "execution_count": 129,
     "metadata": {},
     "output_type": "execute_result"
    }
   ],
   "source": [
    "thresholds = np.array(thresholds)\n",
    "best_threshold = thresholds[:,0].mean(axis=0)\n",
    "best_threshold"
   ]
  },
  {
   "cell_type": "code",
   "execution_count": 130,
   "metadata": {},
   "outputs": [],
   "source": [
    "my_clf.threshold = best_threshold"
   ]
  },
  {
   "cell_type": "markdown",
   "metadata": {},
   "source": [
    "### Validate model"
   ]
  },
  {
   "cell_type": "markdown",
   "metadata": {},
   "source": [
    "#### Check model on test data"
   ]
  },
  {
   "cell_type": "code",
   "execution_count": 131,
   "metadata": {},
   "outputs": [
    {
     "name": "stdout",
     "output_type": "stream",
     "text": [
      "0.8026315789473684 ROC AUC\n"
     ]
    },
    {
     "data": {
      "image/png": "[encoded data removed]",
      "text/plain": [
       "<Figure size 432x288 with 1 Axes>"
      ]
     },
     "metadata": {
      "needs_background": "light"
     },
     "output_type": "display_data"
    }
   ],
   "source": [
    "y_scores = my_clf.classifier.decision_function(X_test_44_red10)\n",
    "print roc_auc_score(y_test, y_scores), \"ROC AUC\"\n",
    "precision, recall, proba = precision_recall_curve(y_test, y_scores)\n",
    "plt_precision_vs_recall(precision, recall, title='SVC ROC features')"
   ]
  },
  {
   "cell_type": "code",
   "execution_count": 132,
   "metadata": {},
   "outputs": [
    {
     "name": "stdout",
     "output_type": "stream",
     "text": [
      "[[31  7]\n",
      " [ 4  2]]\n"
     ]
    }
   ],
   "source": [
    "y_predict = my_clf.predict(X_test_44_red10)\n",
    "print confusion_matrix(y_test, y_predict)"
   ]
  },
  {
   "cell_type": "code",
   "execution_count": 133,
   "metadata": {},
   "outputs": [
    {
     "data": {
      "text/plain": [
       "0.3333333333333333"
      ]
     },
     "execution_count": 133,
     "metadata": {},
     "output_type": "execute_result"
    }
   ],
   "source": [
    "recall_score(y_test, y_predict)"
   ]
  },
  {
   "cell_type": "code",
   "execution_count": 134,
   "metadata": {},
   "outputs": [
    {
     "data": {
      "text/plain": [
       "0.2222222222222222"
      ]
     },
     "execution_count": 134,
     "metadata": {},
     "output_type": "execute_result"
    }
   ],
   "source": [
    "precision_score(y_test, y_predict)"
   ]
  },
  {
   "cell_type": "markdown",
   "metadata": {},
   "source": [
    "----"
   ]
  },
  {
   "cell_type": "code",
   "execution_count": 135,
   "metadata": {},
   "outputs": [],
   "source": [
    "# Dump data\n",
    "dump_classifier_and_data(my_clf, my_dataset_dict, ['poi'] + selected_features)"
   ]
  },
  {
   "cell_type": "markdown",
   "metadata": {},
   "source": [
    "----"
   ]
  },
  {
   "cell_type": "markdown",
   "metadata": {},
   "source": [
    "#### Validate model using tester.py"
   ]
  },
  {
   "cell_type": "code",
   "execution_count": 136,
   "metadata": {},
   "outputs": [],
   "source": [
    "clf, dataset, feature_list = load_classifier_and_data()"
   ]
  },
  {
   "cell_type": "code",
   "execution_count": 137,
   "metadata": {},
   "outputs": [
    {
     "name": "stdout",
     "output_type": "stream",
     "text": [
      "flex_classifier(classifier=SVC(C=5204.545052836362, cache_size=200, class_weight=None, coef0=0.0,\n",
      "  decision_function_shape='ovr', degree=3, gamma=0.0031819765309934927,\n",
      "  kernel='rbf', max_iter=-1, probability=False, random_state=None,\n",
      "  shrinking=True, tol=0.001, verbose=False),\n",
      "        maximize='recall', min_precision=0.35, min_recall=0.4,\n",
      "        threshold=-0.8272396074523954)\n",
      "\tAccuracy: 0.77873\tPrecision: 0.35716\tRecall: 0.82450\tF1: 0.49841\tF2: 0.65348\n",
      "\tTotal predictions: 15000\tTrue positives: 1649\tFalse positives: 2968\tFalse negatives:  351\tTrue negatives: 10032\n",
      "\n"
     ]
    }
   ],
   "source": [
    "test_classifier(clf, dataset, feature_list)"
   ]
  },
  {
   "cell_type": "code",
   "execution_count": 138,
   "metadata": {},
   "outputs": [
    {
     "data": {
      "text/plain": [
       "['poi',\n",
       " 'bonus',\n",
       " 'deferred_income',\n",
       " 'expenses',\n",
       " 'exercised_stock_options',\n",
       " 'total_stock_value',\n",
       " 'shared_receipt_with_poi',\n",
       " 'bonus_deferral_payments_rate',\n",
       " 'rest_stock_deferral_payments_rate',\n",
       " 'exer_stock_options_deferral_payments_rate',\n",
       " 'toPOI_rate']"
      ]
     },
     "execution_count": 138,
     "metadata": {},
     "output_type": "execute_result"
    }
   ],
   "source": [
    "feature_list"
   ]
  },
  {
   "cell_type": "markdown",
   "metadata": {},
   "source": [
    "----"
   ]
  },
  {
   "cell_type": "markdown",
   "metadata": {},
   "source": [
    "### Save SVC model"
   ]
  },
  {
   "cell_type": "code",
   "execution_count": 139,
   "metadata": {},
   "outputs": [],
   "source": [
    "with open(MODELS + \"SVC_model.pkl\", \"w\") as out:\n",
    "    pickle.dump(my_clf, out)"
   ]
  },
  {
   "cell_type": "code",
   "execution_count": 140,
   "metadata": {},
   "outputs": [],
   "source": [
    "with open(MODELS + \"SVC_features.pkl\", \"w\") as out:\n",
    "    pickle.dump(my_dataset_dict, out)"
   ]
  },
  {
   "cell_type": "code",
   "execution_count": 141,
   "metadata": {},
   "outputs": [],
   "source": [
    "with open(MODELS + \"SVC_feature_list.pkl\", \"w\") as out:\n",
    "    pickle.dump(['poi'] + selected_features, out)"
   ]
  }
 ],
 "metadata": {
  "kernelspec": {
   "display_name": "Python [conda env:py27]",
   "language": "python",
   "name": "conda-env-py27-py"
  },
  "language_info": {
   "codemirror_mode": {
    "name": "ipython",
    "version": 2
   },
   "file_extension": ".py",
   "mimetype": "text/x-python",
   "name": "python",
   "nbconvert_exporter": "python",
   "pygments_lexer": "ipython2",
   "version": "2.7.18"
  }
 },
 "nbformat": 4,
 "nbformat_minor": 4
}
