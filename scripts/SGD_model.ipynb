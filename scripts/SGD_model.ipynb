{
 "cells": [
  {
   "cell_type": "code",
   "execution_count": 61,
   "metadata": {},
   "outputs": [],
   "source": [
    "#!/usr/bin/python\n",
    "import matplotlib.pyplot as plt\n",
    "import pandas as pd\n",
    "import numpy as np\n",
    "import scipy.stats as stats\n",
    "from helper import get_features, predict_from_score, correlate, crt_plot, plt_precision_recall_vs_threshold, plt_precision_vs_recall, plot_roc_curve, flex_classifier \n",
    "import sys\n",
    "import pickle\n",
    "sys.path.append(\"../tools/\")\n",
    "\n",
    "from sklearn.metrics import confusion_matrix, precision_recall_curve, recall_score, precision_score, roc_curve, roc_auc_score\n",
    "from sklearn.model_selection import train_test_split, cross_val_predict, cross_val_score\n",
    "\n",
    "from feature_format import featureFormat, targetFeatureSplit\n",
    "from tester import dump_classifier_and_data, load_classifier_and_data, test_classifier\n",
    "\n",
    "MODELS = '../classifiers/'\n",
    "IMAGES = '../images/'\n",
    "DATA   = '../data/'"
   ]
  },
  {
   "cell_type": "markdown",
   "metadata": {},
   "source": [
    "----"
   ]
  },
  {
   "cell_type": "code",
   "execution_count": 2,
   "metadata": {},
   "outputs": [],
   "source": [
    "#############################\n",
    "### Task 1: Select what features you'll use.\n",
    "### features_list is a list of strings, each of which is a feature name.\n",
    "### The first feature must be \"poi\".\n",
    "# features_list = ['poi','salary'] # You will need to use more features\n",
    "payment_features = ['salary', 'bonus', 'long_term_incentive', 'deferred_income', 'deferral_payments', 'other', 'expenses', 'director_fees', 'total_payments']\n",
    "stock_features   = ['exercised_stock_options', 'restricted_stock', 'restricted_stock_deferred', 'total_stock_value']\n",
    "mail_features    = ['from_this_person_to_poi', 'from_poi_to_this_person', 'shared_receipt_with_poi']\n",
    "extra_features   = ['bonus_deferral_payments_rate', 'rest_stock_deferral_payments_rate', 'exer_stock_options_deferral_payments_rate',\n",
    "                    'long_term_incentive_total_payments_rate', 'bonus_total_payments_rate', 'exer_stock_options_total_payments_rate',\n",
    "                    'toPOI_rate', 'fromPOI_rate']\n",
    "extra_finance    = ['bonus_deferral_payments_rate', 'rest_stock_deferral_payments_rate', 'exer_stock_options_deferral_payments_rate',\n",
    "                    'long_term_incentive_total_payments_rate', 'bonus_total_payments_rate', 'exer_stock_options_total_payments_rate']\n",
    "extra_mail       = ['toPOI_rate', 'fromPOI_rate']\n",
    "feature_list = payment_features + stock_features + mail_features + extra_features"
   ]
  },
  {
   "cell_type": "code",
   "execution_count": 3,
   "metadata": {},
   "outputs": [],
   "source": [
    "### Load the dictionary containing the dataset\n",
    "my_data = pd.read_pickle(DATA+\"my_dataFrame.pkl\")\n",
    "# Divide data into features and labels \n",
    "y = my_data['poi'].copy().astype(np.uint8)\n",
    "X = my_data[feature_list].copy()\n",
    "# Split data into training and test set using stratified splitting\n",
    "X_train, X_test, y_train, y_test = train_test_split(X, y, test_size=0.30, random_state=77, stratify=y) "
   ]
  },
  {
   "cell_type": "markdown",
   "metadata": {},
   "source": [
    "----"
   ]
  },
  {
   "cell_type": "code",
   "execution_count": 4,
   "metadata": {},
   "outputs": [
    {
     "name": "stdout",
     "output_type": "stream",
     "text": [
      "Number of POIs in the test set: 6\n"
     ]
    }
   ],
   "source": [
    "# I spare 30% of the data as test set to have at least 5 'poi's in the test set. It's important to me to realize a high recall value, identifying as many 'poi's as possible.  \n",
    "print \"Number of POIs in the test set:\" , y_test.sum()"
   ]
  },
  {
   "cell_type": "code",
   "execution_count": 5,
   "metadata": {},
   "outputs": [],
   "source": [
    "# Save the order of insiders\n",
    "insiders_train = y_train.index\n",
    "insiders_test  = y_test.index"
   ]
  },
  {
   "cell_type": "code",
   "execution_count": 6,
   "metadata": {},
   "outputs": [],
   "source": [
    "# Dealing with missing values\n",
    "from sklearn.impute import SimpleImputer\n",
    "from sklearn.preprocessing import FunctionTransformer, StandardScaler, RobustScaler, PowerTransformer\n",
    "from sklearn.pipeline import Pipeline\n",
    "from sklearn.compose import ColumnTransformer"
   ]
  },
  {
   "cell_type": "markdown",
   "metadata": {},
   "source": [
    "### Imputation Stategies"
   ]
  },
  {
   "cell_type": "code",
   "execution_count": 7,
   "metadata": {},
   "outputs": [],
   "source": [
    "# I'd like to explore different strategies filling NAN values\n",
    "# Imputer_01:\n",
    "# Applies median to mail and extra NAN features and 0 to financial NAN features\n",
    "impute_01 = ColumnTransformer(\n",
    "     [('finance_data',  SimpleImputer(missing_values=np.nan, strategy='constant', fill_value=0.0), payment_features+stock_features),\n",
    "      ('mail_data',     SimpleImputer(missing_values=np.nan, strategy='median'), mail_features),\n",
    "      ('extra_finance', SimpleImputer(missing_values=np.nan, strategy='median'), extra_finance),\n",
    "      ('extra_mail',    SimpleImputer(missing_values=np.nan, strategy='median'), extra_mail)],\n",
    "     remainder='passthrough')\n",
    "# Imputer_02:\n",
    "# Applies median to all NAN features \n",
    "impute_02 = SimpleImputer(strategy='median')\n",
    "# Imputer_03:\n",
    "# Applies 0.0 to all NAN features\n",
    "impute_03 = SimpleImputer(strategy='constant', fill_value=0.0)\n",
    "# Imputer 04\n",
    "# Applies 0.0 to financial and extra_finance featurtes and median to 'mail_features' and 'extra_mail'\n",
    "impute_04 = ColumnTransformer(\n",
    "     [('finance_data',  SimpleImputer(missing_values=np.nan, strategy='constant', fill_value=0.0), payment_features+stock_features),\n",
    "      ('mail_data',     SimpleImputer(missing_values=np.nan, strategy='median'), mail_features),\n",
    "      ('extra_finance', SimpleImputer(missing_values=np.nan, strategy='constant', fill_value=0.0), extra_finance),\n",
    "      ('extra_mail',    SimpleImputer(missing_values=np.nan, strategy='median'), extra_mail)],\n",
    "     remainder='passthrough')\n",
    "# Imputer 05\n",
    "# Applies mean values to all NAN\n",
    "impute_05 = SimpleImputer(strategy='mean')\n",
    "imputers = [impute_01, impute_02, impute_03, impute_04, impute_05]"
   ]
  },
  {
   "cell_type": "markdown",
   "metadata": {},
   "source": [
    "### Scaling strategies"
   ]
  },
  {
   "cell_type": "code",
   "execution_count": 8,
   "metadata": {},
   "outputs": [],
   "source": [
    "def no_scaling(X):\n",
    "    return np.array(X)"
   ]
  },
  {
   "cell_type": "code",
   "execution_count": 9,
   "metadata": {},
   "outputs": [],
   "source": [
    "# Define different scaling strategies\n",
    "#no_scl     = FunctionTransformer(func=lambda x: np.array(x))\n",
    "no_scl     = FunctionTransformer(func=no_scaling)\n",
    "robust_scl = RobustScaler()\n",
    "std_scl    = StandardScaler()\n",
    "power_scl  = PowerTransformer(method='yeo-johnson')\n",
    "scalers = [no_scl, robust_scl, std_scl, power_scl]\n",
    "scaler_names = ['NO SCALING', 'ROBUST SCALER', 'STANDARD SCALER', 'POWER SCALER']"
   ]
  },
  {
   "cell_type": "markdown",
   "metadata": {},
   "source": [
    "----"
   ]
  },
  {
   "cell_type": "markdown",
   "metadata": {},
   "source": [
    "### Stochastic gradient decent"
   ]
  },
  {
   "cell_type": "code",
   "execution_count": 10,
   "metadata": {},
   "outputs": [],
   "source": [
    "from sklearn.linear_model import SGDClassifier  "
   ]
  },
  {
   "cell_type": "code",
   "execution_count": 11,
   "metadata": {},
   "outputs": [],
   "source": [
    "SGD_clf = SGDClassifier(random_state=77, loss='hinge')"
   ]
  },
  {
   "cell_type": "code",
   "execution_count": 12,
   "metadata": {},
   "outputs": [
    {
     "name": "stderr",
     "output_type": "stream",
     "text": [
      "C:\\Users\\micha\\Programs\\anaconda3\\envs\\py27\\lib\\site-packages\\sklearn\\preprocessing\\_function_transformer.py:98: FutureWarning: The default validate=True will be replaced by validate=False in 0.22.\n",
      "  \"validate=False in 0.22.\", FutureWarning)\n"
     ]
    }
   ],
   "source": [
    "# Build pipelines for imputation and scaling\n",
    "pipe_41 = Pipeline([ ('impute_04', impute_04), ('scale', no_scl) ])\n",
    "pipe_44 = Pipeline([ ('impute_04', impute_04), ('scale', power_scl) ])\n",
    "\n",
    "X_train_41 = pipe_41.fit_transform(X_train);\n",
    "X_train_44 = pipe_44.fit_transform(X_train);"
   ]
  },
  {
   "cell_type": "markdown",
   "metadata": {},
   "source": [
    "----"
   ]
  },
  {
   "cell_type": "markdown",
   "metadata": {},
   "source": [
    "## Feature selection"
   ]
  },
  {
   "cell_type": "markdown",
   "metadata": {},
   "source": [
    "### Try different sets of features and check the impact on the results (ROC AUC)"
   ]
  },
  {
   "cell_type": "code",
   "execution_count": 13,
   "metadata": {},
   "outputs": [],
   "source": [
    "from sklearn.model_selection import cross_val_score, cross_val_predict, cross_validate"
   ]
  },
  {
   "cell_type": "markdown",
   "metadata": {},
   "source": [
    "### Initial run of SGD "
   ]
  },
  {
   "cell_type": "code",
   "execution_count": 14,
   "metadata": {},
   "outputs": [
    {
     "name": "stderr",
     "output_type": "stream",
     "text": [
      "C:\\Users\\micha\\Programs\\anaconda3\\envs\\py27\\lib\\site-packages\\sklearn\\linear_model\\stochastic_gradient.py:166: FutureWarning: max_iter and tol parameters have been added in SGDClassifier in 0.19. If both are left unset, they default to max_iter=5 and tol=None. If tol is not None, max_iter defaults to max_iter=1000. From 0.21, default max_iter will be 1000, and default tol will be 1e-3.\n",
      "  FutureWarning)\n"
     ]
    },
    {
     "data": {
      "text/plain": [
       "0.9182539682539682"
      ]
     },
     "execution_count": 14,
     "metadata": {},
     "output_type": "execute_result"
    }
   ],
   "source": [
    "scores = cross_val_score(SGD_clf, X_train_44, y_train, cv=6, scoring='roc_auc')\n",
    "scores.mean()"
   ]
  },
  {
   "cell_type": "code",
   "execution_count": 15,
   "metadata": {},
   "outputs": [
    {
     "data": {
      "image/png": "[encoded data removed]",
      "text/plain": [
       "<Figure size 432x288 with 1 Axes>"
      ]
     },
     "metadata": {
      "needs_background": "light"
     },
     "output_type": "display_data"
    }
   ],
   "source": [
    "y_scores = cross_val_predict(SGD_clf, X_train_41, y_train, cv=6, method='decision_function' )\n",
    "roc_auc_score(y_train, y_scores)\n",
    "precision, recall, proba = precision_recall_curve(y_train, y_scores)\n",
    "plt_precision_vs_recall(precision, recall, title='SVC')"
   ]
  },
  {
   "cell_type": "markdown",
   "metadata": {},
   "source": [
    "#### Feature reduction"
   ]
  },
  {
   "cell_type": "code",
   "execution_count": 16,
   "metadata": {},
   "outputs": [],
   "source": [
    "from sklearn.feature_selection import RFE, RFECV"
   ]
  },
  {
   "cell_type": "code",
   "execution_count": 17,
   "metadata": {},
   "outputs": [],
   "source": [
    "RFE_ = RFE(SGD_clf).fit(X_train_44, y_train)"
   ]
  },
  {
   "cell_type": "code",
   "execution_count": 18,
   "metadata": {},
   "outputs": [
    {
     "data": {
      "text/plain": [
       "array([ 1,  7,  1,  1, 10,  1,  1,  4, 13,  1,  6,  9,  1,  5, 12,  1,  1,\n",
       "        3,  1, 11,  1,  8,  1,  2])"
      ]
     },
     "execution_count": 18,
     "metadata": {},
     "output_type": "execute_result"
    }
   ],
   "source": [
    "RFE_.ranking_"
   ]
  },
  {
   "cell_type": "code",
   "execution_count": 19,
   "metadata": {},
   "outputs": [],
   "source": [
    "X_train_44_red = pipe_44.transform(X_train)[:, RFE_.ranking_ <= 1]\n",
    "X_test_44_red = pipe_44.transform(X_test)[:, RFE_.ranking_ <= 1]"
   ]
  },
  {
   "cell_type": "code",
   "execution_count": 20,
   "metadata": {},
   "outputs": [
    {
     "name": "stdout",
     "output_type": "stream",
     "text": [
      "0.9090909090909091 ROC AUC for\n"
     ]
    },
    {
     "data": {
      "image/png": "[encoded data removed]",
      "text/plain": [
       "<Figure size 432x288 with 1 Axes>"
      ]
     },
     "metadata": {
      "needs_background": "light"
     },
     "output_type": "display_data"
    }
   ],
   "source": [
    "# RFECV features reduction. RFB Kernel results.\n",
    "y_scores = cross_val_predict(SGD_clf, X_train_44_red, y_train, cv=6, method='decision_function')\n",
    "print roc_auc_score(y_train, y_scores), \"ROC AUC for\"\n",
    "precision, recall, proba = precision_recall_curve(y_train, y_scores)\n",
    "plt_precision_vs_recall(precision, recall, title='SGD RFECV best features')"
   ]
  },
  {
   "cell_type": "code",
   "execution_count": 21,
   "metadata": {},
   "outputs": [
    {
     "data": {
      "text/html": [
       "<div>\n",
       "<style scoped>\n",
       "    .dataframe tbody tr th:only-of-type {\n",
       "        vertical-align: middle;\n",
       "    }\n",
       "\n",
       "    .dataframe tbody tr th {\n",
       "        vertical-align: top;\n",
       "    }\n",
       "\n",
       "    .dataframe thead th {\n",
       "        text-align: right;\n",
       "    }\n",
       "</style>\n",
       "<table border=\"1\" class=\"dataframe\">\n",
       "  <thead>\n",
       "    <tr style=\"text-align: right;\">\n",
       "      <th></th>\n",
       "      <th>0</th>\n",
       "      <th>1</th>\n",
       "    </tr>\n",
       "  </thead>\n",
       "  <tbody>\n",
       "    <tr>\n",
       "      <th>0</th>\n",
       "      <td>salary</td>\n",
       "      <td>1</td>\n",
       "    </tr>\n",
       "    <tr>\n",
       "      <th>20</th>\n",
       "      <td>bonus_total_payments_rate</td>\n",
       "      <td>1</td>\n",
       "    </tr>\n",
       "    <tr>\n",
       "      <th>2</th>\n",
       "      <td>long_term_incentive</td>\n",
       "      <td>1</td>\n",
       "    </tr>\n",
       "    <tr>\n",
       "      <th>3</th>\n",
       "      <td>deferred_income</td>\n",
       "      <td>1</td>\n",
       "    </tr>\n",
       "    <tr>\n",
       "      <th>18</th>\n",
       "      <td>exer_stock_options_deferral_payments_rate</td>\n",
       "      <td>1</td>\n",
       "    </tr>\n",
       "    <tr>\n",
       "      <th>5</th>\n",
       "      <td>other</td>\n",
       "      <td>1</td>\n",
       "    </tr>\n",
       "    <tr>\n",
       "      <th>6</th>\n",
       "      <td>expenses</td>\n",
       "      <td>1</td>\n",
       "    </tr>\n",
       "    <tr>\n",
       "      <th>16</th>\n",
       "      <td>bonus_deferral_payments_rate</td>\n",
       "      <td>1</td>\n",
       "    </tr>\n",
       "    <tr>\n",
       "      <th>15</th>\n",
       "      <td>shared_receipt_with_poi</td>\n",
       "      <td>1</td>\n",
       "    </tr>\n",
       "    <tr>\n",
       "      <th>9</th>\n",
       "      <td>exercised_stock_options</td>\n",
       "      <td>1</td>\n",
       "    </tr>\n",
       "    <tr>\n",
       "      <th>12</th>\n",
       "      <td>total_stock_value</td>\n",
       "      <td>1</td>\n",
       "    </tr>\n",
       "    <tr>\n",
       "      <th>22</th>\n",
       "      <td>toPOI_rate</td>\n",
       "      <td>1</td>\n",
       "    </tr>\n",
       "    <tr>\n",
       "      <th>23</th>\n",
       "      <td>fromPOI_rate</td>\n",
       "      <td>2</td>\n",
       "    </tr>\n",
       "    <tr>\n",
       "      <th>17</th>\n",
       "      <td>rest_stock_deferral_payments_rate</td>\n",
       "      <td>3</td>\n",
       "    </tr>\n",
       "    <tr>\n",
       "      <th>7</th>\n",
       "      <td>director_fees</td>\n",
       "      <td>4</td>\n",
       "    </tr>\n",
       "    <tr>\n",
       "      <th>13</th>\n",
       "      <td>from_this_person_to_poi</td>\n",
       "      <td>5</td>\n",
       "    </tr>\n",
       "    <tr>\n",
       "      <th>10</th>\n",
       "      <td>restricted_stock</td>\n",
       "      <td>6</td>\n",
       "    </tr>\n",
       "    <tr>\n",
       "      <th>1</th>\n",
       "      <td>bonus</td>\n",
       "      <td>7</td>\n",
       "    </tr>\n",
       "    <tr>\n",
       "      <th>21</th>\n",
       "      <td>exer_stock_options_total_payments_rate</td>\n",
       "      <td>8</td>\n",
       "    </tr>\n",
       "    <tr>\n",
       "      <th>11</th>\n",
       "      <td>restricted_stock_deferred</td>\n",
       "      <td>9</td>\n",
       "    </tr>\n",
       "    <tr>\n",
       "      <th>4</th>\n",
       "      <td>deferral_payments</td>\n",
       "      <td>10</td>\n",
       "    </tr>\n",
       "    <tr>\n",
       "      <th>19</th>\n",
       "      <td>long_term_incentive_total_payments_rate</td>\n",
       "      <td>11</td>\n",
       "    </tr>\n",
       "    <tr>\n",
       "      <th>14</th>\n",
       "      <td>from_poi_to_this_person</td>\n",
       "      <td>12</td>\n",
       "    </tr>\n",
       "    <tr>\n",
       "      <th>8</th>\n",
       "      <td>total_payments</td>\n",
       "      <td>13</td>\n",
       "    </tr>\n",
       "  </tbody>\n",
       "</table>\n",
       "</div>"
      ],
      "text/plain": [
       "                                            0   1\n",
       "0                                      salary   1\n",
       "20                  bonus_total_payments_rate   1\n",
       "2                         long_term_incentive   1\n",
       "3                             deferred_income   1\n",
       "18  exer_stock_options_deferral_payments_rate   1\n",
       "5                                       other   1\n",
       "6                                    expenses   1\n",
       "16               bonus_deferral_payments_rate   1\n",
       "15                    shared_receipt_with_poi   1\n",
       "9                     exercised_stock_options   1\n",
       "12                          total_stock_value   1\n",
       "22                                 toPOI_rate   1\n",
       "23                               fromPOI_rate   2\n",
       "17          rest_stock_deferral_payments_rate   3\n",
       "7                               director_fees   4\n",
       "13                    from_this_person_to_poi   5\n",
       "10                           restricted_stock   6\n",
       "1                                       bonus   7\n",
       "21     exer_stock_options_total_payments_rate   8\n",
       "11                  restricted_stock_deferred   9\n",
       "4                           deferral_payments  10\n",
       "19    long_term_incentive_total_payments_rate  11\n",
       "14                    from_poi_to_this_person  12\n",
       "8                              total_payments  13"
      ]
     },
     "execution_count": 21,
     "metadata": {},
     "output_type": "execute_result"
    }
   ],
   "source": [
    "score_table = pd.DataFrame(zip(feature_list, RFE_.ranking_))\n",
    "score_table.sort_values(1, axis='index')"
   ]
  },
  {
   "cell_type": "markdown",
   "metadata": {},
   "source": [
    "### Random search to find best set of features\n",
    "\n",
    "Find best parameters for SGD model using Randomized Search algorithm"
   ]
  },
  {
   "cell_type": "code",
   "execution_count": 22,
   "metadata": {},
   "outputs": [],
   "source": [
    "from sklearn.model_selection import RandomizedSearchCV "
   ]
  },
  {
   "cell_type": "code",
   "execution_count": 23,
   "metadata": {},
   "outputs": [],
   "source": [
    "param_distributions = {\n",
    "            'penalty': ['l2', 'l1'],\n",
    "            'alpha': stats.reciprocal(10**(-6), 100),\n",
    "            'learning_rate': ['constant', 'invscaling', 'adaptive'],\n",
    "            'eta0': stats.uniform(10**-12,100)\n",
    "        }\n",
    "#stats.expon(scale=1.0),"
   ]
  },
  {
   "cell_type": "code",
   "execution_count": 24,
   "metadata": {},
   "outputs": [],
   "source": [
    "RandSearch = RandomizedSearchCV(SGD_clf, param_distributions, cv=6, n_iter=5000, scoring='roc_auc', iid=False, verbose=1, n_jobs=8, random_state=77)"
   ]
  },
  {
   "cell_type": "code",
   "execution_count": 25,
   "metadata": {},
   "outputs": [
    {
     "name": "stdout",
     "output_type": "stream",
     "text": [
      "Fitting 6 folds for each of 5000 candidates, totalling 30000 fits\n"
     ]
    },
    {
     "name": "stderr",
     "output_type": "stream",
     "text": [
      "[Parallel(n_jobs=8)]: Using backend LokyBackend with 8 concurrent workers.\n",
      "[Parallel(n_jobs=8)]: Done  34 tasks      | elapsed:    4.3s\n",
      "[Parallel(n_jobs=8)]: Done 1734 tasks      | elapsed:    6.8s\n",
      "[Parallel(n_jobs=8)]: Done 5234 tasks      | elapsed:   11.5s\n",
      "[Parallel(n_jobs=8)]: Done 10134 tasks      | elapsed:   17.9s\n",
      "[Parallel(n_jobs=8)]: Done 16434 tasks      | elapsed:   27.0s\n",
      "[Parallel(n_jobs=8)]: Done 24134 tasks      | elapsed:   36.7s\n",
      "[Parallel(n_jobs=8)]: Done 30000 out of 30000 | elapsed:   44.1s finished\n"
     ]
    },
    {
     "data": {
      "text/plain": [
       "RandomizedSearchCV(cv=6, error_score='raise-deprecating',\n",
       "          estimator=SGDClassifier(alpha=0.0001, average=False, class_weight=None,\n",
       "       early_stopping=False, epsilon=0.1, eta0=0.0, fit_intercept=True,\n",
       "       l1_ratio=0.15, learning_rate='optimal', loss='hinge', max_iter=None,\n",
       "       n_iter=None, n_iter_no_change=5, n_jobs=None, penalty='l2',\n",
       "       power_t=0.5, random_state=77, shuffle=True, tol=None,\n",
       "       validation_fraction=0.1, verbose=0, warm_start=False),\n",
       "          fit_params=None, iid=False, n_iter=5000, n_jobs=8,\n",
       "          param_distributions={'penalty': ['l2', 'l1'], 'alpha': <scipy.stats._distn_infrastructure.rv_frozen object at 0x000000000D4B4DC8>, 'learning_rate': ['constant', 'invscaling', 'adaptive'], 'eta0': <scipy.stats._distn_infrastructure.rv_frozen object at 0x000000000C9974C8>},\n",
       "          pre_dispatch='2*n_jobs', random_state=77, refit=True,\n",
       "          return_train_score='warn', scoring='roc_auc', verbose=1)"
      ]
     },
     "execution_count": 25,
     "metadata": {},
     "output_type": "execute_result"
    }
   ],
   "source": [
    "RandSearch.fit(X_train_44_red, y_train)"
   ]
  },
  {
   "cell_type": "code",
   "execution_count": 26,
   "metadata": {},
   "outputs": [
    {
     "data": {
      "text/plain": [
       "0.9765873015873017"
      ]
     },
     "execution_count": 26,
     "metadata": {},
     "output_type": "execute_result"
    }
   ],
   "source": [
    "RandSearch.best_score_"
   ]
  },
  {
   "cell_type": "code",
   "execution_count": 27,
   "metadata": {},
   "outputs": [
    {
     "data": {
      "text/plain": [
       "{'alpha': 0.0005892203698233472,\n",
       " 'eta0': 26.256751654630218,\n",
       " 'learning_rate': 'adaptive',\n",
       " 'penalty': 'l1'}"
      ]
     },
     "execution_count": 27,
     "metadata": {},
     "output_type": "execute_result"
    }
   ],
   "source": [
    "RandSearch.best_params_"
   ]
  },
  {
   "cell_type": "code",
   "execution_count": 28,
   "metadata": {},
   "outputs": [
    {
     "name": "stdout",
     "output_type": "stream",
     "text": [
      "0.9507575757575757 ROC AUC for\n"
     ]
    },
    {
     "data": {
      "image/png": "[encoded data removed]",
      "text/plain": [
       "<Figure size 432x288 with 1 Axes>"
      ]
     },
     "metadata": {
      "needs_background": "light"
     },
     "output_type": "display_data"
    }
   ],
   "source": [
    "y_scores = cross_val_predict(RandSearch.best_estimator_, X_train_44_red, y_train, cv=6, method='decision_function')\n",
    "print roc_auc_score(y_train, y_scores), \"ROC AUC for\"\n",
    "precision, recall, proba = precision_recall_curve(y_train, y_scores)\n",
    "plt_precision_vs_recall(precision, recall, title='SGD RFECV best features')"
   ]
  },
  {
   "cell_type": "code",
   "execution_count": 29,
   "metadata": {},
   "outputs": [],
   "source": [
    "SGD_adapt = RandSearch.best_estimator_"
   ]
  },
  {
   "cell_type": "code",
   "execution_count": 30,
   "metadata": {},
   "outputs": [],
   "source": [
    "param_distributions = {\n",
    "            'penalty': ['l2', 'l1'],\n",
    "            'alpha': stats.reciprocal(10**(-6), 100),\n",
    "            #'learning_rate': ['constant', 'invscaling', 'adaptive'],\n",
    "            #'eta0': stats.uniform(10**-12,100)\n",
    "        }\n",
    "#stats.expon(scale=1.0),"
   ]
  },
  {
   "cell_type": "code",
   "execution_count": 31,
   "metadata": {},
   "outputs": [],
   "source": [
    "RandSearch = RandomizedSearchCV(SGD_clf, param_distributions, cv=6, n_iter=5000, scoring='roc_auc', iid=False, verbose=1, n_jobs=8, random_state=77)"
   ]
  },
  {
   "cell_type": "code",
   "execution_count": 32,
   "metadata": {},
   "outputs": [
    {
     "name": "stdout",
     "output_type": "stream",
     "text": [
      "Fitting 6 folds for each of 5000 candidates, totalling 30000 fits\n"
     ]
    },
    {
     "name": "stderr",
     "output_type": "stream",
     "text": [
      "[Parallel(n_jobs=8)]: Using backend LokyBackend with 8 concurrent workers.\n",
      "[Parallel(n_jobs=8)]: Done 456 tasks      | elapsed:    0.9s\n",
      "[Parallel(n_jobs=8)]: Done 3756 tasks      | elapsed:    5.5s\n",
      "[Parallel(n_jobs=8)]: Done 9256 tasks      | elapsed:   12.5s\n",
      "[Parallel(n_jobs=8)]: Done 16956 tasks      | elapsed:   21.6s\n",
      "[Parallel(n_jobs=8)]: Done 26856 tasks      | elapsed:   34.9s\n",
      "[Parallel(n_jobs=8)]: Done 30000 out of 30000 | elapsed:   38.7s finished\n"
     ]
    },
    {
     "data": {
      "text/plain": [
       "RandomizedSearchCV(cv=6, error_score='raise-deprecating',\n",
       "          estimator=SGDClassifier(alpha=0.0001, average=False, class_weight=None,\n",
       "       early_stopping=False, epsilon=0.1, eta0=0.0, fit_intercept=True,\n",
       "       l1_ratio=0.15, learning_rate='optimal', loss='hinge', max_iter=None,\n",
       "       n_iter=None, n_iter_no_change=5, n_jobs=None, penalty='l2',\n",
       "       power_t=0.5, random_state=77, shuffle=True, tol=None,\n",
       "       validation_fraction=0.1, verbose=0, warm_start=False),\n",
       "          fit_params=None, iid=False, n_iter=5000, n_jobs=8,\n",
       "          param_distributions={'penalty': ['l2', 'l1'], 'alpha': <scipy.stats._distn_infrastructure.rv_frozen object at 0x000000000CB0BB88>},\n",
       "          pre_dispatch='2*n_jobs', random_state=77, refit=True,\n",
       "          return_train_score='warn', scoring='roc_auc', verbose=1)"
      ]
     },
     "execution_count": 32,
     "metadata": {},
     "output_type": "execute_result"
    }
   ],
   "source": [
    "RandSearch.fit(X_train_44_red, y_train)"
   ]
  },
  {
   "cell_type": "code",
   "execution_count": 33,
   "metadata": {},
   "outputs": [
    {
     "data": {
      "text/plain": [
       "0.9714285714285714"
      ]
     },
     "execution_count": 33,
     "metadata": {},
     "output_type": "execute_result"
    }
   ],
   "source": [
    "RandSearch.best_score_"
   ]
  },
  {
   "cell_type": "code",
   "execution_count": 34,
   "metadata": {},
   "outputs": [
    {
     "data": {
      "text/plain": [
       "{'alpha': 0.00012100737190714552, 'penalty': 'l1'}"
      ]
     },
     "execution_count": 34,
     "metadata": {},
     "output_type": "execute_result"
    }
   ],
   "source": [
    "RandSearch.best_params_"
   ]
  },
  {
   "cell_type": "code",
   "execution_count": 35,
   "metadata": {},
   "outputs": [
    {
     "name": "stdout",
     "output_type": "stream",
     "text": [
      "0.9308712121212122 ROC AUC for\n"
     ]
    },
    {
     "data": {
      "image/png": "[encoded data removed]",
      "text/plain": [
       "<Figure size 432x288 with 1 Axes>"
      ]
     },
     "metadata": {
      "needs_background": "light"
     },
     "output_type": "display_data"
    }
   ],
   "source": [
    "y_scores = cross_val_predict(RandSearch.best_estimator_, X_train_44_red, y_train, cv=6, method='decision_function')\n",
    "print roc_auc_score(y_train, y_scores), \"ROC AUC for\"\n",
    "precision, recall, proba = precision_recall_curve(y_train, y_scores)\n",
    "plt_precision_vs_recall(precision, recall, title='SGD RFECV best features')"
   ]
  },
  {
   "cell_type": "code",
   "execution_count": 36,
   "metadata": {},
   "outputs": [],
   "source": [
    "SGD_opt = RandSearch.best_estimator_"
   ]
  },
  {
   "cell_type": "code",
   "execution_count": 37,
   "metadata": {},
   "outputs": [],
   "source": [
    "param_distributions = {\n",
    "            'penalty': ['l2', 'l1'],\n",
    "            'alpha': stats.reciprocal(10**(-6), 20),\n",
    "            'learning_rate': ['invscaling'],\n",
    "            'eta0': stats.uniform(10**-12,20),\n",
    "            'power_t': stats.uniform(10**-12,5)\n",
    "        }\n",
    "#stats.expon(scale=1.0),"
   ]
  },
  {
   "cell_type": "code",
   "execution_count": 38,
   "metadata": {},
   "outputs": [],
   "source": [
    "RandSearch = RandomizedSearchCV(SGD_clf, param_distributions, cv=6, n_iter=5000, scoring='roc_auc', iid=False, verbose=1, n_jobs=8, random_state=77)"
   ]
  },
  {
   "cell_type": "code",
   "execution_count": 39,
   "metadata": {},
   "outputs": [
    {
     "name": "stdout",
     "output_type": "stream",
     "text": [
      "Fitting 6 folds for each of 5000 candidates, totalling 30000 fits\n"
     ]
    },
    {
     "name": "stderr",
     "output_type": "stream",
     "text": [
      "[Parallel(n_jobs=8)]: Using backend LokyBackend with 8 concurrent workers.\n",
      "[Parallel(n_jobs=8)]: Done 268 tasks      | elapsed:    0.6s\n",
      "[Parallel(n_jobs=8)]: Done 2368 tasks      | elapsed:    3.5s\n",
      "[Parallel(n_jobs=8)]: Done 5868 tasks      | elapsed:    8.0s\n",
      "[Parallel(n_jobs=8)]: Done 10768 tasks      | elapsed:   14.3s\n",
      "[Parallel(n_jobs=8)]: Done 17068 tasks      | elapsed:   23.1s\n",
      "[Parallel(n_jobs=8)]: Done 24768 tasks      | elapsed:   34.1s\n",
      "[Parallel(n_jobs=8)]: Done 30000 out of 30000 | elapsed:   40.9s finished\n"
     ]
    },
    {
     "data": {
      "text/plain": [
       "RandomizedSearchCV(cv=6, error_score='raise-deprecating',\n",
       "          estimator=SGDClassifier(alpha=0.0001, average=False, class_weight=None,\n",
       "       early_stopping=False, epsilon=0.1, eta0=0.0, fit_intercept=True,\n",
       "       l1_ratio=0.15, learning_rate='optimal', loss='hinge', max_iter=None,\n",
       "       n_iter=None, n_iter_no_change=5, n_jobs=None, penalty='l2',\n",
       "       power_t=0.5, random_state=77, shuffle=True, tol=None,\n",
       "       validation_fraction=0.1, verbose=0, warm_start=False),\n",
       "          fit_params=None, iid=False, n_iter=5000, n_jobs=8,\n",
       "          param_distributions={'penalty': ['l2', 'l1'], 'alpha': <scipy.stats._distn_infrastructure.rv_frozen object at 0x000000000D8E3648>, 'learning_rate': ['invscaling'], 'eta0': <scipy.stats._distn_infrastructure.rv_frozen object at 0x000000000322F6C8>, 'power_t': <scipy.stats._distn_infrastructure.rv_frozen object at 0x000000000D8E3E88>},\n",
       "          pre_dispatch='2*n_jobs', random_state=77, refit=True,\n",
       "          return_train_score='warn', scoring='roc_auc', verbose=1)"
      ]
     },
     "execution_count": 39,
     "metadata": {},
     "output_type": "execute_result"
    }
   ],
   "source": [
    "RandSearch.fit(X_train_44_red, y_train)"
   ]
  },
  {
   "cell_type": "code",
   "execution_count": 40,
   "metadata": {},
   "outputs": [
    {
     "data": {
      "text/plain": [
       "0.9769841269841271"
      ]
     },
     "execution_count": 40,
     "metadata": {},
     "output_type": "execute_result"
    }
   ],
   "source": [
    "RandSearch.best_score_"
   ]
  },
  {
   "cell_type": "code",
   "execution_count": 41,
   "metadata": {},
   "outputs": [
    {
     "data": {
      "text/plain": [
       "{'alpha': 1.5781162887866865e-06,\n",
       " 'eta0': 6.999733775493985,\n",
       " 'learning_rate': 'invscaling',\n",
       " 'penalty': 'l1',\n",
       " 'power_t': 0.02425337308074562}"
      ]
     },
     "execution_count": 41,
     "metadata": {},
     "output_type": "execute_result"
    }
   ],
   "source": [
    "RandSearch.best_params_"
   ]
  },
  {
   "cell_type": "code",
   "execution_count": 42,
   "metadata": {},
   "outputs": [
    {
     "name": "stdout",
     "output_type": "stream",
     "text": [
      "0.9545454545454546 ROC AUC for\n"
     ]
    },
    {
     "data": {
      "image/png": "[encoded data removed]",
      "text/plain": [
       "<Figure size 432x288 with 1 Axes>"
      ]
     },
     "metadata": {
      "needs_background": "light"
     },
     "output_type": "display_data"
    }
   ],
   "source": [
    "y_scores = cross_val_predict(RandSearch.best_estimator_, X_train_44_red, y_train, cv=6, method='decision_function')\n",
    "print roc_auc_score(y_train, y_scores), \"ROC AUC for\"\n",
    "precision, recall, proba = precision_recall_curve(y_train, y_scores)\n",
    "plt_precision_vs_recall(precision, recall, title='SGD RFECV best features')"
   ]
  },
  {
   "cell_type": "code",
   "execution_count": 43,
   "metadata": {},
   "outputs": [],
   "source": [
    "SGD_inv = RandSearch.best_estimator_"
   ]
  },
  {
   "cell_type": "markdown",
   "metadata": {},
   "source": [
    "## Make predictions on test set"
   ]
  },
  {
   "cell_type": "markdown",
   "metadata": {},
   "source": [
    "### Train the models"
   ]
  },
  {
   "cell_type": "code",
   "execution_count": 44,
   "metadata": {},
   "outputs": [
    {
     "data": {
      "text/plain": [
       "SGDClassifier(alpha=0.00012100737190714552, average=False, class_weight=None,\n",
       "       early_stopping=False, epsilon=0.1, eta0=0.0, fit_intercept=True,\n",
       "       l1_ratio=0.15, learning_rate='optimal', loss='hinge', max_iter=None,\n",
       "       n_iter=None, n_iter_no_change=5, n_jobs=None, penalty='l1',\n",
       "       power_t=0.5, random_state=77, shuffle=True, tol=None,\n",
       "       validation_fraction=0.1, verbose=0, warm_start=False)"
      ]
     },
     "execution_count": 44,
     "metadata": {},
     "output_type": "execute_result"
    }
   ],
   "source": [
    "SGD_opt.fit(X_train_44_red, y_train)"
   ]
  },
  {
   "cell_type": "code",
   "execution_count": 45,
   "metadata": {},
   "outputs": [
    {
     "data": {
      "text/plain": [
       "SGDClassifier(alpha=0.0005892203698233472, average=False, class_weight=None,\n",
       "       early_stopping=False, epsilon=0.1, eta0=26.256751654630218,\n",
       "       fit_intercept=True, l1_ratio=0.15, learning_rate='adaptive',\n",
       "       loss='hinge', max_iter=None, n_iter=None, n_iter_no_change=5,\n",
       "       n_jobs=None, penalty='l1', power_t=0.5, random_state=77,\n",
       "       shuffle=True, tol=None, validation_fraction=0.1, verbose=0,\n",
       "       warm_start=False)"
      ]
     },
     "execution_count": 45,
     "metadata": {},
     "output_type": "execute_result"
    }
   ],
   "source": [
    "SGD_adapt.fit(X_train_44_red, y_train)"
   ]
  },
  {
   "cell_type": "code",
   "execution_count": 46,
   "metadata": {},
   "outputs": [
    {
     "data": {
      "text/plain": [
       "SGDClassifier(alpha=1.5781162887866865e-06, average=False, class_weight=None,\n",
       "       early_stopping=False, epsilon=0.1, eta0=6.999733775493985,\n",
       "       fit_intercept=True, l1_ratio=0.15, learning_rate='invscaling',\n",
       "       loss='hinge', max_iter=None, n_iter=None, n_iter_no_change=5,\n",
       "       n_jobs=None, penalty='l1', power_t=0.02425337308074562,\n",
       "       random_state=77, shuffle=True, tol=None, validation_fraction=0.1,\n",
       "       verbose=0, warm_start=False)"
      ]
     },
     "execution_count": 46,
     "metadata": {},
     "output_type": "execute_result"
    }
   ],
   "source": [
    "SGD_inv.fit(X_train_44_red,y_train)"
   ]
  },
  {
   "cell_type": "code",
   "execution_count": 47,
   "metadata": {},
   "outputs": [
    {
     "name": "stdout",
     "output_type": "stream",
     "text": [
      "ROC AUC for SGD learning rate \"optimal\" : 0.75\n",
      "ROC AUC for SGD,learning rate \"adopted\" : 0.8114035087719299\n",
      "ROC AUC for SGD,learning rate \"invscaling\" : 0.8114035087719298\n"
     ]
    },
    {
     "data": {
      "image/png": "[encoded data removed]",
      "text/plain": [
       "<Figure size 432x288 with 1 Axes>"
      ]
     },
     "metadata": {
      "needs_background": "light"
     },
     "output_type": "display_data"
    }
   ],
   "source": [
    "classifiers = [SGD_opt, SGD_adapt, SGD_inv]\n",
    "clf_names = ['SGD learning rate \"optimal\"', 'SGD,learning rate \"adopted\"', 'SGD,learning rate \"invscaling\"']\n",
    "colors = ['red', 'blue', 'green']\n",
    "for clf, label, color in zip(classifiers, clf_names, colors):\n",
    "    y_scores = clf.decision_function(X_test_44_red)\n",
    "    print \"ROC AUC for\", label, \":\", roc_auc_score(y_test, y_scores)\n",
    "    precision, recall, proba = precision_recall_curve(y_test, y_scores)\n",
    "    plt_precision_vs_recall(precision, recall, title='SGD model comparision', color=color, label=label)"
   ]
  },
  {
   "cell_type": "markdown",
   "metadata": {},
   "source": [
    "----"
   ]
  },
  {
   "cell_type": "markdown",
   "metadata": {},
   "source": [
    "### Address precision/ recall trade-off"
   ]
  },
  {
   "cell_type": "code",
   "execution_count": 48,
   "metadata": {},
   "outputs": [],
   "source": [
    "my_SGD_opt   = flex_classifier(SGD_opt, min_precision=0.35, min_recall=0.4, maximize='recall')\n",
    "my_SGD_adapt = flex_classifier(SGD_adapt, min_precision=0.35, min_recall=0.4, maximize='recall')\n",
    "my_SGD_inv   = flex_classifier(SGD_inv, min_precision=0.35, min_recall=0.4, maximize='recall')"
   ]
  },
  {
   "cell_type": "code",
   "execution_count": 49,
   "metadata": {},
   "outputs": [],
   "source": [
    "my_SGD_opt.fit(X_train_44_red, y_train)\n",
    "my_SGD_adapt.fit(X_train_44_red, y_train) \n",
    "my_SGD_inv.fit(X_train_44_red, y_train);"
   ]
  },
  {
   "cell_type": "markdown",
   "metadata": {},
   "source": [
    "#### Determine best threshold"
   ]
  },
  {
   "cell_type": "code",
   "execution_count": 50,
   "metadata": {},
   "outputs": [],
   "source": [
    "from sklearn.model_selection import StratifiedShuffleSplit"
   ]
  },
  {
   "cell_type": "code",
   "execution_count": 51,
   "metadata": {},
   "outputs": [],
   "source": [
    "cv = StratifiedShuffleSplit(n_splits=14, random_state=77, test_size=0.35)"
   ]
  },
  {
   "cell_type": "code",
   "execution_count": 52,
   "metadata": {},
   "outputs": [
    {
     "data": {
      "text/plain": [
       "(-22.28096379376656, 0.8333333333333334, 0.5555555555555556)"
      ]
     },
     "execution_count": 52,
     "metadata": {},
     "output_type": "execute_result"
    }
   ],
   "source": [
    "my_SGD_opt.det_threshold(X_train_44_red, y_train, replace=False)"
   ]
  },
  {
   "cell_type": "code",
   "execution_count": 53,
   "metadata": {},
   "outputs": [
    {
     "name": "stdout",
     "output_type": "stream",
     "text": [
      "SGD learning rate \"optimal\" : -19.839056331311337\n",
      "SGD,learning rate \"adopted\" : -59.863913137773686\n",
      "SGD,learning rate \"invscaling\" : -13.127204655755417\n"
     ]
    }
   ],
   "source": [
    "my_classifiers = [my_SGD_opt, my_SGD_adapt, my_SGD_inv]\n",
    "for classifier, name in zip(my_classifiers, clf_names):\n",
    "    thresholds = []\n",
    "    for train_idx, test_idx in cv.split(X_train_44_red, y_train):\n",
    "        X_train_ = X_train_44_red[train_idx]\n",
    "        X_test_  = X_train_44_red[test_idx]\n",
    "        y_train_ = y_train[train_idx]\n",
    "        y_test_  = y_train[test_idx]\n",
    "        #print my_SGD_opt.det_threshold(X_train_, y_train_, replace=False)\n",
    "        #print my_SGD_opt.feasibiliy\n",
    "        thresholds.append( list(classifier.det_threshold(X_train_, y_train_, replace=False)))\n",
    "    thresholds = np.array(thresholds)\n",
    "    best_threshold = thresholds[:,0].mean(axis=0)\n",
    "    classifier.threshold = best_threshold\n",
    "    print name, \":\", best_threshold"
   ]
  },
  {
   "cell_type": "markdown",
   "metadata": {},
   "source": [
    "#### Check model on test data"
   ]
  },
  {
   "cell_type": "code",
   "execution_count": 56,
   "metadata": {},
   "outputs": [
    {
     "name": "stdout",
     "output_type": "stream",
     "text": [
      "SGD learning rate \"optimal\"\n",
      "[[26 12]\n",
      " [ 3  3]]\n",
      "Recall: 0.5\n",
      "Precision 0.2\n",
      "SGD,learning rate \"adopted\"\n",
      "[[28 10]\n",
      " [ 2  4]]\n",
      "Recall: 0.6666666666666666\n",
      "Precision 0.2857142857142857\n",
      "SGD,learning rate \"invscaling\"\n",
      "[[30  8]\n",
      " [ 2  4]]\n",
      "Recall: 0.6666666666666666\n",
      "Precision 0.3333333333333333\n"
     ]
    }
   ],
   "source": [
    "for classifier, name in zip(my_classifiers, clf_names):\n",
    "    y_predict = classifier.predict(X_test_44_red)\n",
    "    print name\n",
    "    print confusion_matrix(y_test, y_predict)\n",
    "    print \"Recall:\", recall_score(y_test, y_predict)\n",
    "    print \"Precision\", precision_score(y_test, y_predict)"
   ]
  },
  {
   "cell_type": "markdown",
   "metadata": {},
   "source": [
    "----"
   ]
  },
  {
   "cell_type": "markdown",
   "metadata": {},
   "source": [
    "### Validate model"
   ]
  },
  {
   "cell_type": "code",
   "execution_count": 57,
   "metadata": {},
   "outputs": [
    {
     "data": {
      "text/plain": [
       "['salary',\n",
       " 'long_term_incentive',\n",
       " 'deferred_income',\n",
       " 'other',\n",
       " 'expenses',\n",
       " 'exercised_stock_options',\n",
       " 'total_stock_value',\n",
       " 'shared_receipt_with_poi',\n",
       " 'bonus_deferral_payments_rate',\n",
       " 'exer_stock_options_deferral_payments_rate',\n",
       " 'bonus_total_payments_rate',\n",
       " 'toPOI_rate']"
      ]
     },
     "execution_count": 57,
     "metadata": {},
     "output_type": "execute_result"
    }
   ],
   "source": [
    "selected_features = get_features(feature_list,  RFE_.ranking_ <= 1)\n",
    "selected_features"
   ]
  },
  {
   "cell_type": "code",
   "execution_count": 58,
   "metadata": {},
   "outputs": [],
   "source": [
    "# Features\n",
    "X_train_44_red_df = pd.DataFrame(X_train_44_red, columns=selected_features, index=insiders_train)\n",
    "X_test_44_red_df = pd.DataFrame(X_test_44_red, columns=selected_features, index=insiders_test)\n",
    "X_44_df = X_train_44_red_df.append(X_test_44_red_df, sort=False)\n",
    "\n",
    "# Labels\n",
    "y_df = y_train.append(y_test)\n",
    "\n",
    "# Combine features and labels \n",
    "my_dataset = X_44_df.copy()\n",
    "my_dataset.insert(0, column='poi', value=y_df)\n",
    "\n",
    "# Create dataset dict for validation\n",
    "my_dataset_dict = my_dataset.transpose().to_dict() "
   ]
  },
  {
   "cell_type": "code",
   "execution_count": 59,
   "metadata": {},
   "outputs": [
    {
     "name": "stdout",
     "output_type": "stream",
     "text": [
      "SGD learning rate \"optimal\"\n",
      "flex_classifier(classifier=SGDClassifier(alpha=0.00012100737190714552, average=False, class_weight=None,\n",
      "       early_stopping=False, epsilon=0.1, eta0=0.0, fit_intercept=True,\n",
      "       l1_ratio=0.15, learning_rate='optimal', loss='hinge', max_iter=None,\n",
      "       n_iter=None, n_iter_no_change=5, n_jobs=None, penalty='l1',\n",
      "       power_t=0.5, random_state=77, shuffle=True, tol=None,\n",
      "       validation_fraction=0.1, verbose=0, warm_start=False),\n",
      "        maximize='recall', min_precision=0.35, min_recall=0.4,\n",
      "        threshold=-19.839056331311337)\n",
      "\tAccuracy: 0.79293\tPrecision: 0.35871\tRecall: 0.70200\tF1: 0.47481\tF2: 0.58922\n",
      "\tTotal predictions: 15000\tTrue positives: 1404\tFalse positives: 2510\tFalse negatives:  596\tTrue negatives: 10490\n",
      "\n",
      "SGD,learning rate \"adopted\"\n",
      "flex_classifier(classifier=SGDClassifier(alpha=0.0005892203698233472, average=False, class_weight=None,\n",
      "       early_stopping=False, epsilon=0.1, eta0=26.256751654630218,\n",
      "       fit_intercept=True, l1_ratio=0.15, learning_rate='adaptive',\n",
      "       loss='hinge', max_iter=None, n_iter=None, n_iter_no_change=5,\n",
      "       n_jobs=None, penalty='l1', power_t=0.5, random_state=77,\n",
      "       shuffle=True, tol=None, validation_fraction=0.1, verbose=0,\n",
      "       warm_start=False),\n",
      "        maximize='recall', min_precision=0.35, min_recall=0.4,\n",
      "        threshold=-59.863913137773686)\n",
      "\tAccuracy: 0.79720\tPrecision: 0.35463\tRecall: 0.63550\tF1: 0.45523\tF2: 0.54860\n",
      "\tTotal predictions: 15000\tTrue positives: 1271\tFalse positives: 2313\tFalse negatives:  729\tTrue negatives: 10687\n",
      "\n",
      "SGD,learning rate \"invscaling\"\n",
      "flex_classifier(classifier=SGDClassifier(alpha=1.5781162887866865e-06, average=False, class_weight=None,\n",
      "       early_stopping=False, epsilon=0.1, eta0=6.999733775493985,\n",
      "       fit_intercept=True, l1_ratio=0.15, learning_rate='invscaling',\n",
      "       loss='hinge', max_iter=None, n_iter=None, n_iter_no_change=5,\n",
      "       n_jobs=None, penalty='l1', power_t=0.02425337308074562,\n",
      "       random_state=77, shuffle=True, tol=None, validation_fraction=0.1,\n",
      "       verbose=0, warm_start=False),\n",
      "        maximize='recall', min_precision=0.35, min_recall=0.4,\n",
      "        threshold=-13.127204655755417)\n",
      "\tAccuracy: 0.80633\tPrecision: 0.36284\tRecall: 0.59850\tF1: 0.45178\tF2: 0.52969\n",
      "\tTotal predictions: 15000\tTrue positives: 1197\tFalse positives: 2102\tFalse negatives:  803\tTrue negatives: 10898\n",
      "\n"
     ]
    }
   ],
   "source": [
    "# Dump data           \n",
    "for classifier, name in zip(my_classifiers, clf_names):\n",
    "    dump_classifier_and_data(classifier, my_dataset_dict, ['poi'] + selected_features)\n",
    "    clf, dataset, feature_list = load_classifier_and_data()\n",
    "    print name\n",
    "    test_classifier(clf, dataset, feature_list)"
   ]
  },
  {
   "cell_type": "markdown",
   "metadata": {},
   "source": [
    "---"
   ]
  },
  {
   "cell_type": "markdown",
   "metadata": {},
   "source": [
    "### Save best model"
   ]
  },
  {
   "cell_type": "code",
   "execution_count": 63,
   "metadata": {},
   "outputs": [],
   "source": [
    "with open(MODELS + \"SGD_model.pkl\", \"w\") as out:\n",
    "    pickle.dump(my_SGD_opt, out)"
   ]
  },
  {
   "cell_type": "code",
   "execution_count": 64,
   "metadata": {},
   "outputs": [],
   "source": [
    "with open(MODELS + \"SGD_features.pkl\", \"w\") as out:\n",
    "    pickle.dump(my_dataset_dict, out)"
   ]
  },
  {
   "cell_type": "code",
   "execution_count": 65,
   "metadata": {},
   "outputs": [],
   "source": [
    "with open(MODELS + \"SGD_feature_list.pkl\", \"w\") as out:\n",
    "    pickle.dump(['poi'] + selected_features, out)"
   ]
  }
 ],
 "metadata": {
  "kernelspec": {
   "display_name": "Python [conda env:py27]",
   "language": "python",
   "name": "conda-env-py27-py"
  },
  "language_info": {
   "codemirror_mode": {
    "name": "ipython",
    "version": 2
   },
   "file_extension": ".py",
   "mimetype": "text/x-python",
   "name": "python",
   "nbconvert_exporter": "python",
   "pygments_lexer": "ipython2",
   "version": "2.7.18"
  }
 },
 "nbformat": 4,
 "nbformat_minor": 4
}
